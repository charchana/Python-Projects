{
 "cells": [
  {
   "cell_type": "markdown",
   "metadata": {},
   "source": [
    "# Question 4\n",
    "\n",
    "- Under package nps_chat, see what files are in it.\n",
    "- Find 'user121' and see how many posts he posted in all.\n",
    "- Find out how many unique user in each age range group. (20s, 30s,...)(Hint: files' name)\n"
   ]
  },
  {
   "cell_type": "code",
   "execution_count": 10,
   "metadata": {
    "collapsed": true
   },
   "outputs": [],
   "source": [
    "import nltk"
   ]
  },
  {
   "cell_type": "code",
   "execution_count": 11,
   "metadata": {
    "collapsed": true
   },
   "outputs": [],
   "source": [
    "from nltk.corpus import nps_chat"
   ]
  },
  {
   "cell_type": "code",
   "execution_count": 12,
   "metadata": {
    "collapsed": false
   },
   "outputs": [
    {
     "data": {
      "text/plain": [
       "['10-19-20s_706posts.xml',\n",
       " '10-19-30s_705posts.xml',\n",
       " '10-19-40s_686posts.xml',\n",
       " '10-19-adults_706posts.xml',\n",
       " '10-24-40s_706posts.xml',\n",
       " '10-26-teens_706posts.xml',\n",
       " '11-06-adults_706posts.xml',\n",
       " '11-08-20s_705posts.xml',\n",
       " '11-08-40s_706posts.xml',\n",
       " '11-08-adults_705posts.xml',\n",
       " '11-08-teens_706posts.xml',\n",
       " '11-09-20s_706posts.xml',\n",
       " '11-09-40s_706posts.xml',\n",
       " '11-09-adults_706posts.xml',\n",
       " '11-09-teens_706posts.xml']"
      ]
     },
     "execution_count": 12,
     "metadata": {},
     "output_type": "execute_result"
    }
   ],
   "source": [
    "nltk.corpus.nps_chat.fileids() # Get all file names in webtext\n",
    "# merged = nps_chat.raw(fileids)\n"
   ]
  },
  {
   "cell_type": "code",
   "execution_count": 13,
   "metadata": {
    "collapsed": false
   },
   "outputs": [],
   "source": [
    "userList = []\n",
    "posts = nltk.corpus.nps_chat.xml_posts() # getting all the posts of the nps_chat\n",
    "# iterating through the posts to get the user attribute value\n",
    "for p in posts:\n",
    "    userList.append(p.attrib['user'])  # appending all the identified user values to the list\n"
   ]
  },
  {
   "cell_type": "code",
   "execution_count": 14,
   "metadata": {
    "collapsed": false
   },
   "outputs": [
    {
     "name": "stdout",
     "output_type": "stream",
     "text": [
      "The total number of posts User121 posted is : 132\n"
     ]
    }
   ],
   "source": [
    "user121 = []\n",
    "# iterating the list to get the user121\n",
    "for ends in userList:\n",
    "     if ends.endswith('121') : # checking whether the user name ends with 121\n",
    "        user121.append(ends) # if true adding to the list\n"
   ]
  },
  {
   "cell_type": "code",
   "execution_count": null,
   "metadata": {
    "collapsed": true
   },
   "outputs": [],
   "source": [
    "print('The total number of posts User121 posted is :', len(user121)) # printing the number of user121"
   ]
  },
  {
   "cell_type": "code",
   "execution_count": 15,
   "metadata": {
    "collapsed": false
   },
   "outputs": [],
   "source": [
    "# empty list creation to find users in different age group\n",
    "user20s = []\n",
    "user30s = []\n",
    "user40s = []\n",
    "userAdults = []\n",
    "userTeens = []"
   ]
  },
  {
   "cell_type": "code",
   "execution_count": 16,
   "metadata": {
    "collapsed": false
   },
   "outputs": [],
   "source": [
    "# iterating the posts to find the users in 20s, 30s, 40s, teens and adult age range\n",
    "for p in posts:\n",
    "    user = p.get('user') # fetching the user attribute value\n",
    "    if  user[6:9] =='20s':  \n",
    "        user20s.append(user) # 20s users are added to user20s list\n",
    "    if  user[6:9] =='30s':\n",
    "        user30s.append(user) # 30s users are added to user30s list\n",
    "    if  user[6:9] =='40s':\n",
    "        user40s.append(user) # 40s users are added to user2\\40s list\n",
    "    if  user[6:9] =='adu':\n",
    "        userAdults.append(user) # adults users are added to userAdults list\n",
    "    if  user[6:9] =='tee':\n",
    "        userTeens.append(user) # teens users are added to userTeens list\n"
   ]
  },
  {
   "cell_type": "code",
   "execution_count": null,
   "metadata": {
    "collapsed": true
   },
   "outputs": [],
   "source": [
    "# assiging the count of users of different age group to different varaibles\n",
    "user_20 = len(set(user20s))  \n",
    "user_30 = len(set(user30s))\n",
    "user_40 = len(set(user40s))\n",
    "user_adult = len(set(userAdults))\n",
    "user_teen = len(set(userTeens))"
   ]
  },
  {
   "cell_type": "code",
   "execution_count": 17,
   "metadata": {
    "collapsed": false
   },
   "outputs": [
    {
     "name": "stdout",
     "output_type": "stream",
     "text": [
      "Number users in 20s 305\n",
      "Number users in 30s 44\n",
      "Number users in 40s 228\n",
      "Number users in teens 357\n",
      "Number users in adults 443\n"
     ]
    }
   ],
   "source": [
    "# displaying the results f the age range\n",
    "print(\"Number of users in '20s' :\",user_20)\n",
    "print(\"Number of users in '30s' :\",user_30)\n",
    "print(\"Number of users in '40s' :\",user_40)\n",
    "print(\"Number of users in 'teens' :\",user_adult)\n",
    "print(\"Number of users in 'adults' :\",user_teen)"
   ]
  }
 ],
 "metadata": {
  "anaconda-cloud": {},
  "kernelspec": {
   "display_name": "Python [conda root]",
   "language": "python",
   "name": "conda-root-py"
  },
  "language_info": {
   "codemirror_mode": {
    "name": "ipython",
    "version": 3
   },
   "file_extension": ".py",
   "mimetype": "text/x-python",
   "name": "python",
   "nbconvert_exporter": "python",
   "pygments_lexer": "ipython3",
   "version": "3.5.2"
  }
 },
 "nbformat": 4,
 "nbformat_minor": 1
}
