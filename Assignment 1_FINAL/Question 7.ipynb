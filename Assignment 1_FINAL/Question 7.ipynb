{
 "cells": [
  {
   "cell_type": "markdown",
   "metadata": {},
   "source": [
    "# Question 7\n",
    "\n",
    "- Use Name corpus, calculate the probability of a name being of a male or female base on the last character(s) of name.\n",
    "- Sample steps:\n",
    "- 1.For char ‘a’:\n",
    "\t- total_names = sum(names ending with ‘a’)\n",
    "\t- male_names = sum(male names ending with ‘a’)\n",
    "\t- female_names = sum(female names ending with ‘a’)\n",
    "\t- Probability of name being male = 100 * male_names / total_names\n",
    "- 2.Do this for all characters. \n",
    "- Output must come with proper title (e.g. [a] male: 25%, female: 60%)"
   ]
  },
  {
   "cell_type": "code",
   "execution_count": 12,
   "metadata": {
    "collapsed": true
   },
   "outputs": [],
   "source": [
    "import nltk\n",
    "import string"
   ]
  },
  {
   "cell_type": "code",
   "execution_count": 6,
   "metadata": {
    "collapsed": false
   },
   "outputs": [],
   "source": [
    "from nltk.corpus import names"
   ]
  },
  {
   "cell_type": "code",
   "execution_count": 7,
   "metadata": {
    "collapsed": false
   },
   "outputs": [
    {
     "data": {
      "text/plain": [
       "['female.txt', 'male.txt']"
      ]
     },
     "execution_count": 7,
     "metadata": {},
     "output_type": "execute_result"
    }
   ],
   "source": [
    "names.fileids() # getting all the files from name"
   ]
  },
  {
   "cell_type": "code",
   "execution_count": 34,
   "metadata": {
    "collapsed": false
   },
   "outputs": [
    {
     "data": {
      "text/plain": [
       "5001"
      ]
     },
     "execution_count": 34,
     "metadata": {},
     "output_type": "execute_result"
    }
   ],
   "source": [
    "# calculating the total number of female names\n",
    "females = nltk.corpus.names.words('female.txt')\n",
    "print(\"Total females:\",len(females))"
   ]
  },
  {
   "cell_type": "code",
   "execution_count": 42,
   "metadata": {
    "collapsed": false
   },
   "outputs": [
    {
     "data": {
      "text/plain": [
       "2943"
      ]
     },
     "execution_count": 42,
     "metadata": {},
     "output_type": "execute_result"
    }
   ],
   "source": [
    "# calculating the total number of male names\n",
    "males = nltk.corpus.names.words('male.txt')\n",
    "print(\"Total females:\",len(males))"
   ]
  },
  {
   "cell_type": "code",
   "execution_count": 41,
   "metadata": {
    "collapsed": false
   },
   "outputs": [
    {
     "data": {
      "text/plain": [
       "7944"
      ]
     },
     "execution_count": 41,
     "metadata": {},
     "output_type": "execute_result"
    }
   ],
   "source": [
    "# calculating total female and male name\n",
    "totalNames = []\n",
    "totalNames.extend(females)\n",
    "totalNames.extend(males)\n",
    "total = len(totalNames)"
   ]
  },
  {
   "cell_type": "code",
   "execution_count": 18,
   "metadata": {
    "collapsed": false
   },
   "outputs": [],
   "source": [
    "# getting the 26 alphabets of english using string\n",
    "alphabets = []\n",
    "alphabets.extend(string.ascii_letters)"
   ]
  },
  {
   "cell_type": "code",
   "execution_count": 149,
   "metadata": {
    "collapsed": false
   },
   "outputs": [],
   "source": [
    "# nameEndingCheck function calculates the count of names ending with alphabet for the list of names and alphabets passed as input \n",
    "\n",
    "def nameEndingCheck(the_list,alpha):\n",
    "    total_names = 0\n",
    "    for f in the_list:\n",
    "        if f.endswith(alpha):\n",
    "            total_names = total_names + 1\n",
    "    return total_names # returning the total count"
   ]
  },
  {
   "cell_type": "code",
   "execution_count": 187,
   "metadata": {
    "collapsed": false
   },
   "outputs": [
    {
     "name": "stdout",
     "output_type": "stream",
     "text": [
      "For names ending with \" a \"\n",
      "\n",
      "Female: 1773\n",
      "Male: 29\n",
      "Total male and female: 1802\n",
      "Probability of female: 98.39 %\n",
      "Probability of male: 1.61 %\n",
      "---------------------------------------------------\n",
      "For names ending with \" b \"\n",
      "\n",
      "Female: 9\n",
      "Male: 21\n",
      "Total male and female: 30\n",
      "Probability of female: 30.0 %\n",
      "Probability of male: 70.0 %\n",
      "---------------------------------------------------\n",
      "For names ending with \" c \"\n",
      "\n",
      "Female: 0\n",
      "Male: 25\n",
      "Total male and female: 25\n",
      "Probability of female: 0.0 %\n",
      "Probability of male: 100.0 %\n",
      "---------------------------------------------------\n",
      "For names ending with \" d \"\n",
      "\n",
      "Female: 39\n",
      "Male: 228\n",
      "Total male and female: 267\n",
      "Probability of female: 14.61 %\n",
      "Probability of male: 85.39 %\n",
      "---------------------------------------------------\n",
      "For names ending with \" e \"\n",
      "\n",
      "Female: 1432\n",
      "Male: 468\n",
      "Total male and female: 1900\n",
      "Probability of female: 75.37 %\n",
      "Probability of male: 24.63 %\n",
      "---------------------------------------------------\n",
      "For names ending with \" f \"\n",
      "\n",
      "Female: 2\n",
      "Male: 25\n",
      "Total male and female: 27\n",
      "Probability of female: 7.41 %\n",
      "Probability of male: 92.59 %\n",
      "---------------------------------------------------\n",
      "For names ending with \" g \"\n",
      "\n",
      "Female: 10\n",
      "Male: 32\n",
      "Total male and female: 42\n",
      "Probability of female: 23.81 %\n",
      "Probability of male: 76.19 %\n",
      "---------------------------------------------------\n",
      "For names ending with \" h \"\n",
      "\n",
      "Female: 105\n",
      "Male: 93\n",
      "Total male and female: 198\n",
      "Probability of female: 53.03 %\n",
      "Probability of male: 46.97 %\n",
      "---------------------------------------------------\n",
      "For names ending with \" i \"\n",
      "\n",
      "Female: 317\n",
      "Male: 50\n",
      "Total male and female: 367\n",
      "Probability of female: 86.38 %\n",
      "Probability of male: 13.62 %\n",
      "---------------------------------------------------\n",
      "For names ending with \" j \"\n",
      "\n",
      "Female: 1\n",
      "Male: 3\n",
      "Total male and female: 4\n",
      "Probability of female: 25.0 %\n",
      "Probability of male: 75.0 %\n",
      "---------------------------------------------------\n",
      "For names ending with \" k \"\n",
      "\n",
      "Female: 3\n",
      "Male: 69\n",
      "Total male and female: 72\n",
      "Probability of female: 4.17 %\n",
      "Probability of male: 95.83 %\n",
      "---------------------------------------------------\n",
      "For names ending with \" l \"\n",
      "\n",
      "Female: 179\n",
      "Male: 187\n",
      "Total male and female: 366\n",
      "Probability of female: 48.91 %\n",
      "Probability of male: 51.09 %\n",
      "---------------------------------------------------\n",
      "For names ending with \" m \"\n",
      "\n",
      "Female: 13\n",
      "Male: 70\n",
      "Total male and female: 83\n",
      "Probability of female: 15.66 %\n",
      "Probability of male: 84.34 %\n",
      "---------------------------------------------------\n",
      "For names ending with \" n \"\n",
      "\n",
      "Female: 386\n",
      "Male: 478\n",
      "Total male and female: 864\n",
      "Probability of female: 44.68 %\n",
      "Probability of male: 55.32 %\n",
      "---------------------------------------------------\n",
      "For names ending with \" o \"\n",
      "\n",
      "Female: 33\n",
      "Male: 165\n",
      "Total male and female: 198\n",
      "Probability of female: 16.67 %\n",
      "Probability of male: 83.33 %\n",
      "---------------------------------------------------\n",
      "For names ending with \" p \"\n",
      "\n",
      "Female: 2\n",
      "Male: 18\n",
      "Total male and female: 20\n",
      "Probability of female: 10.0 %\n",
      "Probability of male: 90.0 %\n",
      "---------------------------------------------------\n",
      "No names are ending with \" q \"\n",
      "---------------------------------------------------\n",
      "For names ending with \" r \"\n",
      "\n",
      "Female: 47\n",
      "Male: 190\n",
      "Total male and female: 237\n",
      "Probability of female: 19.83 %\n",
      "Probability of male: 80.17 %\n",
      "---------------------------------------------------\n",
      "For names ending with \" s \"\n",
      "\n",
      "Female: 93\n",
      "Male: 230\n",
      "Total male and female: 323\n",
      "Probability of female: 28.79 %\n",
      "Probability of male: 71.21 %\n",
      "---------------------------------------------------\n",
      "For names ending with \" t \"\n",
      "\n",
      "Female: 68\n",
      "Male: 164\n",
      "Total male and female: 232\n",
      "Probability of female: 29.31 %\n",
      "Probability of male: 70.69 %\n",
      "---------------------------------------------------\n",
      "For names ending with \" u \"\n",
      "\n",
      "Female: 6\n",
      "Male: 12\n",
      "Total male and female: 18\n",
      "Probability of female: 33.33 %\n",
      "Probability of male: 66.67 %\n",
      "---------------------------------------------------\n",
      "For names ending with \" v \"\n",
      "\n",
      "Female: 2\n",
      "Male: 16\n",
      "Total male and female: 18\n",
      "Probability of female: 11.11 %\n",
      "Probability of male: 88.89 %\n",
      "---------------------------------------------------\n",
      "For names ending with \" w \"\n",
      "\n",
      "Female: 5\n",
      "Male: 17\n",
      "Total male and female: 22\n",
      "Probability of female: 22.73 %\n",
      "Probability of male: 77.27 %\n",
      "---------------------------------------------------\n",
      "For names ending with \" x \"\n",
      "\n",
      "Female: 10\n",
      "Male: 10\n",
      "Total male and female: 20\n",
      "Probability of female: 50.0 %\n",
      "Probability of male: 50.0 %\n",
      "---------------------------------------------------\n",
      "For names ending with \" y \"\n",
      "\n",
      "Female: 461\n",
      "Male: 332\n",
      "Total male and female: 793\n",
      "Probability of female: 58.13 %\n",
      "Probability of male: 41.87 %\n",
      "---------------------------------------------------\n",
      "For names ending with \" z \"\n",
      "\n",
      "Female: 4\n",
      "Male: 11\n",
      "Total male and female: 15\n",
      "Probability of female: 26.67 %\n",
      "Probability of male: 73.33 %\n",
      "---------------------------------------------------\n"
     ]
    }
   ],
   "source": [
    "sums = 0\n",
    "alphaStop = 0\n",
    "for alpha in alphabets: # loop all the alphabets \n",
    "    alphaStop = alphaStop + 1 # incrementing the varaible to check whether lowercase alphabets are completed\n",
    "    if alphaStop <= 26: # if it reaches 26 break the loop\n",
    "        f = nameEndingCheck(females,alpha)  # calling the function to get the count of females ending with iterating alpha  \n",
    "        m = nameEndingCheck(males,alpha)  # calling the function to get the count of males ending with iterating alphabet\n",
    "        sums = f + m  # summing all the males and females of iterating alphabet\n",
    "        if sums == 0 : # to avoid divide by zero error\n",
    "            print('No names are ending with \"', alpha, '\"')\n",
    "            print(\"---------------------------------------------------\")\n",
    "        else:\n",
    "            print('For names ending with \"', alpha, '\"\\n')\n",
    "            print('Female:', f)\n",
    "            print('Male:', m)\n",
    "            print('Total male and female:',sums)\n",
    "            probOfFemale = round(100 * f/sums, 2) # calculating the probability of females and rounding to 2 decimal places\n",
    "            print('Probability of female:', probOfFemale,\"%\" )\n",
    "            probOfMale = round(100 - probOfFemale,2) # calculating the probability of males and rounding to 2 decimal places\n",
    "            print('Probability of male:', probOfMale,\"%\")\n",
    "            print(\"---------------------------------------------------\")\n",
    "    else:\n",
    "            break"
   ]
  }
 ],
 "metadata": {
  "anaconda-cloud": {},
  "kernelspec": {
   "display_name": "Python [conda root]",
   "language": "python",
   "name": "conda-root-py"
  },
  "language_info": {
   "codemirror_mode": {
    "name": "ipython",
    "version": 3
   },
   "file_extension": ".py",
   "mimetype": "text/x-python",
   "name": "python",
   "nbconvert_exporter": "python",
   "pygments_lexer": "ipython3",
   "version": "3.5.2"
  }
 },
 "nbformat": 4,
 "nbformat_minor": 1
}
