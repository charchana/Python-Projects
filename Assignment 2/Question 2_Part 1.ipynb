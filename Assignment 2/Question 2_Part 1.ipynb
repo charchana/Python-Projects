{
 "cells": [
  {
   "cell_type": "code",
   "execution_count": null,
   "metadata": {
    "collapsed": false
   },
   "outputs": [],
   "source": [
    "import json\n",
    "import glob\n",
    "import os\n",
    "import shutil\n",
    "path = \"D:\\SEM 2\\Python\\Assignments\\chintha_archana_spring2017\\Assignment 2\"\n",
    "configfiles = glob.glob(\"D:\\SEM 2\\Python\\DataAnalysis4Python_Spring17\\Assignment 2\\Data\\*.json\")"
   ]
  },
  {
   "cell_type": "code",
   "execution_count": null,
   "metadata": {
    "collapsed": true
   },
   "outputs": [],
   "source": [
    "def ensure_dir(file_path):\n",
    "    if not os.path.exists(file_path):\n",
    "        os.makedirs(file_path)"
   ]
  },
  {
   "cell_type": "code",
   "execution_count": null,
   "metadata": {
    "collapsed": true
   },
   "outputs": [],
   "source": [
    "dataFolder = os.path.join(path + '\\\\' + 'Data Processed')\n",
    "ensure_dir(dataFolder)"
   ]
  },
  {
   "cell_type": "code",
   "execution_count": null,
   "metadata": {
    "collapsed": false
   },
   "outputs": [],
   "source": [
    "openHours = []\n",
    "restuarants = []\n",
    "for file in configfiles:\n",
    "    with open(file) as json_file:\n",
    "        json_data = json.load(json_file)\n",
    "        location = json_data['location']\n",
    "        term = json_data['term']\n",
    "        country = location['country']\n",
    "        state = location['state']\n",
    "        city = location['city']\n",
    "        directory = os.path.join(dataFolder + '\\\\' + country)\n",
    "        subdirectory = os.path.join(directory + '\\\\' + state)\n",
    "        subsubdirectory = os.path.join(subdirectory + '\\\\' + city)\n",
    "        subsubsubdirectory = os.path.join(subsubdirectory + '\\\\' + term)\n",
    "        ensure_dir(directory)\n",
    "        ensure_dir(subdirectory)\n",
    "        ensure_dir(subsubdirectory)\n",
    "        ensure_dir(subsubsubdirectory)\n",
    "        shutil.copy(file, subsubsubdirectory)  \n",
    "        \n",
    "        "
   ]
  }
 ],
 "metadata": {
  "anaconda-cloud": {},
  "kernelspec": {
   "display_name": "Python [conda root]",
   "language": "python",
   "name": "conda-root-py"
  },
  "language_info": {
   "codemirror_mode": {
    "name": "ipython",
    "version": 3
   },
   "file_extension": ".py",
   "mimetype": "text/x-python",
   "name": "python",
   "nbconvert_exporter": "python",
   "pygments_lexer": "ipython3",
   "version": "3.5.2"
  }
 },
 "nbformat": 4,
 "nbformat_minor": 1
}
