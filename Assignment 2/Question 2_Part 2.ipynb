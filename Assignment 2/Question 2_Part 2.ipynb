{
 "cells": [
  {
   "cell_type": "markdown",
   "metadata": {},
   "source": [
    "# Question 2 : Part 2\n",
    "- "
   ]
  },
  {
   "cell_type": "code",
   "execution_count": 223,
   "metadata": {
    "collapsed": true
   },
   "outputs": [],
   "source": [
    "import json\n",
    "import glob\n",
    "import os\n",
    "import shutil\n",
    "import re\n",
    "path = \"D:\\SEM 2\\Python\\Assignments\\Assignment 2\"\n",
    "configfiles = glob.glob(\"D:\\SEM 2\\Python\\DataAnalysis4Python_Spring17\\Assignment 2\\Data\\*.json\")\n",
    "resfiles = glob.glob(\"D:\\SEM 2\\Python\\Assignments\\Assignment 2\\Restuarants\\*.json\")"
   ]
  },
  {
   "cell_type": "code",
   "execution_count": 168,
   "metadata": {
    "collapsed": true
   },
   "outputs": [],
   "source": [
    "def ensure_dir(file_path):\n",
    "    if not os.path.exists(file_path):\n",
    "        os.makedirs(file_path)"
   ]
  },
  {
   "cell_type": "code",
   "execution_count": 169,
   "metadata": {
    "collapsed": false
   },
   "outputs": [],
   "source": [
    "for file in configfiles:\n",
    "    with open(file) as json_file:\n",
    "        json_data = json.load(json_file)\n",
    "        if json_data['term'] == 'restaurants':\n",
    "            directory = os.path.join(path + '\\\\' + 'Restuarants')\n",
    "            ensure_dir(directory)\n",
    "            shutil.copy(file, directory)"
   ]
  },
  {
   "cell_type": "code",
   "execution_count": 249,
   "metadata": {
    "collapsed": false
   },
   "outputs": [],
   "source": [
    "openHours = []\n",
    "for file in resfiles:\n",
    "    with open(file) as json_file:\n",
    "        json_data = json.load(json_file)\n",
    "        for key, value in json_data.items():\n",
    "            if key == 'name':\n",
    "                name = value\n",
    "            if key == 'location':\n",
    "                country = value.get('country')\n",
    "                city = value.get('city')\n",
    "            if key == 'hours':\n",
    "                hours = value\n",
    "                for each in hours:\n",
    "                    openWeeks = each['open']\n",
    "                    for day in openWeeks:\n",
    "                        days = day.get('day')\n",
    "                        startTime =  day.get('start')\n",
    "                        endTime = day.get('end')\n",
    "                        startHrAndMin = re.findall('..',startTime)\n",
    "                        endHrAndMin = re.findall('..',endTime)\n",
    "                        h = []\n",
    "                        h.append(name)\n",
    "                        h.append(city)\n",
    "                        h.append(country)\n",
    "                        h.append(days)\n",
    "                        h.extend(startHrAndMin)\n",
    "                        h.extend(endHrAndMin)\n",
    "                        openHours.append(h)\n",
    "                        \n",
    "\n",
    "                            \n",
    "        "
   ]
  },
  {
   "cell_type": "code",
   "execution_count": 271,
   "metadata": {
    "collapsed": false
   },
   "outputs": [],
   "source": [
    "import xlsxwriter\n",
    "\n",
    "def output(filename, sheet, openHours):\n",
    "# Create a workbook and add a worksheet.\n",
    "    workbook = xlsxwriter.Workbook(excelPath)\n",
    "    worksheet = workbook.add_worksheet(sheet)\n",
    "    \n",
    "    header_format = workbook.add_format()\n",
    "    data_format = workbook.add_format()\n",
    "\n",
    "    \n",
    "    header_format.set_font_name('Calibri')\n",
    "    header_format.set_align('center')\n",
    "    header_format.set_align('vcenter')\n",
    "    header_format.set_bg_color('orange')\n",
    "    header_format.set_border()\n",
    "    header_format.set_bold()\n",
    "    \n",
    "    data_format.set_font_name('Calibri')\n",
    "    data_format.set_align('center')\n",
    "    data_format.set_align('vcenter')\n",
    "    data_format.set_border()\n",
    "    \n",
    "        \n",
    "    col1_Name = 'NAME OF RESTAURANT'\n",
    "    col2_Name = 'CITY'\n",
    "    col3_Name = 'COUNTRY CODE'\n",
    "    col4_Name = 'DAY OF WEEK'\n",
    "    col5_Name = 'START TIME HOUR'\n",
    "    col6_Name = 'START TIME MINUTE'\n",
    "    col7_Name = 'END TIME HOUR'\n",
    "    col8_Name = 'END TIME MINUTE'\n",
    "    \n",
    "    worksheet.set_column('A:A', 50)\n",
    "    worksheet.set_column('B:H', 15)\n",
    "\n",
    "    worksheet.write(0, 0, col1_Name, header_format)\n",
    "    worksheet.write(0, 1, col2_Name, header_format)\n",
    "    worksheet.write(0, 2, col3_Name, header_format)\n",
    "    worksheet.write(0, 3, col4_Name, header_format)\n",
    "    worksheet.write(0, 4, col5_Name, header_format)\n",
    "    worksheet.write(0, 5, col6_Name, header_format)\n",
    "    worksheet.write(0, 6, col7_Name, header_format)\n",
    "    worksheet.write(0, 7, col8_Name, header_format)\n",
    "    \n",
    "# Start from the first cell.\n",
    "    \n",
    "    row = 1\n",
    "\n",
    "# Iterate over the data and write it out row by row.\n",
    "    for n in openHours:\n",
    "        worksheet.write(row, 0, n[0], data_format)\n",
    "        worksheet.write(row, 1, n[1], data_format)\n",
    "        worksheet.write(row, 2, n[2], data_format)\n",
    "        worksheet.write(row, 3, n[3], data_format)\n",
    "        worksheet.write(row, 4, n[4], data_format)\n",
    "        worksheet.write(row, 5, n[5], data_format)\n",
    "        worksheet.write(row, 6, n[6], data_format)\n",
    "        worksheet.write(row, 7, n[7], data_format)\n",
    "        row += 1\n",
    "\n",
    "    workbook.close()"
   ]
  },
  {
   "cell_type": "code",
   "execution_count": 272,
   "metadata": {
    "collapsed": false
   },
   "outputs": [],
   "source": [
    "excelPath = os.path.join(path + '\\\\' + 'Restuarants.xlsx')\n",
    "if not os.path.exists(excelPath):\n",
    "    output(excelPath, 'Restuarants', openHours)"
   ]
  }
 ],
 "metadata": {
  "anaconda-cloud": {},
  "kernelspec": {
   "display_name": "Python [conda root]",
   "language": "python",
   "name": "conda-root-py"
  },
  "language_info": {
   "codemirror_mode": {
    "name": "ipython",
    "version": 3
   },
   "file_extension": ".py",
   "mimetype": "text/x-python",
   "name": "python",
   "nbconvert_exporter": "python",
   "pygments_lexer": "ipython3",
   "version": "3.5.2"
  }
 },
 "nbformat": 4,
 "nbformat_minor": 1
}
