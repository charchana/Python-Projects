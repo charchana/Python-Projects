{
 "cells": [
  {
   "cell_type": "markdown",
   "metadata": {},
   "source": [
    "# Question 2 : Part 1\n",
    "- Read all the json files in the folder called Data.\n",
    "\n",
    "  - There are three categories of json files in this folder. They are identified by the key called “term” in each of the json file. \n",
    "  - Create a folder structure to read all these json files and store them into these separate folders. You are expected to create a hierarchy of folder structure. (You could use these keys to create hierarchy and store json files: Country, city, categories) "
   ]
  },
  {
   "cell_type": "code",
   "execution_count": 1,
   "metadata": {
    "collapsed": false
   },
   "outputs": [],
   "source": [
    "# importing all the packages needed \n",
    "import json\n",
    "import glob\n",
    "import os\n",
    "import shutil"
   ]
  },
  {
   "cell_type": "code",
   "execution_count": 2,
   "metadata": {
    "collapsed": false
   },
   "outputs": [],
   "source": [
    "path = os.getcwd() # getting the path of current working directory to create the folder structure\n",
    "configfiles = glob.glob(os.path.join(os.getcwd() + '\\Data' + '\\*.json')) # getting the path of the json files to be read"
   ]
  },
  {
   "cell_type": "code",
   "execution_count": 3,
   "metadata": {
    "collapsed": false
   },
   "outputs": [],
   "source": [
    "# check whether the directory is already created if not this function creates it\n",
    "def dir_check(file_path):\n",
    "    if not os.path.exists(file_path):\n",
    "        os.makedirs(file_path) # creates the complete folder structure"
   ]
  },
  {
   "cell_type": "code",
   "execution_count": 4,
   "metadata": {
    "collapsed": false
   },
   "outputs": [],
   "source": [
    "dataFolder = os.path.join(path + '\\\\' + 'Data Processed_Archana_Chintha') # the main folder path is created where the structure to be formed"
   ]
  },
  {
   "cell_type": "code",
   "execution_count": 5,
   "metadata": {
    "collapsed": false
   },
   "outputs": [],
   "source": [
    "# creation of folders based on the heirarchy(Country,State,City,Categories) by reading the json data of the files \n",
    "def createFolderStruct(configfiles):\n",
    "    for file in configfiles:\n",
    "        with open(file) as json_file:\n",
    "            json_data = json.load(json_file) # reading the json data\n",
    "            location = json_data['location'] # finding the location key \n",
    "            term = json_data['term'] # finding the term key\n",
    "            country = location['country'] # finding the country key\n",
    "            state = location['state'] # finding the state key\n",
    "            city = location['city'] # finding the city key\n",
    "            directory = os.path.join(dataFolder + '\\\\' + country) # creating the path for country\n",
    "            subdirectory = os.path.join(directory + '\\\\' + state) # creating the path for state\n",
    "            subsubdirectory = os.path.join(subdirectory + '\\\\' + city) # creating the path for city\n",
    "            subsubsubdirectory = os.path.join(subsubdirectory + '\\\\' + term) # creating the path for term\n",
    "            dir_check(subsubsubdirectory) # checking the whole heirarchy is present if not creating it \n",
    "            shutil.copy(file, subsubsubdirectory) # copying the files to the last categories folder     "
   ]
  },
  {
   "cell_type": "code",
   "execution_count": 6,
   "metadata": {
    "collapsed": false
   },
   "outputs": [],
   "source": [
    "createFolderStruct(configfiles) # calling the function by passing the json files path"
   ]
  },
  {
   "cell_type": "code",
   "execution_count": null,
   "metadata": {
    "collapsed": true
   },
   "outputs": [],
   "source": []
  }
 ],
 "metadata": {
  "anaconda-cloud": {},
  "kernelspec": {
   "display_name": "Python [conda root]",
   "language": "python",
   "name": "conda-root-py"
  },
  "language_info": {
   "codemirror_mode": {
    "name": "ipython",
    "version": 3
   },
   "file_extension": ".py",
   "mimetype": "text/x-python",
   "name": "python",
   "nbconvert_exporter": "python",
   "pygments_lexer": "ipython3",
   "version": "3.5.2"
  }
 },
 "nbformat": 4,
 "nbformat_minor": 1
}
