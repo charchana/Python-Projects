{
 "cells": [
  {
   "cell_type": "code",
   "execution_count": 1,
   "metadata": {
    "collapsed": false
   },
   "outputs": [],
   "source": [
    "import json\n",
    "import glob\n",
    "import os\n",
    "import shutil\n",
    "import re\n",
    "import nltk\n",
    "import string\n",
    "import math\n",
    "import csv\n",
    "import matplotlib.pyplot as plt\n",
    "from operator import itemgetter\n",
    "path = \"D:\\SEM 2\\Python\\Assignments\\chintha_archana_spring2017\\Assignment 2\"\n",
    "configfiles = glob.glob(r\"C:\\Users\\chint\\AppData\\Roaming\\nltk_data\\corpora\\gutenberg\\*.txt\")"
   ]
  },
  {
   "cell_type": "code",
   "execution_count": 2,
   "metadata": {
    "collapsed": false
   },
   "outputs": [],
   "source": [
    "import re\n",
    "def getWords(text):\n",
    "    return re.compile('[A-Za-z]+').findall(text)"
   ]
  },
  {
   "cell_type": "code",
   "execution_count": 3,
   "metadata": {
    "collapsed": false
   },
   "outputs": [],
   "source": [
    "def dataProcessing(data):\n",
    "    totalWords = getWords(data)\n",
    "    lowerWords = []\n",
    "    for word in totalWords:\n",
    "        lowerWords.append(word.lower())\n",
    "    return lowerWords"
   ]
  },
  {
   "cell_type": "code",
   "execution_count": 4,
   "metadata": {
    "collapsed": false
   },
   "outputs": [],
   "source": [
    "def frequencyRankCalculation(totalWords):\n",
    "    uniqueWords = {}\n",
    "    for word in totalWords: # Loop all the words\n",
    "            if word not in uniqueWords:\n",
    "                uniqueWords[word] = 1   # if the word is not in the dictionary adding the word and setting a count\n",
    "            else:\n",
    "                uniqueWords[word] += 1  # incrementing the count if it's already presnt\n",
    "    sortedFreq = sorted(uniqueWords.items(), key=itemgetter(1),reverse=True) \n",
    "    listOfWords = [list(elem) for elem in sortedFreq]\n",
    "    for count,elem in enumerate(listOfWords,1):\n",
    "        elem.append(count)\n",
    "    return listOfWords"
   ]
  },
  {
   "cell_type": "code",
   "execution_count": 5,
   "metadata": {
    "collapsed": true
   },
   "outputs": [],
   "source": [
    "def zipfFormula(list1, totalNoWords):\n",
    "    for element in list1: \n",
    "        probabilityOfR = element[1]/totalNoWords\n",
    "        element.append(probabilityOfR)\n",
    "        A = element[2]*element[3]\n",
    "        element.append(A)\n",
    "        rFreq = element[1]*element[2]\n",
    "        element.append(rFreq)\n",
    "        aMulN = element[4]*totalNoWords\n",
    "        element.append(aMulN)\n",
    "        logRank = math.log(element[2])\n",
    "        element.append(logRank)\n",
    "        logFreq = math.log(element[1])\n",
    "        element.append(logFreq)     \n",
    "    return list1"
   ]
  },
  {
   "cell_type": "code",
   "execution_count": 6,
   "metadata": {
    "collapsed": false
   },
   "outputs": [],
   "source": [
    "def top20PercentWords(totalWords):\n",
    "    top20Percent = []\n",
    "    lengthOfWords = lambda totalWords: len(totalWords)\n",
    "    total = lengthOfWords(totalWords)\n",
    "    twentyPercent = (20 * total)/100\n",
    "    #print(twentyPercent)\n",
    "    #top20Percent = totalWords[0:twentyPercent]\n",
    "    #print(a)\n",
    "    #return top20Percent"
   ]
  },
  {
   "cell_type": "code",
   "execution_count": 7,
   "metadata": {
    "collapsed": false
   },
   "outputs": [],
   "source": [
    "def gutenbergFile(configfiles):\n",
    "    allFilesZipf = {}\n",
    "    #print(configfiles)\n",
    "    for file in configfiles:\n",
    "        with open(file) as json_file:\n",
    "            fileName = os.path.basename(file)\n",
    "            data = json_file.read()\n",
    "            totalWords = dataProcessing(data)\n",
    "            listOfWords = frequencyRankCalculation(totalWords) \n",
    "            zipfLaw = zipfFormula(listOfWords, len(totalWords))\n",
    "            top20PercentWords(listOfWords)\n",
    "            if fileName not in allFilesZipf:\n",
    "                    allFilesZipf[fileName] = zipfLaw\n",
    "    return allFilesZipf"
   ]
  },
  {
   "cell_type": "code",
   "execution_count": 8,
   "metadata": {
    "collapsed": false
   },
   "outputs": [],
   "source": [
    "gutenberg = gutenbergFile(configfiles)"
   ]
  },
  {
   "cell_type": "code",
   "execution_count": 9,
   "metadata": {
    "collapsed": false,
    "scrolled": true
   },
   "outputs": [
    {
     "name": "stdout",
     "output_type": "stream",
     "text": [
      "r * freq = A * N\n",
      "-------------------------------\n",
      "\n",
      "File Name: melville-moby_dick.txt \n",
      "\n",
      "14431 = 14430.999999999998\n",
      "13218 = 13218.0\n",
      "19290 = 19290.0\n",
      "18944 = 18944.0\n",
      "23125 = 23125.0\n",
      "\n",
      "\n",
      "r * freq = A * N\n",
      "-------------------------------\n",
      "\n",
      "File Name: carroll-alice.txt \n",
      "\n",
      "1642 = 1642.0\n",
      "1744 = 1744.0\n",
      "2187 = 2187.0000000000005\n",
      "2528 = 2528.0\n",
      "2975 = 2975.0\n",
      "\n",
      "\n",
      "r * freq = A * N\n",
      "-------------------------------\n",
      "\n",
      "File Name: chesterton-thursday.txt \n",
      "\n",
      "3636 = 3636.0\n",
      "3484 = 3484.0\n",
      "5175 = 5175.0\n",
      "6632 = 6632.0\n",
      "5630 = 5629.999999999999\n",
      "\n",
      "\n",
      "r * freq = A * N\n",
      "-------------------------------\n",
      "\n",
      "File Name: edgeworth-parents.txt \n",
      "\n",
      "7728 = 7727.999999999999\n",
      "10440 = 10440.0\n",
      "14949 = 14949.0\n",
      "14980 = 14980.0\n",
      "18370 = 18370.0\n",
      "\n",
      "\n",
      "r * freq = A * N\n",
      "-------------------------------\n",
      "\n",
      "File Name: austen-emma.txt \n",
      "\n",
      "5242 = 5242.000000000001\n",
      "10408 = 10408.0\n",
      "14691 = 14691.000000000002\n",
      "17172 = 17172.0\n",
      "15960 = 15960.000000000002\n",
      "\n",
      "\n",
      "r * freq = A * N\n",
      "-------------------------------\n",
      "\n",
      "File Name: chesterton-brown.txt \n",
      "\n",
      "4670 = 4670.0\n",
      "4442 = 4442.0\n",
      "6396 = 6396.0\n",
      "8372 = 8372.0\n",
      "6955 = 6955.0\n",
      "\n",
      "\n",
      "r * freq = A * N\n",
      "-------------------------------\n",
      "\n",
      "File Name: whitman-leaves.txt \n",
      "\n",
      "10113 = 10113.0\n",
      "10668 = 10668.0\n",
      "12795 = 12794.999999999998\n",
      "11732 = 11732.0\n",
      "11220 = 11220.0\n",
      "\n",
      "\n",
      "r * freq = A * N\n",
      "-------------------------------\n",
      "\n",
      "File Name: chesterton-ball.txt \n",
      "\n",
      "4981 = 4981.0\n",
      "5334 = 5334.0\n",
      "7665 = 7665.0\n",
      "9052 = 9052.0\n",
      "7900 = 7899.999999999999\n",
      "\n",
      "\n",
      "r * freq = A * N\n",
      "-------------------------------\n",
      "\n",
      "File Name: austen-persuasion.txt \n",
      "\n",
      "3329 = 3329.0\n",
      "5616 = 5616.0\n",
      "8403 = 8403.0\n",
      "10280 = 10280.0\n",
      "7975 = 7974.999999999999\n",
      "\n",
      "\n",
      "r * freq = A * N\n",
      "-------------------------------\n",
      "\n",
      "File Name: burgess-busterbrown.txt \n",
      "\n",
      "678 = 678.0\n",
      "1320 = 1320.0\n",
      "1548 = 1548.0\n",
      "1744 = 1744.0\n",
      "1710 = 1710.0\n",
      "\n",
      "\n",
      "r * freq = A * N\n",
      "-------------------------------\n",
      "\n",
      "File Name: blake-poems.txt \n",
      "\n",
      "439 = 439.0\n",
      "696 = 696.0\n",
      "438 = 438.0\n",
      "564 = 564.0\n",
      "650 = 650.0\n",
      "\n",
      "\n",
      "r * freq = A * N\n",
      "-------------------------------\n",
      "\n",
      "File Name: bryant-stories.txt \n",
      "\n",
      "3452 = 3452.0\n",
      "4198 = 4198.0\n",
      "3540 = 3540.0\n",
      "4144 = 4144.0\n",
      "5105 = 5105.0\n",
      "\n",
      "\n",
      "r * freq = A * N\n",
      "-------------------------------\n",
      "\n",
      "File Name: bible-kjv.txt \n",
      "\n",
      "64023 = 64023.0\n",
      "103392 = 103392.0\n",
      "104010 = 104010.00000000001\n",
      "54320 = 54319.99999999999\n",
      "64560 = 64559.99999999999\n",
      "\n",
      "\n",
      "r * freq = A * N\n",
      "-------------------------------\n",
      "\n",
      "File Name: shakespeare-macbeth.txt \n",
      "\n",
      "650 = 650.0\n",
      "1092 = 1092.0\n",
      "1152 = 1152.0\n",
      "1392 = 1392.0\n",
      "1690 = 1689.9999999999998\n",
      "\n",
      "\n",
      "r * freq = A * N\n",
      "-------------------------------\n",
      "\n",
      "File Name: austen-sense.txt \n",
      "\n",
      "4116 = 4116.0\n",
      "8210 = 8210.0\n",
      "10716 = 10716.0\n",
      "13964 = 13964.0\n",
      "12755 = 12755.0\n",
      "\n",
      "\n",
      "r * freq = A * N\n",
      "-------------------------------\n",
      "\n",
      "File Name: shakespeare-caesar.txt \n",
      "\n",
      "627 = 627.0\n",
      "1158 = 1158.0\n",
      "1599 = 1599.0\n",
      "1784 = 1784.0\n",
      "1955 = 1955.0\n",
      "\n",
      "\n",
      "r * freq = A * N\n",
      "-------------------------------\n",
      "\n",
      "File Name: milton-paradise.txt \n",
      "\n",
      "3395 = 3394.9999999999995\n",
      "5936 = 5936.0\n",
      "6684 = 6684.0\n",
      "8200 = 8200.0\n",
      "6830 = 6830.0\n",
      "\n",
      "\n",
      "r * freq = A * N\n",
      "-------------------------------\n",
      "\n",
      "File Name: shakespeare-hamlet.txt \n",
      "\n",
      "993 = 993.0000000000001\n",
      "1726 = 1726.0\n",
      "2055 = 2055.0\n",
      "2440 = 2440.0\n",
      "2870 = 2870.0\n",
      "\n",
      "\n"
     ]
    }
   ],
   "source": [
    "for key,value in gutenberg.items():\n",
    "    print(\"r * freq\", \"=\", \"A * N\")\n",
    "    print(\"-------------------------------\\n\")\n",
    "    print(\"File Name:\", key, '\\n')\n",
    "    for each in value[0:5]:\n",
    "        print(each[5], \"=\" ,each[6])\n",
    "    print(\"\\n\")\n",
    "    \n",
    "    "
   ]
  },
  {
   "cell_type": "code",
   "execution_count": 20,
   "metadata": {
    "collapsed": true
   },
   "outputs": [],
   "source": [
    "def graphWithMatplotlib(gutenberg, filename):\n",
    "    x = []\n",
    "    y = []\n",
    "    a = []\n",
    "    b = []\n",
    "    imagesList = []\n",
    "    print(\"Zipf's Law holds true for the file : \", filename)\n",
    "    for key,value in gutenberg.items():\n",
    "        if key == filename:\n",
    "            for each in value:\n",
    "                a.append(each[2])\n",
    "                b.append(each[1])\n",
    "                x.append(each[7])\n",
    "                y.append(each[8])   \n",
    "    plt.xlabel('Rank')\n",
    "    plt.ylabel('Frequency')\n",
    "    plt.title(\"ZIPF'S LAW\")\n",
    "    plt.grid(True)\n",
    "    plt.xlim( 0, 10000 )    # set the xlim to xmin, xmax\n",
    "    ymin, ymax = plt.ylim()   # return the current xlim\n",
    "    plt.ylim( 0, 4000 )    # set the xlim to xmin, xmax\n",
    "    freqRank = plt.scatter(a,b,20,[1,0,1])\n",
    "    imgPath1 = os.path.join(path + '\\\\'+ filename + 'fig1' + \".jpeg\")\n",
    "    plt.savefig(imgPath1)\n",
    "    imagesList.append(imgPath1)\n",
    "    excelPath = os.path.join(path + '\\\\' + 'gutenbergGraphs.xlsx')\n",
    "    plt.show()\n",
    "    plt.xlabel('log (Rank)')\n",
    "    plt.ylabel('log (Frequency)')\n",
    "    plt.title(\"ZIPF'S LAW\")\n",
    "    plt.grid(True)\n",
    "    plt.xlim( 0, 9 )    # set the xlim to xmin, xmax\n",
    "    ymin, ymax = plt.ylim()   # return the current xlim\n",
    "    plt.ylim( 0, 9 )    # set the xlim to xmin, xmax\n",
    "\n",
    "    logRankFrq = plt.scatter(x,y,20,[1 , 0, 0])\n",
    "    imgPath2 = os.path.join(path + '\\\\'+ filename + 'fig2' + \".jpeg\")\n",
    "    plt.savefig(imgPath2)\n",
    "    imagesList.append(imgPath2)\n",
    "    plt.show()\n",
    "    output(excelPath, filename , imagesList)\n",
    "    csvPath = os.path.join(path + '\\\\' + 'zipflaw.csv')\n",
    "    if os.path.exists(csvPath):\n",
    "        os.remove(csvPath)\n",
    "        csvFile(filename, gutenberg)\n",
    "    else:\n",
    "        csvFile(filename, gutenberg)"
   ]
  },
  {
   "cell_type": "code",
   "execution_count": 21,
   "metadata": {
    "collapsed": true
   },
   "outputs": [],
   "source": [
    "import xlsxwriter\n",
    "\n",
    "def output(filename, sheet, imagesList):\n",
    "# Create a workbook and add a worksheet.\n",
    "    workbook = xlsxwriter.Workbook(filename)\n",
    "    worksheet = workbook.add_worksheet(sheet)\n",
    "    \n",
    "    header_format = workbook.add_format()\n",
    "   \n",
    "    \n",
    "    header_format.set_font_name('Calibri')\n",
    "    header_format.set_align('center')\n",
    "    header_format.set_align('vcenter')\n",
    "    header_format.set_border()\n",
    "    header_format.set_bold()\n",
    "    header_format.set_size(14)\n",
    "    \n",
    "    \n",
    "    worksheet.set_column('A:A', 50)\n",
    "     \n",
    "    col1_Name =  \"Zipf's Law graph against Rank and Frequency \"\n",
    "    col2_Name =  \"Zipf's Law graph against log(Rank) and log(Frequency) \"\n",
    "    worksheet.write(0, 0, col1_Name, header_format)\n",
    "    worksheet.write(0, 8, col2_Name, header_format)\n",
    "    \n",
    "# Start from the first cell.\n",
    "    \n",
    "    row = 1\n",
    "    col = 0\n",
    "# Iterate over the data and write it out row by row.\n",
    "    for n in imagesList:\n",
    "        worksheet.insert_image(row, col, n)\n",
    "        col += 5\n",
    "        \n",
    "    workbook.close()"
   ]
  },
  {
   "cell_type": "code",
   "execution_count": 28,
   "metadata": {
    "collapsed": false
   },
   "outputs": [],
   "source": [
    "def csvFile(filename, gutenberg):\n",
    "    with open(os.path.join(path + '\\zipflaw.csv'), 'a') as outcsv:   \n",
    "    #configure writer to write standard csv file\n",
    "        writer = csv.writer(outcsv, delimiter=',', quotechar='|', quoting=csv.QUOTE_MINIMAL, lineterminator='\\n')\n",
    "        csv.field_size_limit(100)\n",
    "        for key,value in gutenberg.items():\n",
    "            if key == filename:\n",
    "                writer.writerow(['The Word Rank Frequency for the file:',key])\n",
    "                writer.writerow(['Word', 'Frequency', 'Rank'])\n",
    "                for each in value:\n",
    "                    writer.writerow([each[0], each[1], each[2]])"
   ]
  },
  {
   "cell_type": "code",
   "execution_count": 29,
   "metadata": {
    "collapsed": false
   },
   "outputs": [
    {
     "name": "stdout",
     "output_type": "stream",
     "text": [
      "Zipf's Law holds true for the file :  blake-poems.txt\n"
     ]
    },
    {
     "data": {
      "image/png": "[encoded data removed]",
      "text/plain": [
       "<matplotlib.figure.Figure at 0x21028288940>"
      ]
     },
     "metadata": {},
     "output_type": "display_data"
    },
    {
     "data": {
      "image/png": "[encoded data removed]",
      "text/plain": [
       "<matplotlib.figure.Figure at 0x210282e1dd8>"
      ]
     },
     "metadata": {},
     "output_type": "display_data"
    }
   ],
   "source": [
    "graphWithMatplotlib(gutenberg, 'blake-poems.txt')"
   ]
  },
  {
   "cell_type": "code",
   "execution_count": null,
   "metadata": {
    "collapsed": true
   },
   "outputs": [],
   "source": []
  }
 ],
 "metadata": {
  "anaconda-cloud": {},
  "kernelspec": {
   "display_name": "Python [conda root]",
   "language": "python",
   "name": "conda-root-py"
  },
  "language_info": {
   "codemirror_mode": {
    "name": "ipython",
    "version": 3
   },
   "file_extension": ".py",
   "mimetype": "text/x-python",
   "name": "python",
   "nbconvert_exporter": "python",
   "pygments_lexer": "ipython3",
   "version": "3.5.2"
  }
 },
 "nbformat": 4,
 "nbformat_minor": 1
}
