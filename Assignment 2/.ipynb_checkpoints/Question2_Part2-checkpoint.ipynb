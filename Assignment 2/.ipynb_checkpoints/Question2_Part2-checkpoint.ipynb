{
 "cells": [
  {
   "cell_type": "markdown",
   "metadata": {},
   "source": [
    "# Question 2 : Part 2\n",
    "- Read all the json files in the folder called Data.\n",
    "    - Read only the json files which contain the key called “restaurants” \n",
    "    - Each (or most of the json files) contain a key called “open” which contains the details of the operation (timings) of the restaurants. For each json file, read the timings of the restaurants. \n",
    "    - Data of the operation timings of the restaurants is present for each day of the week. I want you to extract each of this data and write it in an excel sheet. \n",
    "    - Bonus: Split “Start Time” column into two different columns having the hour and minute in each of them\n",
    "    - Split “End Time” column into two different columns having the hour and minute in each of them\n"
   ]
  },
  {
   "cell_type": "code",
   "execution_count": 1,
   "metadata": {
    "collapsed": false
   },
   "outputs": [],
   "source": [
    "# importing all the packages needed \n",
    "import json\n",
    "import glob\n",
    "import os\n",
    "import shutil\n",
    "import re\n",
    "import csv"
   ]
  },
  {
   "cell_type": "code",
   "execution_count": 2,
   "metadata": {
    "collapsed": true
   },
   "outputs": [],
   "source": [
    "path = os.getcwd() # getting the path of current working directory to create the file\n",
    "configfiles = glob.glob(os.path.join(os.getcwd() + '\\Data' + '\\*.json')) # getting the path of the json files to be read"
   ]
  },
  {
   "cell_type": "code",
   "execution_count": 3,
   "metadata": {
    "collapsed": false
   },
   "outputs": [],
   "source": [
    "# function filters the json files by returning only the restuarants files \n",
    "def filteringRestuarantsFiles(configfiles):\n",
    "    files = []\n",
    "    for file1 in configfiles: # iterating through the files\n",
    "         with open(file1) as json_file: # opening the file\n",
    "            json_data = json.load(json_file) # reading the json data\n",
    "            if json_data['term'] == 'restaurants': # checking whether its a restuarant file\n",
    "                if 'hours' in json_data.keys(): # checking if the file has hours tag\n",
    "                    hours = json_data['hours'] # taking the value of hours\n",
    "                    for each in hours: # iterating through the value which is a list\n",
    "                        if 'open' in each.keys(): # checking if open tag is present if it has\n",
    "                            files.append(file1) # append the file to the list\n",
    "    return files # returns the restuarant files"
   ]
  },
  {
   "cell_type": "code",
   "execution_count": 4,
   "metadata": {
    "collapsed": false
   },
   "outputs": [],
   "source": [
    "# function returns the list of Name, County, City, Timings per day for each restuarants\n",
    "def dataToWriteInCsv():\n",
    "    restuarants = []\n",
    "    filteredFiles = filteringRestuarantsFiles(configfiles) # calling the function to get the restuarant files\n",
    "    for file in filteredFiles: # iterating through the files\n",
    "        with open(file) as json_file: # opening the file\n",
    "            json_data = json.load(json_file) # reading the json data\n",
    "            name = json_data['name'] # get the name of restuarant\n",
    "            name = name.replace(',','') # replace with space if the name of contains ',' as we are writing to a csv file\n",
    "            location = json_data['location'] # get the location of restuarant\n",
    "            hours = json_data['hours'] # get the hours of restuarant\n",
    "            city = location['city'] # get the city of restuarant\n",
    "            country = location['country'] # get the country of restuarant\n",
    "            for days in hours: # iterating through hours\n",
    "                openWeeks = days['open'] # get the open of hours\n",
    "                for each in  openWeeks: # iterating through the open tag\n",
    "                    day = each['day'] # get the day restuarant is open\n",
    "                    startTime = each['start'] # get the start time of restuarant\n",
    "                    endTime = each['end'] # get the end time of restuarant\n",
    "                    startHrAndMin = re.findall('..',startTime) # spliting the hour and min for start time\n",
    "                    endHrAndMin = re.findall('..',endTime) # spliting the hour and min for end time\n",
    "                    openHours = [] \n",
    "                    openHours.append(name) # appending the name\n",
    "                    openHours.append(city) # appending the city\n",
    "                    openHours.append(country) # appending the country\n",
    "                    openHours.append(day) # appending the day\n",
    "                    openHours.extend(startHrAndMin) # extending the hr and min of start time\n",
    "                    openHours.extend(endHrAndMin) # extending  the hr and min of end time\n",
    "                    restuarants.append(openHours) # appending the openhours to new list\n",
    "    return restuarants # returns the list of all timings of restuarants"
   ]
  },
  {
   "cell_type": "code",
   "execution_count": 5,
   "metadata": {
    "collapsed": false
   },
   "outputs": [],
   "source": [
    "# function writing the csv file with restuarants details\n",
    "def csvCreation(filename, restuarants):\n",
    "    with open(filename, 'a',encoding='utf_8', errors='ignore') as outcsv: # opening a csv file as english file\n",
    "        #configure writer to write standard csv file\n",
    "        writer = csv.writer(outcsv, delimiter=',', quotechar='|', quoting=csv.QUOTE_MINIMAL, lineterminator='\\n')\n",
    "        # writing the headers for the file\n",
    "        writer.writerow(['NAME OF RESTAURANT', 'CITY', 'COUNTRY CODE', 'DAY OF WEEK', 'START TIME HOUR','START TIME MINUTE', 'END TIME HOUR', 'END TIME MINUTE'])\n",
    "        for eachRes in restuarants:\n",
    "            # writing the data row by row\n",
    "            writer.writerow([eachRes[0],eachRes[1],eachRes[2],eachRes[3],eachRes[4],eachRes[5],eachRes[6],eachRes[7]])"
   ]
  },
  {
   "cell_type": "code",
   "execution_count": 6,
   "metadata": {
    "collapsed": false
   },
   "outputs": [],
   "source": [
    "# creating the csv file at specified path\n",
    "def output(csvPath):\n",
    "    if os.path.exists(csvPath):\n",
    "        os.remove(csvPath) # removing the file if already present\n",
    "        restuarants = dataToWriteInCsv() # creating the restuarants data\n",
    "        csvCreation(csvPath, restuarants) # creating the csv file\n",
    "    else:\n",
    "        restuarants = dataToWriteInCsv()  # creating the restuarants data\n",
    "        csvCreation(csvPath, restuarants) # creating the csv file"
   ]
  },
  {
   "cell_type": "code",
   "execution_count": 7,
   "metadata": {
    "collapsed": true
   },
   "outputs": [],
   "source": [
    "csvPath = os.path.join(path + '\\\\' + 'Restuarants.csv') # path is taken"
   ]
  },
  {
   "cell_type": "code",
   "execution_count": 8,
   "metadata": {
    "collapsed": true
   },
   "outputs": [],
   "source": [
    "output(csvPath) # calling the function to create csv file"
   ]
  },
  {
   "cell_type": "code",
   "execution_count": null,
   "metadata": {
    "collapsed": true
   },
   "outputs": [],
   "source": []
  }
 ],
 "metadata": {
  "anaconda-cloud": {},
  "kernelspec": {
   "display_name": "Python [conda root]",
   "language": "python",
   "name": "conda-root-py"
  },
  "language_info": {
   "codemirror_mode": {
    "name": "ipython",
    "version": 3
   },
   "file_extension": ".py",
   "mimetype": "text/x-python",
   "name": "python",
   "nbconvert_exporter": "python",
   "pygments_lexer": "ipython3",
   "version": "3.5.2"
  }
 },
 "nbformat": 4,
 "nbformat_minor": 1
}
