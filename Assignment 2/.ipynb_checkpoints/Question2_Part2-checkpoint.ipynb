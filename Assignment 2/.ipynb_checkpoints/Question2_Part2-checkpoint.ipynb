{
 "cells": [
  {
   "cell_type": "markdown",
   "metadata": {},
   "source": [
    "# Question 2 : Part 2\n",
    "- "
   ]
  },
  {
   "cell_type": "code",
   "execution_count": null,
   "metadata": {
    "collapsed": false
   },
   "outputs": [],
   "source": [
    "import json\n",
    "import glob\n",
    "import os\n",
    "import shutil\n",
    "import re\n",
    "import csv\n",
    "path = \"D:\\SEM 2\\Python\\Assignments\\chintha_archana_spring2017\\Assignment 2\"\n",
    "configfiles = glob.glob(\"D:\\SEM 2\\Python\\DataAnalysis4Python_Spring17\\Assignment 2\\Data\\*.json\")"
   ]
  },
  {
   "cell_type": "code",
   "execution_count": 2,
   "metadata": {
    "collapsed": false
   },
   "outputs": [],
   "source": [
    "files = []\n",
    "for file1 in configfiles:\n",
    "     with open(file1) as json_file:\n",
    "        json_data = json.load(json_file)\n",
    "        if json_data['term'] == 'restaurants':\n",
    "            if 'hours' in json_data.keys():\n",
    "                hours = json_data['hours']\n",
    "                for each in hours:\n",
    "                    #print(each)\n",
    "                    if 'open' in each.keys():\n",
    "                        files.append(file1)"
   ]
  },
  {
   "cell_type": "code",
   "execution_count": 3,
   "metadata": {
    "collapsed": false
   },
   "outputs": [],
   "source": [
    "openHours = []\n",
    "restuarants = []\n",
    "for file in files:\n",
    "    with open(file) as json_file:\n",
    "        json_data = json.load(json_file)\n",
    "        name = json_data['name']\n",
    "        name = name.replace(',','')\n",
    "        location = json_data['location']\n",
    "        hours = json_data['hours']\n",
    "        city = location['city']\n",
    "        country = location['country']\n",
    "        for days in hours:\n",
    "            openWeeks = days['open']\n",
    "            for each in  openWeeks:\n",
    "                day = each['day']\n",
    "                startTime = each['start']\n",
    "                endTime = each['end']\n",
    "                startHrAndMin = re.findall('..',startTime)\n",
    "                endHrAndMin = re.findall('..',endTime) \n",
    "                openHours = []\n",
    "                openHours.append(name)\n",
    "                openHours.append(city)\n",
    "                openHours.append(country)\n",
    "                openHours.append(day)\n",
    "                openHours.extend(startHrAndMin)\n",
    "                openHours.extend(endHrAndMin)\n",
    "                restuarants.append(openHours) "
   ]
  },
  {
   "cell_type": "code",
   "execution_count": 4,
   "metadata": {
    "collapsed": false
   },
   "outputs": [],
   "source": [
    "def output(filename, restuarants):\n",
    "    with open(filename, 'a',encoding='utf_8', errors='ignore') as outcsv:   \n",
    "    #configure writer to write standard csv file\n",
    "        writer = csv.writer(outcsv, delimiter=',', quotechar='|', quoting=csv.QUOTE_MINIMAL, lineterminator='\\n')\n",
    "        writer.writerow(['NAME OF RESTAURANT', 'CITY', 'COUNTRY CODE', 'DAY OF WEEK', 'START TIME HOUR','START TIME MINUTE', 'END TIME HOUR', 'END TIME MINUTE'])\n",
    "        for eachRes in restuarants:\n",
    "            writer.writerow([eachRes[0],eachRes[1],eachRes[2],eachRes[3],eachRes[4],eachRes[5],eachRes[6],eachRes[7]])"
   ]
  },
  {
   "cell_type": "code",
   "execution_count": 5,
   "metadata": {
    "collapsed": false
   },
   "outputs": [],
   "source": [
    "csvPath = os.path.join(path + '\\\\' + 'Restuarants.csv')\n",
    "if os.path.exists(csvPath):\n",
    "    os.remove(csvPath)\n",
    "    output(csvPath, restuarants)\n",
    "else:\n",
    "    output(csvPath, restuarants)"
   ]
  },
  {
   "cell_type": "code",
   "execution_count": null,
   "metadata": {
    "collapsed": true
   },
   "outputs": [],
   "source": []
  }
 ],
 "metadata": {
  "anaconda-cloud": {},
  "kernelspec": {
   "display_name": "Python [conda root]",
   "language": "python",
   "name": "conda-root-py"
  },
  "language_info": {
   "codemirror_mode": {
    "name": "ipython",
    "version": 3
   },
   "file_extension": ".py",
   "mimetype": "text/x-python",
   "name": "python",
   "nbconvert_exporter": "python",
   "pygments_lexer": "ipython3",
   "version": "3.5.2"
  }
 },
 "nbformat": 4,
 "nbformat_minor": 1
}
