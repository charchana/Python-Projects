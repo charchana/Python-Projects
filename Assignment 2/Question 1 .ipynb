{
 "cells": [
  {
   "cell_type": "markdown",
   "metadata": {},
   "source": [
    "# Question 1:\n",
    "- Learn and understand Zipf’s Law. \n",
    "- Pick any file (or files) in NLTK package. \n",
    "- Prove if Zipf’s Law works in Natural Language or not. \n",
    "- REQUIREMNTS: (Must Do) \n",
    "\t- Use ’glob’ to open and read file. If read multiple files use LOOP to achieve. \n",
    "\t- Create at least one function and one lambda function. \n",
    "\t- Save your data as an CSV file contains (Word, Rank, Frequency) with TITLE and Sort it by RANK. \n",
    "\t- Open your CSV file, generate a log-log figure according to the data you saved. \n",
    "\t- Write a conclusion at the end of your code base on your figure. \n",
    "- (Optional) Use ‘matplotlib’ to generate a log-log figure in your code. \n",
    "    - Before Submission Please Check: \n",
    "    - Do I have Markdown TITLE at very beginning? \n",
    "    - Do I use the required method to open and read files? \n",
    "    - Do I use 'def' and ‘lambda’ in my code? \n",
    "    - Do I write your code in small blocks instead of in one big block? \n",
    "    - Do I have proper outputs or comments to show your progress? \n",
    "    - Do I add TITLE in your CSV file? Is the data well sorted? \n",
    "    - Do I create the figure with right form(log-log) in your csv file? \n",
    "    - Do I give the conclusion at the end of your code? \n",
    "\n"
   ]
  },
  {
   "cell_type": "code",
   "execution_count": 1,
   "metadata": {
    "collapsed": false
   },
   "outputs": [],
   "source": [
    "# importing all the packages needed\n",
    "import json\n",
    "import glob\n",
    "import os\n",
    "import shutil\n",
    "import re\n",
    "import nltk\n",
    "import string\n",
    "import math\n",
    "import csv\n",
    "import matplotlib.pyplot as plt\n",
    "import sys\n",
    "import re\n",
    "import xlsxwriter\n",
    "import random\n",
    "from operator import itemgetter\n",
    "from termcolor import colored, cprint"
   ]
  },
  {
   "cell_type": "code",
   "execution_count": 2,
   "metadata": {
    "collapsed": true
   },
   "outputs": [],
   "source": [
    "path = os.getcwd() # specifying the path where the files to be created\n",
    "configfiles = glob.glob(r\"C:\\Users\\chint\\AppData\\Roaming\\nltk_data\\corpora\\gutenberg\\*.txt\") # reading all the given json files from this path"
   ]
  },
  {
   "cell_type": "code",
   "execution_count": 3,
   "metadata": {
    "collapsed": true
   },
   "outputs": [],
   "source": [
    "colors = (\"magenta\", \"yellow\", \"cyan\") \n",
    "# generates colors in colors tuple randomly for highlightinh the text which is used in printing the Conclusion part to highlight some values \n",
    "def get_on_color():\n",
    "    global colors\n",
    "    return \"on_\" + colors[random.randint(0,len(colors)-1)]"
   ]
  },
  {
   "cell_type": "code",
   "execution_count": 4,
   "metadata": {
    "collapsed": false
   },
   "outputs": [],
   "source": [
    "# removes all the punctuations and numbers from the json data\n",
    "def getWords(text):\n",
    "    return re.compile('[A-Za-z]+').findall(text) # finds all words starting with A-Za-Z to filter out"
   ]
  },
  {
   "cell_type": "code",
   "execution_count": 5,
   "metadata": {
    "collapsed": false
   },
   "outputs": [],
   "source": [
    "# makes all the words to lowercase\n",
    "def dataProcessing(data):\n",
    "    totalWords = getWords(data) # calling getwords() function to get words\n",
    "    lowerWords = []\n",
    "    for word in totalWords:\n",
    "        lowerWords.append(word.lower()) #making the data lower\n",
    "    return lowerWords # returning the lowered list "
   ]
  },
  {
   "cell_type": "code",
   "execution_count": 6,
   "metadata": {
    "collapsed": false
   },
   "outputs": [],
   "source": [
    "# for the lowered words calculating the frequency and rank\n",
    "def frequencyRankCalculation(totalWords):\n",
    "    uniqueWords = {}\n",
    "    for word in totalWords: # Loop all the words to calculate frequency\n",
    "            if word not in uniqueWords:\n",
    "                uniqueWords[word] = 1   # if the word is not in the dictionary adding the word and setting a count\n",
    "            else:\n",
    "                uniqueWords[word] += 1  # incrementing the count if it's already presnt\n",
    "    sortedFreq = sorted(uniqueWords.items(), key=itemgetter(1),reverse=True) # sorting the words in descending order\n",
    "    listOfWords = [list(elem) for elem in sortedFreq] # converting the dictionary to list\n",
    "    for count,elem in enumerate(listOfWords,1): # finding the rank for the elements\n",
    "        elem.append(count) # adding to list\n",
    "    return listOfWords # returning the list of all calculated freq and rank\n",
    "    "
   ]
  },
  {
   "cell_type": "code",
   "execution_count": 7,
   "metadata": {
    "collapsed": true
   },
   "outputs": [],
   "source": [
    "# calculating the zipf law r*freq, A*N\n",
    "def zipfFormula(list1, totalNoWords):\n",
    "    for element in list1: \n",
    "        probabilityOfR = element[1]/totalNoWords # finding prob(r)\n",
    "        element.append(probabilityOfR)  # adding to the list\n",
    "        A = element[2]*element[3] # calculating A value(r*prob(r))\n",
    "        element.append(A) # adding to the list\n",
    "        rFreq = element[1]*element[2] # finding r* frq\n",
    "        element.append(rFreq) # adding to the list\n",
    "        aMulN = element[4]*totalNoWords # finding A*N\n",
    "        element.append(aMulN) # adding to the list\n",
    "        logRank = math.log(element[2]) # finding log(rank) for plotting graph\n",
    "        element.append(logRank) # adding to the list\n",
    "        logFreq = math.log(element[1]) # finding log(freq) for plotting graph\n",
    "        element.append(logFreq) # adding to the list  \n",
    "    return list1 # returning the calculated list"
   ]
  },
  {
   "cell_type": "code",
   "execution_count": 8,
   "metadata": {
    "collapsed": false
   },
   "outputs": [],
   "source": [
    "# calculating the top 20% words from the list of unique words to prove zipf law\n",
    "def top20PercentWords(listOfWords, lengthOfDictionary):\n",
    "    twentyPercent = lambda x : round((20 * lengthOfDictionary)/100) # finding 20% of the length of the unique words \n",
    "    total = twentyPercent(lengthOfDictionary) # calling the twentypercent function\n",
    "    sumOfFreq = 0 # assigning sum as 0\n",
    "    length = len(listOfWords) # getting the length of the list  \n",
    "    for i in range(0,length): # iterating through length of list\n",
    "        if listOfWords[i][2] <= total: # to check whether the frequency of the list has reached the calculated 20% value\n",
    "            sumOfFreq = sumOfFreq + listOfWords[i][1] # until the condition is false the frequencies are added\n",
    "    return sumOfFreq # returning the frequency"
   ]
  },
  {
   "cell_type": "code",
   "execution_count": 9,
   "metadata": {
    "collapsed": false
   },
   "outputs": [],
   "source": [
    "# main function which calls all other functions to complete the statistical calculation of zipf's formula\n",
    "def gutenbergFile(configfiles):\n",
    "    allFilesZipf = {}\n",
    "    eightyTwentyRule = {}\n",
    "    for file in configfiles: # iterating through the list of json files\n",
    "        with open(file) as txt_file: # opening the file\n",
    "            fileName = os.path.basename(file) # extracting the json file name to identify which file\n",
    "            data = txt_file.read() # reading the json data\n",
    "            totalWords = dataProcessing(data) # this function returns the lowercase words list\n",
    "            totalWordsLen = lambda x: len(x) # returns length of totalWords list\n",
    "            lengthOfRawData = totalWordsLen(totalWords) # calling the above function\n",
    "            listOfWords = frequencyRankCalculation(totalWords) # this function returns the freq, rank calculated list\n",
    "            zipfLaw = zipfFormula(listOfWords, len(totalWords)) # this function returns the zipf formula proving\n",
    "            totalSortedLen = lambda listOfWords: len(listOfWords) # returns length of totalWords list\n",
    "            lengthOfDictionary = totalSortedLen(listOfWords) # calling the above function\n",
    "            if fileName not in allFilesZipf:  # if the word is not in the dictionary adding the word and setting a count\n",
    "                    allFilesZipf[fileName] = zipfLaw\n",
    "    return allFilesZipf # returns the zipf formula calculated list "
   ]
  },
  {
   "cell_type": "code",
   "execution_count": 10,
   "metadata": {
    "collapsed": false
   },
   "outputs": [],
   "source": [
    "# another main function which calls all other functions to prove the 80/20 rule\n",
    "def eightyTwentyRule(configfiles): \n",
    "    allFilesZipf = {}\n",
    "    eightyTwentyRule = {}\n",
    "    for file in configfiles: # iterating through the list of json files\n",
    "        with open(file) as txt_file: # opening the file\n",
    "            fileName = os.path.basename(file) # extracting the json file name to identify which file\n",
    "            data = txt_file.read() # reading the json data\n",
    "            totalWords = dataProcessing(data) # this function returns the lowercase words list\n",
    "            totalWordsLen = lambda x: len(x) # returns length of totalWords list\n",
    "            lengthOfRawData = totalWordsLen(totalWords) # calling the above function\n",
    "            listOfWords = frequencyRankCalculation(totalWords) # this function returns the freq, rank calculated list\n",
    "            totalSortedLen = lambda listOfWords: len(listOfWords) # returns length of totalWords list\n",
    "            lengthOfDictionary = totalSortedLen(listOfWords) # calling the above function\n",
    "            sumOfFreq = top20PercentWords(listOfWords,lengthOfDictionary) # returns the words list which occupies top 20 %\n",
    "            eightyTwenty = (sumOfFreq/lengthOfRawData)*100 # diving with length of raw data to get the value of zipf's law above or equal 80% or not\n",
    "            if fileName not in eightyTwentyRule: # if the word is not in the dictionary adding the word and setting a count\n",
    "                eightyTwentyRule[fileName] = eightyTwenty\n",
    "    return eightyTwentyRule # returns the 80/20 value dictionary"
   ]
  },
  {
   "cell_type": "code",
   "execution_count": 11,
   "metadata": {
    "collapsed": true
   },
   "outputs": [],
   "source": [
    "def csvFile(filename, gutenberg):\n",
    "    with open(os.path.join(path + '\\zipflaw.csv'), 'a') as outcsv:   \n",
    "    #configure writer to write standard csv file\n",
    "        writer = csv.writer(outcsv, delimiter=',', quotechar='|', quoting=csv.QUOTE_MINIMAL, lineterminator='\\n')\n",
    "        csv.field_size_limit(100)\n",
    "        for key,value in gutenberg.items():\n",
    "            if key == filename:\n",
    "                writer.writerow(['The Word Rank Frequency for the file:',key])\n",
    "                writer.writerow(['Word', 'Frequency', 'Rank'])\n",
    "                for each in value:\n",
    "                    writer.writerow([each[0], each[1], each[2]])"
   ]
  },
  {
   "cell_type": "code",
   "execution_count": 12,
   "metadata": {
    "collapsed": true
   },
   "outputs": [],
   "source": [
    "# writing the word rank and frequency to a csv file for inputted file name\n",
    "def csvCreation(filename,gutenberg):\n",
    "    csvPath = os.path.join(path + '\\\\' + 'zipflaw.csv') # for exporting the records to csv file at the mentioned path\n",
    "    if os.path.exists(csvPath): # if file already present \n",
    "        os.remove(csvPath) # remove it\n",
    "        csvFile(filename, gutenberg) # calling csv function to create a csv file with the records\n",
    "    else:\n",
    "        csvFile(filename, gutenberg) # calling csv function to create a csv file with the records"
   ]
  },
  {
   "cell_type": "code",
   "execution_count": 13,
   "metadata": {
    "collapsed": true
   },
   "outputs": [],
   "source": [
    "# printing the conclusion whether the zipf's law is holding or not\n",
    "def conclusion(filename):\n",
    "    csvCreation(filename,gutenberg) # calling this function to create csv file\n",
    "    eigthy20 = eightyTwentyRule(configfiles) # getting the 80/20 calculated dict\n",
    "    rule =  round(eigthy20[filename], 2) # getting the value for the inputted filename\n",
    "    print(colored(\"Conclusion:\\n\", 'green'))\n",
    "    if rule < 80.0: # if the value is below 80.0 then the printing zipf law fails\n",
    "        print(colored(\"Zipf's Law does not hold true for this file\", 'green'),colored(filename, 'magenta'), colored(\"because,\\n\",'green'))\n",
    "        print(colored(\"According to '80/20' rule, though the data is linearly distributed as displayed in above graph, the highest frequency words are very minimal in this file.\\n\", 'green'))\n",
    "        print(colored(\"So the top '20%' of words holds only \", 'green'), colored(rule, 'red'),colored(\"of complete words in the file not '80%' or above\\n\", 'green'))\n",
    "        print(colored(\"Therefore '80/20' rule fails for this file\", 'green'))\n",
    "    else: # otherwise zipf law holds true\n",
    "        print(colored(\"Zipf's Law hold's true for this file \", 'green'), colored(filename, 'magenta'), colored(\"because,\\n\", 'green'))\n",
    "        print(colored(\"According to '80/20' rule, the data is linearly distributed.\\n\", 'green'))\n",
    "        print(colored(\"And the top '20%' of words holds\", 'green'), colored(rule, 'blue'), colored(\"of complete words in the file which is above\",'green'), colored(\"80%\", 'blue'), '\\n')\n",
    "        print(colored(\"Therefore '80/20' rule perfectly proves for this file\", 'green', get_on_color()))"
   ]
  },
  {
   "cell_type": "code",
   "execution_count": 14,
   "metadata": {
    "collapsed": true
   },
   "outputs": [],
   "source": [
    "# excel file creation for images\n",
    "def output(filename, sheet, imagesList):\n",
    "    # Create a workbook and add a worksheet.\n",
    "    workbook = xlsxwriter.Workbook(filename) \n",
    "    worksheet = workbook.add_worksheet(sheet) \n",
    "    \n",
    "    # specifying the header format\n",
    "    header_format = workbook.add_format()\n",
    "    header_format.set_font_name('Calibri')\n",
    "    header_format.set_align('center')\n",
    "    header_format.set_align('vcenter')\n",
    "    header_format.set_border()\n",
    "    header_format.set_bold()\n",
    "    header_format.set_size(14)\n",
    "    \n",
    "    # setting the cloumn width\n",
    "    worksheet.set_column('A:A', 50)\n",
    "    \n",
    "    # giving image titles\n",
    "    col1_Name =  \"Zipf's Law graph against Rank and Frequency \"\n",
    "    col2_Name =  \"Zipf's Law graph against log(Rank) and log(Frequency) \"\n",
    "    worksheet.write(0, 0, col1_Name, header_format)\n",
    "    worksheet.write(0, 8, col2_Name, header_format)\n",
    "    \n",
    "    # Starting point of cell. \n",
    "    row = 1\n",
    "    col = 0\n",
    "    # Iterate over the data and write it out row by row.\n",
    "    for n in imagesList:\n",
    "        worksheet.insert_image(row, col, n)\n",
    "        col += 5\n",
    "        \n",
    "    workbook.close() # closing the workbook"
   ]
  },
  {
   "cell_type": "code",
   "execution_count": 15,
   "metadata": {
    "collapsed": false
   },
   "outputs": [],
   "source": [
    "# for plotting graph and writing conclusion\n",
    "def graphWithMatplotlib(gutenberg, filename):\n",
    "    x = [] # x axis for first graph\n",
    "    y = [] # y axis for first graph\n",
    "    a = [] # x axis for second graph\n",
    "    b = [] # y axis for second graph\n",
    "    imagesList = [] # to carry two image files\n",
    "    for key,value in gutenberg.items(): # iterating through the dict to get the passed filename value\n",
    "        if key == filename: # checking whether the key matches the file name\n",
    "            for each in value: # if yes iterating through the list of values of file\n",
    "                a.append(each[2]) # appeding the rank to the x-axis\n",
    "                b.append(each[1]) # appending freq to y-axis\n",
    "                x.append(each[7]) # appending log(rank) to x-axis\n",
    "                y.append(each[8]) # appending log(freq) to y-axis\n",
    "                \n",
    "    # for graph plotting(first graph)\n",
    "    plt.xlabel('Rank') # specifying x-axis lable\n",
    "    plt.ylabel('Frequency') # specifying y-axis lable\n",
    "    plt.title(\"Gutenberg Words Frequency vs rank\") # specifying title of graph\n",
    "    plt.grid(True) # making grid as true\n",
    "    plt.xlim( 0, 10000 )    # set the xlim to xmin, xmax\n",
    "    plt.ylim( 0, 4000 )    # set the xlim to xmin, xmax\n",
    "    freqRank = plt.scatter(a,b,20,[1,0,1]) # plotting the graph\n",
    "    imgPath1 = os.path.join(path + '\\\\'+ filename + 'fig1' + \".jpeg\") # getting the image path\n",
    "    plt.savefig(imgPath1) # saving the graph as jpeg at previously mention path\n",
    "    imagesList.append(imgPath1) # appending the image to the list\n",
    "    plt.show() # graph displays here\n",
    "    \n",
    "    # for exporting the image to excel file at the mentioned path\n",
    "    excelPath = os.path.join(path + '\\\\' + 'gutenbergGraphs.xlsx') \n",
    "    \n",
    "    # for graph plotting(second graph)\n",
    "    plt.xlabel('log (Rank)') # specifying x-axis lable\n",
    "    plt.ylabel('log (Frequency)') # specifying y-axis lable\n",
    "    plt.title(\"ZIPF'S LAW\") # specifying title of graph\n",
    "    plt.grid(True) # making grid as true\n",
    "    plt.xlim( 0, 9 )    # set the xlim to xmin, xmax\n",
    "    plt.ylim( 0, 9 )    # set the xlim to xmin, xmax\n",
    "    logRankFrq = plt.scatter(x,y,20,[1 , 0, 0]) # plotting the graph\n",
    "    imgPath2 = os.path.join(path + '\\\\'+ filename + 'fig2' + \".jpeg\") # getting the image path\n",
    "    plt.savefig(imgPath2) # saving the graph as jpeg at previously mentioned path\n",
    "    imagesList.append(imgPath2)  # appending the image to the list\n",
    "    plt.show() # graph displays here\n",
    "    \n",
    "    # calling the function to export the images to excel files\n",
    "    output(excelPath, filename , imagesList)\n",
    "    # calling the conclusion function to print conclusion\n",
    "    conclusion(filename)"
   ]
  },
  {
   "cell_type": "code",
   "execution_count": 16,
   "metadata": {
    "collapsed": false
   },
   "outputs": [],
   "source": [
    "gutenberg = gutenbergFile(configfiles) # calling the gutenberg function "
   ]
  },
  {
   "cell_type": "code",
   "execution_count": 17,
   "metadata": {
    "collapsed": false
   },
   "outputs": [
    {
     "name": "stdout",
     "output_type": "stream",
     "text": [
      "Proving Zipf's Law Formula\n",
      "r * freq = A * N\n",
      "-------------------------------\n",
      "\n",
      "File Name: shakespeare-caesar.txt \n",
      "\n",
      "627 = 627\n",
      "1158 = 1158\n",
      "1599 = 1599\n",
      "\n",
      "\n",
      "Proving Zipf's Law Formula\n",
      "r * freq = A * N\n",
      "-------------------------------\n",
      "\n",
      "File Name: bible-kjv.txt \n",
      "\n",
      "64023 = 64023\n",
      "103392 = 103392\n",
      "104010 = 104010\n",
      "\n",
      "\n",
      "Proving Zipf's Law Formula\n",
      "r * freq = A * N\n",
      "-------------------------------\n",
      "\n",
      "File Name: austen-persuasion.txt \n",
      "\n",
      "3329 = 3329\n",
      "5616 = 5616\n",
      "8403 = 8403\n",
      "\n",
      "\n",
      "Proving Zipf's Law Formula\n",
      "r * freq = A * N\n",
      "-------------------------------\n",
      "\n",
      "File Name: blake-poems.txt \n",
      "\n",
      "439 = 439\n",
      "696 = 696\n",
      "438 = 438\n",
      "\n",
      "\n",
      "Proving Zipf's Law Formula\n",
      "r * freq = A * N\n",
      "-------------------------------\n",
      "\n",
      "File Name: carroll-alice.txt \n",
      "\n",
      "1642 = 1642\n",
      "1744 = 1744\n",
      "2187 = 2187\n",
      "\n",
      "\n",
      "Proving Zipf's Law Formula\n",
      "r * freq = A * N\n",
      "-------------------------------\n",
      "\n",
      "File Name: austen-emma.txt \n",
      "\n",
      "5242 = 5242\n",
      "10408 = 10408\n",
      "14691 = 14691\n",
      "\n",
      "\n",
      "Proving Zipf's Law Formula\n",
      "r * freq = A * N\n",
      "-------------------------------\n",
      "\n",
      "File Name: melville-moby_dick.txt \n",
      "\n",
      "14431 = 14431\n",
      "13218 = 13218\n",
      "19290 = 19290\n",
      "\n",
      "\n",
      "Proving Zipf's Law Formula\n",
      "r * freq = A * N\n",
      "-------------------------------\n",
      "\n",
      "File Name: shakespeare-macbeth.txt \n",
      "\n",
      "650 = 650\n",
      "1092 = 1092\n",
      "1152 = 1152\n",
      "\n",
      "\n",
      "Proving Zipf's Law Formula\n",
      "r * freq = A * N\n",
      "-------------------------------\n",
      "\n",
      "File Name: burgess-busterbrown.txt \n",
      "\n",
      "678 = 678\n",
      "1320 = 1320\n",
      "1548 = 1548\n",
      "\n",
      "\n",
      "Proving Zipf's Law Formula\n",
      "r * freq = A * N\n",
      "-------------------------------\n",
      "\n",
      "File Name: bryant-stories.txt \n",
      "\n",
      "3452 = 3452\n",
      "4198 = 4198\n",
      "3540 = 3540\n",
      "\n",
      "\n",
      "Proving Zipf's Law Formula\n",
      "r * freq = A * N\n",
      "-------------------------------\n",
      "\n",
      "File Name: milton-paradise.txt \n",
      "\n",
      "3395 = 3395\n",
      "5936 = 5936\n",
      "6684 = 6684\n",
      "\n",
      "\n",
      "Proving Zipf's Law Formula\n",
      "r * freq = A * N\n",
      "-------------------------------\n",
      "\n",
      "File Name: chesterton-brown.txt \n",
      "\n",
      "4670 = 4670\n",
      "4442 = 4442\n",
      "6396 = 6396\n",
      "\n",
      "\n",
      "Proving Zipf's Law Formula\n",
      "r * freq = A * N\n",
      "-------------------------------\n",
      "\n",
      "File Name: austen-sense.txt \n",
      "\n",
      "4116 = 4116\n",
      "8210 = 8210\n",
      "10716 = 10716\n",
      "\n",
      "\n",
      "Proving Zipf's Law Formula\n",
      "r * freq = A * N\n",
      "-------------------------------\n",
      "\n",
      "File Name: chesterton-thursday.txt \n",
      "\n",
      "3636 = 3636\n",
      "3484 = 3484\n",
      "5175 = 5175\n",
      "\n",
      "\n",
      "Proving Zipf's Law Formula\n",
      "r * freq = A * N\n",
      "-------------------------------\n",
      "\n",
      "File Name: whitman-leaves.txt \n",
      "\n",
      "10113 = 10113\n",
      "10668 = 10668\n",
      "12795 = 12795\n",
      "\n",
      "\n",
      "Proving Zipf's Law Formula\n",
      "r * freq = A * N\n",
      "-------------------------------\n",
      "\n",
      "File Name: chesterton-ball.txt \n",
      "\n",
      "4981 = 4981\n",
      "5334 = 5334\n",
      "7665 = 7665\n",
      "\n",
      "\n",
      "Proving Zipf's Law Formula\n",
      "r * freq = A * N\n",
      "-------------------------------\n",
      "\n",
      "File Name: edgeworth-parents.txt \n",
      "\n",
      "7728 = 7728\n",
      "10440 = 10440\n",
      "14949 = 14949\n",
      "\n",
      "\n",
      "Proving Zipf's Law Formula\n",
      "r * freq = A * N\n",
      "-------------------------------\n",
      "\n",
      "File Name: shakespeare-hamlet.txt \n",
      "\n",
      "993 = 993\n",
      "1726 = 1726\n",
      "2055 = 2055\n",
      "\n",
      "\n"
     ]
    }
   ],
   "source": [
    "# iterating through the list of items to prve zipf formula\n",
    "for key,value in gutenberg.items(): \n",
    "    print(\"Proving Zipf's Law Formula\")\n",
    "    print(\"r * freq\", \"=\", \"A * N\")\n",
    "    print(\"-------------------------------\\n\")\n",
    "    print(\"File Name:\", key, '\\n')\n",
    "    for each in value[0:3]:\n",
    "        print(each[5], \"=\" ,round(each[6]))\n",
    "    print(\"\\n\")"
   ]
  },
  {
   "cell_type": "code",
   "execution_count": 18,
   "metadata": {
    "collapsed": false
   },
   "outputs": [
    {
     "name": "stdout",
     "output_type": "stream",
     "text": [
      "\u001b[35mPlease take the inputfilename value as anyone of file, copy with .txt below: \n",
      "\u001b[0m\n",
      "\u001b[34mausten-emma.txt, austen-persuasion.txt, austen-sense.txt,bible-kjv.txt, blake-poems.txt\n",
      "\u001b[0m\n",
      "\u001b[34mbryant-stories.txt, burgess-busterbrown.txt, carroll-alice.txt, chesterton-ball.txt\n",
      "\u001b[0m\n",
      "\u001b[34mchesterton-brown.txt, chesterton-thursday.txt, edgeworth-parents.txt, melville-moby_dick.txt, milton-paradise.txt\n",
      "\u001b[0m\n",
      "\u001b[34mshakespeare-caesar.txt, shakespeare-hamlet.txt, shakespeare-macbeth.txt, whitman-leaves.txt\u001b[0m\n"
     ]
    }
   ],
   "source": [
    "# inpufile to be passed as anyone the graph and csv will be created for that file\n",
    "print(colored(\"Please take the inputfilename value as anyone of file, copy with .txt below: \\n\", 'magenta'))\n",
    "print(colored(\"austen-emma.txt, austen-persuasion.txt, austen-sense.txt,bible-kjv.txt, blake-poems.txt\\n\", 'blue'))\n",
    "print(colored(\"bryant-stories.txt, burgess-busterbrown.txt, carroll-alice.txt, chesterton-ball.txt\\n\", 'blue'))\n",
    "print(colored(\"chesterton-brown.txt, chesterton-thursday.txt, edgeworth-parents.txt, melville-moby_dick.txt, milton-paradise.txt\\n\", 'blue'))\n",
    "print(colored(\"shakespeare-caesar.txt, shakespeare-hamlet.txt, shakespeare-macbeth.txt, whitman-leaves.txt\", 'blue'))"
   ]
  },
  {
   "cell_type": "code",
   "execution_count": 19,
   "metadata": {
    "collapsed": false
   },
   "outputs": [
    {
     "name": "stdout",
     "output_type": "stream",
     "text": [
      "carroll-alice.txt\n"
     ]
    },
    {
     "data": {
      "image/png": "[encoded data removed]",
      "text/plain": [
       "<matplotlib.figure.Figure at 0x20808b56940>"
      ]
     },
     "metadata": {},
     "output_type": "display_data"
    },
    {
     "data": {
      "image/png": "[encoded data removed]",
      "text/plain": [
       "<matplotlib.figure.Figure at 0x20808ba0390>"
      ]
     },
     "metadata": {},
     "output_type": "display_data"
    },
    {
     "name": "stdout",
     "output_type": "stream",
     "text": [
      "\u001b[32mConclusion:\n",
      "\u001b[0m\n",
      "\u001b[32mZipf's Law hold's true for this file \u001b[0m \u001b[35mcarroll-alice.txt\u001b[0m \u001b[32mbecause,\n",
      "\u001b[0m\n",
      "\u001b[32mAccording to '80/20' rule, the data is linearly distributed.\n",
      "\u001b[0m\n",
      "\u001b[32mAnd the top '20%' of words holds\u001b[0m \u001b[34m84.87\u001b[0m \u001b[32mof complete words in the file which is above\u001b[0m \u001b[34m80%\u001b[0m \n",
      "\n",
      "\u001b[45m\u001b[32mTherefore '80/20' rule perfectly proves for this file\u001b[0m\n"
     ]
    }
   ],
   "source": [
    "# PLEASE PROVIDE YOUR INPUT GUTENBERG FILE NAME WITH FILE EXTENSION IN THE BELOW INPUTBOX FOR WHICH ZIPF'S LAW TO BE CHECKED\n",
    "# EXAMPLE: blake-poems.txt\n",
    "inputFilename = ''\n",
    "graphWithMatplotlib(gutenberg, input(inputFilename)) # to generate graph csv and conclusion for user input file "
   ]
  }
 ],
 "metadata": {
  "anaconda-cloud": {},
  "kernelspec": {
   "display_name": "Python [conda root]",
   "language": "python",
   "name": "conda-root-py"
  },
  "language_info": {
   "codemirror_mode": {
    "name": "ipython",
    "version": 3
   },
   "file_extension": ".py",
   "mimetype": "text/x-python",
   "name": "python",
   "nbconvert_exporter": "python",
   "pygments_lexer": "ipython3",
   "version": "3.5.2"
  }
 },
 "nbformat": 4,
 "nbformat_minor": 1
}
