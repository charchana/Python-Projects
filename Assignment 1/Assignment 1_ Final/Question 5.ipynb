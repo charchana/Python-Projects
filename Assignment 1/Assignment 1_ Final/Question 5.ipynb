{
 "cells": [
  {
   "cell_type": "markdown",
   "metadata": {},
   "source": [
    "# Question 5\n",
    "- Use Gutenberg and Web_text data. Find out what are the top 5 words that Shakespeare used but we do not use in currently.\n",
    "- Take top 50 words from Shakespeare (all 3 books) and top 50 from Web_text (all the records).\n",
    "- Remove punctuation and stop words.\n",
    "- Remove the words we still use today, and get the unused list. Show the top 5 elements."
   ]
  },
  {
   "cell_type": "code",
   "execution_count": 271,
   "metadata": {
    "collapsed": true
   },
   "outputs": [],
   "source": [
    "import nltk\n",
    "import string"
   ]
  },
  {
   "cell_type": "code",
   "execution_count": 272,
   "metadata": {
    "collapsed": true
   },
   "outputs": [],
   "source": [
    "from nltk.corpus import gutenberg\n",
    "from nltk.corpus import webtext\n",
    "from operator import itemgetter"
   ]
  },
  {
   "cell_type": "code",
   "execution_count": 273,
   "metadata": {
    "collapsed": false
   },
   "outputs": [
    {
     "data": {
      "text/plain": [
       "['austen-emma.txt',\n",
       " 'austen-persuasion.txt',\n",
       " 'austen-sense.txt',\n",
       " 'bible-kjv.txt',\n",
       " 'blake-poems.txt',\n",
       " 'bryant-stories.txt',\n",
       " 'burgess-busterbrown.txt',\n",
       " 'carroll-alice.txt',\n",
       " 'chesterton-ball.txt',\n",
       " 'chesterton-brown.txt',\n",
       " 'chesterton-thursday.txt',\n",
       " 'edgeworth-parents.txt',\n",
       " 'melville-moby_dick.txt',\n",
       " 'milton-paradise.txt',\n",
       " 'shakespeare-caesar.txt',\n",
       " 'shakespeare-hamlet.txt',\n",
       " 'shakespeare-macbeth.txt',\n",
       " 'whitman-leaves.txt']"
      ]
     },
     "execution_count": 273,
     "metadata": {},
     "output_type": "execute_result"
    }
   ],
   "source": [
    "nltk.corpus.gutenberg.fileids() # getting files of gutenberg"
   ]
  },
  {
   "cell_type": "code",
   "execution_count": 274,
   "metadata": {
    "collapsed": false
   },
   "outputs": [],
   "source": [
    "# adding all the words of shakespeare files \n",
    "shakeWordsAll = []\n",
    "shakeWordsAll.extend(nltk.corpus.gutenberg.words('shakespeare-caesar.txt')) \n",
    "shakeWordsAll.extend(nltk.corpus.gutenberg.words('shakespeare-hamlet.txt'))\n",
    "shakeWordsAll.extend(nltk.corpus.gutenberg.words('shakespeare-macbeth.txt'))"
   ]
  },
  {
   "cell_type": "code",
   "execution_count": 275,
   "metadata": {
    "collapsed": false
   },
   "outputs": [],
   "source": [
    "# iterating the shakeWordsAll to convert the words to lowercase\n",
    "shakeWords =[]\n",
    "for e in shakeWordsAll:\n",
    "    shakeWords.append(e.lower())"
   ]
  },
  {
   "cell_type": "code",
   "execution_count": 276,
   "metadata": {
    "collapsed": false
   },
   "outputs": [],
   "source": [
    "# getting the stopwords to remove from shakespeare words\n",
    "from nltk.corpus import stopwords\n",
    "stopwords = stopwords.words('english')"
   ]
  },
  {
   "cell_type": "code",
   "execution_count": 277,
   "metadata": {
    "collapsed": false
   },
   "outputs": [],
   "source": [
    "# removing the stopwords from shakespeare words\n",
    "shakeLower = []\n",
    "for words in shakeWords: \n",
    "            if words not in stopwords: # checking if the word is not in the stop list \n",
    "                shakeLower.append(words)"
   ]
  },
  {
   "cell_type": "code",
   "execution_count": 278,
   "metadata": {
    "collapsed": false
   },
   "outputs": [],
   "source": [
    "shakeLower = [''.join(pun for pun in s if pun not in string.punctuation) for s in shakeLower] # removing the punctuations from the list\n",
    "shakeLower = [s for s in shakeLower if s] # remove the empty space from the list"
   ]
  },
  {
   "cell_type": "code",
   "execution_count": 279,
   "metadata": {
    "collapsed": false
   },
   "outputs": [],
   "source": [
    "topShakeWords = {}"
   ]
  },
  {
   "cell_type": "code",
   "execution_count": 280,
   "metadata": {
    "collapsed": true
   },
   "outputs": [],
   "source": [
    "for word in shakeLower: # Loop all the words to find frequency\n",
    "    if word not in topShakeWords:\n",
    "        topShakeWords[word] = 1\n",
    "    else:\n",
    "        topShakeWords[word] += 1"
   ]
  },
  {
   "cell_type": "code",
   "execution_count": 281,
   "metadata": {
    "collapsed": false,
    "scrolled": true
   },
   "outputs": [],
   "source": [
    "sortedTop50 = sorted(topShakeWords.items(), key=itemgetter(1),reverse=True) # sorting the words in descending order"
   ]
  },
  {
   "cell_type": "code",
   "execution_count": 282,
   "metadata": {
    "collapsed": false
   },
   "outputs": [
    {
     "name": "stdout",
     "output_type": "stream",
     "text": [
      "Top 50 words from shakespeare: \n",
      "   Word  Frequency\n"
     ]
    },
    {
     "data": {
      "text/plain": [
       "[('haue', 448),\n",
       " ('ham', 337),\n",
       " ('thou', 312),\n",
       " ('shall', 300),\n",
       " ('lord', 293),\n",
       " ('come', 232),\n",
       " ('king', 231),\n",
       " ('enter', 230),\n",
       " ('good', 218),\n",
       " ('let', 217),\n",
       " ('thy', 202),\n",
       " ('caesar', 193),\n",
       " ('vs', 184),\n",
       " ('know', 176),\n",
       " ('thee', 174),\n",
       " ('would', 170),\n",
       " ('like', 162),\n",
       " ('brutus', 162),\n",
       " ('vpon', 162),\n",
       " ('bru', 153),\n",
       " ('well', 152),\n",
       " ('hath', 144),\n",
       " ('selfe', 143),\n",
       " ('man', 139),\n",
       " ('may', 138),\n",
       " ('macb', 137),\n",
       " ('yet', 136),\n",
       " ('heere', 135),\n",
       " ('say', 130),\n",
       " ('must', 130),\n",
       " ('tis', 129),\n",
       " ('th', 125),\n",
       " ('make', 119),\n",
       " ('speake', 119),\n",
       " ('loue', 119),\n",
       " ('giue', 118),\n",
       " ('see', 116),\n",
       " ('time', 115),\n",
       " ('night', 114),\n",
       " ('sir', 114),\n",
       " ('one', 112),\n",
       " ('st', 110),\n",
       " ('cassi', 107),\n",
       " ('ile', 106),\n",
       " ('doe', 103),\n",
       " ('hamlet', 100),\n",
       " ('go', 100),\n",
       " ('men', 96),\n",
       " ('hor', 95),\n",
       " ('vp', 94)]"
      ]
     },
     "execution_count": 282,
     "metadata": {},
     "output_type": "execute_result"
    }
   ],
   "source": [
    "# displayng the top 50 shakespeare words\n",
    "print(\"Top 50 words from shakespeare: \")\n",
    "print(\"   Word  Frequency\")\n",
    "sortedTop50[:50]"
   ]
  },
  {
   "cell_type": "code",
   "execution_count": 283,
   "metadata": {
    "collapsed": false
   },
   "outputs": [],
   "source": [
    "# getting all the words from webtext\n",
    "fileidsOfWebtext = nltk.corpus.webtext.fileids()\n",
    "wordsOfWebtext = nltk.corpus.webtext.words(fileidsOfWebtext)"
   ]
  },
  {
   "cell_type": "code",
   "execution_count": 284,
   "metadata": {
    "collapsed": true
   },
   "outputs": [],
   "source": [
    "webWords =[]\n",
    "# looping the words to convert to lower\n",
    "for w in wordsOfWebtext:\n",
    "    webWords.append(w.lower())"
   ]
  },
  {
   "cell_type": "code",
   "execution_count": 285,
   "metadata": {
    "collapsed": true
   },
   "outputs": [],
   "source": [
    "webLower = []\n",
    "for words in webWords:\n",
    "    if words.isalpha(): # checking whether the starting letter is alphabet to remove the numbers from list \n",
    "            if words not in stopwords: # checking if the word is not in the stop list \n",
    "                webLower.append(words)"
   ]
  },
  {
   "cell_type": "code",
   "execution_count": 286,
   "metadata": {
    "collapsed": false
   },
   "outputs": [],
   "source": [
    "webLower = [''.join(pun for pun in s if pun not in string.punctuation) for s in webLower] # removing the punctuations from the list\n",
    "webLower = [s for s in webLower if s] # remove the empty space from the list"
   ]
  },
  {
   "cell_type": "code",
   "execution_count": 287,
   "metadata": {
    "collapsed": false,
    "scrolled": true
   },
   "outputs": [],
   "source": [
    "topWebWords = {}\n",
    "for word in webLower: # Loop all the words to get the frequency of web words\n",
    "    if word not in topWebWords:\n",
    "        topWebWords[word] = 1\n",
    "    else:\n",
    "        topWebWords[word] += 1"
   ]
  },
  {
   "cell_type": "code",
   "execution_count": 288,
   "metadata": {
    "collapsed": false
   },
   "outputs": [],
   "source": [
    "# srting the web words in decending order\n",
    "webTop50 = sorted(topWebWords.items(), key=itemgetter(1),reverse=True)"
   ]
  },
  {
   "cell_type": "code",
   "execution_count": 289,
   "metadata": {
    "collapsed": false
   },
   "outputs": [
    {
     "data": {
      "text/plain": [
       "[('girl', 2956),\n",
       " ('guy', 2751),\n",
       " ('like', 1696),\n",
       " ('man', 1075),\n",
       " ('know', 1025),\n",
       " ('woman', 998),\n",
       " ('yeah', 895),\n",
       " ('page', 887),\n",
       " ('firefox', 879),\n",
       " ('get', 869),\n",
       " ('new', 790),\n",
       " ('chick', 714),\n",
       " ('one', 700),\n",
       " ('oh', 682),\n",
       " ('open', 679),\n",
       " ('window', 670),\n",
       " ('good', 644),\n",
       " ('bookmarks', 598),\n",
       " ('teen', 587),\n",
       " ('well', 586),\n",
       " ('firebird', 583),\n",
       " ('cell', 577),\n",
       " ('right', 576),\n",
       " ('go', 564),\n",
       " ('work', 537),\n",
       " ('bar', 536),\n",
       " ('menu', 530),\n",
       " ('tab', 529),\n",
       " ('lady', 524),\n",
       " ('toolbar', 518),\n",
       " ('boy', 488),\n",
       " ('want', 485),\n",
       " ('think', 484),\n",
       " ('browser', 484),\n",
       " ('jack', 483),\n",
       " ('bookmark', 482),\n",
       " ('old', 475),\n",
       " ('really', 473),\n",
       " ('going', 460),\n",
       " ('download', 442),\n",
       " ('url', 440),\n",
       " ('back', 434),\n",
       " ('time', 432),\n",
       " ('black', 422),\n",
       " ('manager', 420),\n",
       " ('little', 419),\n",
       " ('got', 409),\n",
       " ('crash', 396),\n",
       " ('would', 392),\n",
       " ('button', 386)]"
      ]
     },
     "execution_count": 289,
     "metadata": {},
     "output_type": "execute_result"
    }
   ],
   "source": [
    "webTop50[:50] # displaying the top 50 web words"
   ]
  },
  {
   "cell_type": "code",
   "execution_count": 290,
   "metadata": {
    "collapsed": false
   },
   "outputs": [],
   "source": [
    "unusualWords={}\n",
    "for word in shakeLower: # looping the shakespeare words  \n",
    "    if word not in webLower: # checking whether the shakespeare words is not present in web words\n",
    "        if word not in unusualWords: # if not present then add to dictionary and assign counter as value\n",
    "            unusualWords[word] = 1\n",
    "        else:\n",
    "            unusualWords[word] += 1"
   ]
  },
  {
   "cell_type": "code",
   "execution_count": 291,
   "metadata": {
    "collapsed": true
   },
   "outputs": [],
   "source": [
    "# sorting the unsual words in descending order\n",
    "sortingtop5 = sorted(unusualWords.items(), key=itemgetter(1),reverse=True)"
   ]
  },
  {
   "cell_type": "code",
   "execution_count": 293,
   "metadata": {
    "collapsed": false
   },
   "outputs": [
    {
     "name": "stdout",
     "output_type": "stream",
     "text": [
      "Top 5 unused words are:\n",
      "  [('haue', 448), ('brutus', 162), ('vpon', 162), ('bru', 153), ('hath', 144)]\n"
     ]
    }
   ],
   "source": [
    "# displayng the top 50 shakespeare words\n",
    "print(\"Top 5 unused words are:\\n \", sortingtop5[:5])\n"
   ]
  }
 ],
 "metadata": {
  "anaconda-cloud": {},
  "kernelspec": {
   "display_name": "Python [conda root]",
   "language": "python",
   "name": "conda-root-py"
  },
  "language_info": {
   "codemirror_mode": {
    "name": "ipython",
    "version": 3
   },
   "file_extension": ".py",
   "mimetype": "text/x-python",
   "name": "python",
   "nbconvert_exporter": "python",
   "pygments_lexer": "ipython3",
   "version": "3.5.2"
  }
 },
 "nbformat": 4,
 "nbformat_minor": 1
}
