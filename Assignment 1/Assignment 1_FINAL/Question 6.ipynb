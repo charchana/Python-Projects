{
 "cells": [
  {
   "cell_type": "markdown",
   "metadata": {},
   "source": [
    "# Question 6\n",
    "- Under Inaugural Address package\n",
    "- For every president, find out how many unique words they used in speech. \n",
    "- We will just assume that President Bush means one person (technically it is incorrect but we will ignore it)"
   ]
  },
  {
   "cell_type": "code",
   "execution_count": 5,
   "metadata": {
    "collapsed": true
   },
   "outputs": [],
   "source": [
    "import nltk"
   ]
  },
  {
   "cell_type": "code",
   "execution_count": 6,
   "metadata": {
    "collapsed": false
   },
   "outputs": [],
   "source": [
    "from nltk.corpus import inaugural\n",
    "all_presidents = inaugural.fileids() # getting all the files content in inaugural"
   ]
  },
  {
   "cell_type": "code",
   "execution_count": 7,
   "metadata": {
    "collapsed": false
   },
   "outputs": [],
   "source": [
    "clean_names = []\n",
    "presidentSpeech = {}   # empty dictionary is created to add the president name as key and words as value\n",
    "# iterating the list of each president speech\n",
    "for name in all_presidents:  \n",
    "        clean_name = name[5:-4]  # getting the name of the president\n",
    "        words = list(inaugural.words(name)) # getting the words spoke by president\n",
    "        if (clean_name not in presidentSpeech): # checking whether the president is present in the dictionary\n",
    "            presidentSpeech[clean_name] = words # false then assign value to key\n",
    "        else:\n",
    "            presidentSpeech[clean_name].extend(words) # true then extend the value of the key"
   ]
  },
  {
   "cell_type": "code",
   "execution_count": 8,
   "metadata": {
    "collapsed": false
   },
   "outputs": [
    {
     "name": "stdout",
     "output_type": "stream",
     "text": [
      "The number of unique words in Hoover speech is 1087\n",
      "The number of unique words in Roosevelt speech is 1704\n",
      "The number of unique words in VanBuren speech is 1318\n",
      "The number of unique words in Eisenhower speech is 1250\n",
      "The number of unique words in Reagan speech is 1453\n",
      "The number of unique words in Harrison speech is 2662\n",
      "The number of unique words in Johnson speech is 571\n",
      "The number of unique words in Nixon speech is 1037\n",
      "The number of unique words in Bush speech is 1578\n",
      "The number of unique words in Washington speech is 663\n",
      "The number of unique words in Madison speech is 899\n",
      "The number of unique words in Harding speech is 1170\n",
      "The number of unique words in Hayes speech is 832\n",
      "The number of unique words in Taylor speech is 499\n",
      "The number of unique words in Truman speech is 781\n",
      "The number of unique words in Taft speech is 1439\n",
      "The number of unique words in Jackson speech is 846\n",
      "The number of unique words in Coolidge speech is 1221\n",
      "The number of unique words in Kennedy speech is 570\n",
      "The number of unique words in Cleveland speech is 1219\n",
      "The number of unique words in Monroe speech is 1781\n",
      "The number of unique words in Obama speech is 938\n",
      "The number of unique words in Grant speech is 855\n",
      "The number of unique words in Adams speech is 1503\n",
      "The number of unique words in McKinley speech is 1682\n",
      "The number of unique words in Lincoln speech is 1261\n",
      "The number of unique words in Garfield speech is 1022\n",
      "The number of unique words in Wilson speech is 996\n",
      "The number of unique words in Jefferson speech is 1261\n",
      "The number of unique words in Carter speech is 529\n",
      "The number of unique words in Buchanan speech is 948\n",
      "The number of unique words in Clinton speech is 1138\n",
      "The number of unique words in Polk speech is 1333\n",
      "The number of unique words in Pierce speech is 1168\n"
     ]
    }
   ],
   "source": [
    "# iterate the dictinary to find the count of unique words in president speech \n",
    "for k in presidentSpeech:\n",
    "   words = set(presidentSpeech[k]).__len__()  # getting the unique words and its count\n",
    "   print ('The number of unique words in', k, 'speech is', words) # displaying the same"
   ]
  }
 ],
 "metadata": {
  "anaconda-cloud": {},
  "kernelspec": {
   "display_name": "Python [conda root]",
   "language": "python",
   "name": "conda-root-py"
  },
  "language_info": {
   "codemirror_mode": {
    "name": "ipython",
    "version": 3
   },
   "file_extension": ".py",
   "mimetype": "text/x-python",
   "name": "python",
   "nbconvert_exporter": "python",
   "pygments_lexer": "ipython3",
   "version": "3.5.2"
  }
 },
 "nbformat": 4,
 "nbformat_minor": 1
}
