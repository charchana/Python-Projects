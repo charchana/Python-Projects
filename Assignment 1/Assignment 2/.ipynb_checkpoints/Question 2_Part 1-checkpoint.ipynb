{
 "cells": [
  {
   "cell_type": "code",
   "execution_count": 103,
   "metadata": {
    "collapsed": false
   },
   "outputs": [],
   "source": [
    "import json\n",
    "import glob\n",
    "import os\n",
    "import shutil\n",
    "path = \"D:\\SEM 2\\Python\\Assignments\\Assignment 2\\Data Processed\"\n",
    "configfiles = glob.glob(\"D:\\SEM 2\\Python\\DataAnalysis4Python_Spring17\\Assignment 2\\Data\\*.json\")"
   ]
  },
  {
   "cell_type": "code",
   "execution_count": 104,
   "metadata": {
    "collapsed": true
   },
   "outputs": [],
   "source": [
    "def ensure_dir(file_path):\n",
    "    if not os.path.exists(file_path):\n",
    "        os.makedirs(file_path)"
   ]
  },
  {
   "cell_type": "code",
   "execution_count": 105,
   "metadata": {
    "collapsed": false
   },
   "outputs": [],
   "source": [
    "for file in configfiles:\n",
    "    with open(file) as json_file:\n",
    "        json_data = json.load(json_file)\n",
    "        for key, value in json_data.items(): \n",
    "            if key == 'location':\n",
    "                country = value.get('country')\n",
    "                state = value.get('state')\n",
    "                city = value.get('city')\n",
    "                directory = os.path.join(path + '\\\\' + country)\n",
    "                subdirectory = os.path.join(directory + '\\\\' + state)\n",
    "                subsubdirectory = os.path.join(subdirectory + '\\\\' + city)\n",
    "                ensure_dir(directory)\n",
    "                ensure_dir(subdirectory)\n",
    "                ensure_dir(subsubdirectory)\n",
    "            if key == 'term':\n",
    "                term = value\n",
    "                subsubsubdirectory = os.path.join(subsubdirectory + '\\\\' + term)\n",
    "                ensure_dir(subsubsubdirectory)\n",
    "                #filename = value + '.json'\n",
    "                #os.rename(file, subsubsubdirectory)\n",
    "                shutil.copy(file, subsubsubdirectory)\n",
    "                \n",
    "                #os.rename(os.path.basename(file), filename)\n",
    "                #fileName = os.path.basename(file)\n",
    "                #with open(filename, 'w+') as outfile:\n",
    "                    #json.dump(json_data, outfile)\n",
    "               \n",
    "               "
   ]
  },
  {
   "cell_type": "code",
   "execution_count": null,
   "metadata": {
    "collapsed": true
   },
   "outputs": [],
   "source": []
  }
 ],
 "metadata": {
  "anaconda-cloud": {},
  "kernelspec": {
   "display_name": "Python [conda root]",
   "language": "python",
   "name": "conda-root-py"
  },
  "language_info": {
   "codemirror_mode": {
    "name": "ipython",
    "version": 3
   },
   "file_extension": ".py",
   "mimetype": "text/x-python",
   "name": "python",
   "nbconvert_exporter": "python",
   "pygments_lexer": "ipython3",
   "version": "3.5.2"
  }
 },
 "nbformat": 4,
 "nbformat_minor": 1
}
