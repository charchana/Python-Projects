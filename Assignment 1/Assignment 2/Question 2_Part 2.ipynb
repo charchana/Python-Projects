{
 "cells": [
  {
   "cell_type": "code",
   "execution_count": 2,
   "metadata": {
    "collapsed": true
   },
   "outputs": [],
   "source": [
    "import json\n",
    "import glob\n",
    "import os\n",
    "import shutil\n",
    "path = \"D:\\SEM 2\\Python\\Assignments\\Assignment 2\\Data Processed\"\n",
    "configfiles = glob.glob(\"D:\\SEM 2\\Python\\DataAnalysis4Python_Spring17\\Assignment 2\\Data\\*.json\")"
   ]
  },
  {
   "cell_type": "code",
   "execution_count": 39,
   "metadata": {
    "collapsed": false
   },
   "outputs": [
    {
     "name": "stdout",
     "output_type": "stream",
     "text": [
      "[{'hours_type': 'REGULAR', 'open': [{'start': '0730', 'is_overnight': False, 'day': 0, 'end': '1530'}, {'start': '0730', 'is_overnight': False, 'day': 1, 'end': '1530'}, {'start': '0730', 'is_overnight': False, 'day': 2, 'end': '1530'}, {'start': '0730', 'is_overnight': False, 'day': 3, 'end': '1530'}, {'start': '0730', 'is_overnight': False, 'day': 4, 'end': '1530'}], 'is_open_now': False}]\n",
      "[{'hours_type': 'REGULAR', 'open': [{'start': '1030', 'is_overnight': False, 'end': '2030', 'day': 0}, {'start': '1030', 'is_overnight': False, 'end': '2030', 'day': 1}, {'start': '1030', 'is_overnight': False, 'end': '2030', 'day': 2}, {'start': '1030', 'is_overnight': False, 'end': '2030', 'day': 3}, {'start': '1030', 'is_overnight': False, 'end': '2030', 'day': 4}, {'start': '1030', 'is_overnight': False, 'end': '2000', 'day': 5}], 'is_open_now': False}]\n",
      "[{'hours_type': 'REGULAR', 'open': [{'start': '1100', 'is_overnight': False, 'day': 0, 'end': '2100'}, {'start': '1100', 'is_overnight': False, 'day': 2, 'end': '2100'}, {'start': '1100', 'is_overnight': False, 'day': 3, 'end': '2100'}, {'start': '1100', 'is_overnight': False, 'day': 4, 'end': '2100'}, {'start': '1100', 'is_overnight': False, 'day': 5, 'end': '2100'}, {'start': '1100', 'is_overnight': False, 'day': 6, 'end': '2100'}], 'is_open_now': False}]\n",
      "[{'hours_type': 'REGULAR', 'open': [{'start': '1130', 'is_overnight': False, 'day': 0, 'end': '1500'}, {'start': '1730', 'is_overnight': False, 'day': 0, 'end': '0000'}, {'start': '1130', 'is_overnight': False, 'day': 1, 'end': '1500'}, {'start': '1730', 'is_overnight': False, 'day': 1, 'end': '0000'}, {'start': '1130', 'is_overnight': False, 'day': 2, 'end': '1500'}, {'start': '1730', 'is_overnight': False, 'day': 2, 'end': '0000'}, {'start': '1130', 'is_overnight': False, 'day': 3, 'end': '1500'}, {'start': '1730', 'is_overnight': False, 'day': 3, 'end': '0000'}, {'start': '1130', 'is_overnight': False, 'day': 4, 'end': '1500'}, {'start': '1730', 'is_overnight': False, 'day': 4, 'end': '0000'}, {'start': '1130', 'is_overnight': False, 'day': 5, 'end': '1500'}, {'start': '1730', 'is_overnight': False, 'day': 5, 'end': '0000'}, {'start': '1130', 'is_overnight': False, 'day': 6, 'end': '1500'}, {'start': '1730', 'is_overnight': False, 'day': 6, 'end': '0000'}], 'is_open_now': False}]\n"
     ]
    },
    {
     "ename": "KeyError",
     "evalue": "'hours'",
     "output_type": "error",
     "traceback": [
      "\u001b[0;31m---------------------------------------------------------------------------\u001b[0m",
      "\u001b[0;31mKeyError\u001b[0m                                  Traceback (most recent call last)",
      "\u001b[0;32m<ipython-input-39-b2482f1dccfa>\u001b[0m in \u001b[0;36m<module>\u001b[0;34m()\u001b[0m\n\u001b[1;32m      2\u001b[0m     \u001b[1;32mwith\u001b[0m \u001b[0mopen\u001b[0m\u001b[1;33m(\u001b[0m\u001b[0mfile\u001b[0m\u001b[1;33m)\u001b[0m \u001b[1;32mas\u001b[0m \u001b[0mjson_file\u001b[0m\u001b[1;33m:\u001b[0m\u001b[1;33m\u001b[0m\u001b[0m\n\u001b[1;32m      3\u001b[0m         \u001b[0mjson_data\u001b[0m \u001b[1;33m=\u001b[0m \u001b[0mjson\u001b[0m\u001b[1;33m.\u001b[0m\u001b[0mload\u001b[0m\u001b[1;33m(\u001b[0m\u001b[0mjson_file\u001b[0m\u001b[1;33m)\u001b[0m\u001b[1;33m\u001b[0m\u001b[0m\n\u001b[0;32m----> 4\u001b[0;31m         \u001b[0ma\u001b[0m \u001b[1;33m=\u001b[0m \u001b[0mjson_data\u001b[0m\u001b[1;33m[\u001b[0m\u001b[1;34m\"hours\"\u001b[0m\u001b[1;33m]\u001b[0m\u001b[1;33m\u001b[0m\u001b[0m\n\u001b[0m\u001b[1;32m      5\u001b[0m         \u001b[0mprint\u001b[0m\u001b[1;33m(\u001b[0m\u001b[0ma\u001b[0m\u001b[1;33m)\u001b[0m\u001b[1;33m\u001b[0m\u001b[0m\n\u001b[1;32m      6\u001b[0m        \u001b[1;31m# if json_data['term'] == 'restaurants':\u001b[0m\u001b[1;33m\u001b[0m\u001b[1;33m\u001b[0m\u001b[0m\n",
      "\u001b[0;31mKeyError\u001b[0m: 'hours'"
     ]
    }
   ],
   "source": [
    "for file in configfiles:\n",
    "    with open(file) as json_file:\n",
    "        json_data = json.load(json_file)\n",
    "        if json_data['term'] == 'restaurants':\n",
    "        \n"
   ]
  },
  {
   "cell_type": "code",
   "execution_count": null,
   "metadata": {
    "collapsed": true
   },
   "outputs": [],
   "source": [
    "print(\"entering restaurants\")\n",
    "            if key == 'open':\n",
    "                        print(\"entering open\")\n",
    "                        openContent = value\n",
    "                        print(openContent)"
   ]
  }
 ],
 "metadata": {
  "anaconda-cloud": {},
  "kernelspec": {
   "display_name": "Python [conda root]",
   "language": "python",
   "name": "conda-root-py"
  },
  "language_info": {
   "codemirror_mode": {
    "name": "ipython",
    "version": 3
   },
   "file_extension": ".py",
   "mimetype": "text/x-python",
   "name": "python",
   "nbconvert_exporter": "python",
   "pygments_lexer": "ipython3",
   "version": "3.5.2"
  }
 },
 "nbformat": 4,
 "nbformat_minor": 1
}
