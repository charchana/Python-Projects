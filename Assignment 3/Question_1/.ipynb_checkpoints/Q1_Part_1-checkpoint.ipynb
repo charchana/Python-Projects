{
 "cells": [
  {
   "cell_type": "markdown",
   "metadata": {},
   "source": [
    "# NYC VEHICLE COLLISION ANALYSIS\n",
    "## Q1_PART ONE\n",
    "\n",
    "- Use ‘vehicle_collisions’ data set.\n",
    "\n",
    "- For each month in 2016, find out the percentage of collisions in Manhattan out of that year's total accidents in New York City.\n",
    "\n",
    "- Display a few rows of the outputuse df.head().\n",
    "\n",
    "- Generate a csv output with four columns (‘Month’, ‘Manhattan’, ‘NYC’, ‘Percentage’)\n"
   ]
  },
  {
   "cell_type": "code",
   "execution_count": 1,
   "metadata": {
    "collapsed": false
   },
   "outputs": [],
   "source": [
    "# importing all the packages needed \n",
    "import os\n",
    "import pandas as pd\n",
    "import calendar"
   ]
  },
  {
   "cell_type": "code",
   "execution_count": 2,
   "metadata": {
    "collapsed": false
   },
   "outputs": [],
   "source": [
    "path = os.getcwd() # getting the path of current working directory to create the folder structure\n",
    "configfile = os.path.join(path + '\\Data' + '\\\\vehicle_collisions.csv') # getting the path of the json files to be read"
   ]
  },
  {
   "cell_type": "code",
   "execution_count": 3,
   "metadata": {
    "collapsed": false
   },
   "outputs": [],
   "source": [
    "# filtering the specific columns needed alone and filling the NAN rows as 0\n",
    "fields = ['DATE', 'BOROUGH']\n",
    "df = pd.read_csv(configfile,skipinitialspace=True, usecols=fields)\n",
    "df = df.fillna(0)"
   ]
  },
  {
   "cell_type": "code",
   "execution_count": 4,
   "metadata": {
    "collapsed": false
   },
   "outputs": [],
   "source": [
    "# extracting year and month from the date field as seperate YEAR ans MONTH column\n",
    "df['DATE'] = pd.to_datetime(df['DATE'])\n",
    "df['YEAR'], df['MONTH'] = df['DATE'].apply(lambda x: x.year), df['DATE'].apply(lambda x: x.month)"
   ]
  },
  {
   "cell_type": "code",
   "execution_count": 5,
   "metadata": {
    "collapsed": false
   },
   "outputs": [],
   "source": [
    "year2016 = df[(df['YEAR'] == 2016)] # filtering the year 2016 data\n",
    "year2016 = year2016.sort_values(['MONTH'], ascending=1) # sorting the data with month\n",
    "year2016['MONTH'] = year2016['MONTH'].apply(lambda x: calendar.month_abbr[x]) # changing the month format"
   ]
  },
  {
   "cell_type": "code",
   "execution_count": 6,
   "metadata": {
    "collapsed": false
   },
   "outputs": [],
   "source": [
    "months = year2016.groupby(['MONTH'], sort = False).size().to_frame().reset_index() # grouping by month and finding the count\n",
    "cond = (year2016['BOROUGH'] == 'MANHATTAN') # filtering manhattan data\n",
    "manMonth = year2016[cond].groupby(['MONTH'], sort = False).size().to_frame().reset_index() # grouping by month for manhattand data and finding count\n",
    "manMonth.rename(columns = {0:'MANHATTAN'}, inplace=True) # renaming the columns\n",
    "months.rename(columns = {0:'NYC'}, inplace=True) # renaming the columns"
   ]
  },
  {
   "cell_type": "code",
   "execution_count": 7,
   "metadata": {
    "collapsed": false
   },
   "outputs": [
    {
     "name": "stdout",
     "output_type": "stream",
     "text": [
      "  MONTH  MANHATTAN    NYC  PERCENTAGE\n",
      "0   Jan       3178  18101    0.175570\n",
      "1   Feb       3195  15985    0.199875\n",
      "2   Mar       3479  18471    0.188349\n",
      "3   Apr       3540  18331    0.193115\n",
      "4   May       3432  20052    0.171155\n"
     ]
    }
   ],
   "source": [
    "manhattanNYC = manMonth.merge(months, how = 'outer') # merging the dataframes\n",
    "percent = manhattanNYC['MANHATTAN']/manhattanNYC['NYC'] # finding the percentage of collisions\n",
    "manhattanNYC['PERCENTAGE'] = percent # creating a new cloumn for percent\n",
    "manhattanNYC.rename(columns = {2: 'NYC', 1:'MANHATTAN'}, inplace=True) # renaming the columns \n",
    "print(manhattanNYC.head())"
   ]
  },
  {
   "cell_type": "code",
   "execution_count": 8,
   "metadata": {
    "collapsed": false
   },
   "outputs": [],
   "source": [
    "# exporting the analysed data to a csv file \n",
    "manhattanNYC.to_csv(os.path.join(path + '\\Outputs\\Q1_Part_1\\Q1_Part_1.csv'),index=False)"
   ]
  },
  {
   "cell_type": "code",
   "execution_count": null,
   "metadata": {
    "collapsed": true
   },
   "outputs": [],
   "source": []
  }
 ],
 "metadata": {
  "anaconda-cloud": {},
  "kernelspec": {
   "display_name": "Python [conda root]",
   "language": "python",
   "name": "conda-root-py"
  },
  "language_info": {
   "codemirror_mode": {
    "name": "ipython",
    "version": 3
   },
   "file_extension": ".py",
   "mimetype": "text/x-python",
   "name": "python",
   "nbconvert_exporter": "python",
   "pygments_lexer": "ipython3",
   "version": "3.5.2"
  }
 },
 "nbformat": 4,
 "nbformat_minor": 1
}
