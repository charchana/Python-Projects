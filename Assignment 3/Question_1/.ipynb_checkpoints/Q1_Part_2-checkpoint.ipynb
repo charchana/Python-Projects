{
 "cells": [
  {
   "cell_type": "markdown",
   "metadata": {},
   "source": [
    "# NYCVEHICLE COLLISION ANALYSIS\n",
    "## Q1_PART TWO\n",
    "\n",
    "- Use ‘vehicle_collisions’ data set.\n",
    "\n",
    "- For each borough, find out distribution of each collision scale. (One car involved? Two? Three? or more?) (From 2015 to present)\n",
    "\n",
    "- Display a few rows of the outputuse df.head().\n",
    "\n",
    "- Generate a csv output with five columns ('borough', 'one-vehicle', 'two-vehicles', 'three-vehicles', 'more-vehicles')\n"
   ]
  },
  {
   "cell_type": "code",
   "execution_count": 1,
   "metadata": {
    "collapsed": true
   },
   "outputs": [],
   "source": [
    "# importing all the packages needed \n",
    "import os\n",
    "import pandas as pd\n",
    "import calendar\n",
    "import numpy as np"
   ]
  },
  {
   "cell_type": "code",
   "execution_count": 66,
   "metadata": {
    "collapsed": false
   },
   "outputs": [],
   "source": [
    "path = os.getcwd() # getting the path of current working directory to create the folder structure\n",
    "configfile = os.path.join(path + '\\Data' + '\\\\vehicle_collisions.csv') # getting the path of the json files to be read"
   ]
  },
  {
   "cell_type": "code",
   "execution_count": 33,
   "metadata": {
    "collapsed": false
   },
   "outputs": [],
   "source": [
    "# filtering the specific columns needed alone and dropping the NAN rows\n",
    "fields = ['DATE','BOROUGH', 'VEHICLE 1 TYPE', 'VEHICLE 2 TYPE', 'VEHICLE 3 TYPE', 'VEHICLE 4 TYPE', 'VEHICLE 5 TYPE']\n",
    "VEHICLE_COLLISION = pd.read_csv(configfile,skipinitialspace=True, usecols=fields)\n",
    "VEHICLE_COLLISION = VEHICLE_COLLISION.dropna(subset=['BOROUGH'])"
   ]
  },
  {
   "cell_type": "code",
   "execution_count": 35,
   "metadata": {
    "collapsed": false
   },
   "outputs": [],
   "source": [
    "# We are replacing the string value of vehicle type with 1 \n",
    "VEHICLE_COLLISION['VEHICLE 1 TYPE'] = VEHICLE_COLLISION['VEHICLE 1 TYPE'].str.replace('.*', '1')\n",
    "VEHICLE_COLLISION['VEHICLE 2 TYPE'] = VEHICLE_COLLISION['VEHICLE 2 TYPE'].str.replace('.*', '1')\n",
    "VEHICLE_COLLISION['VEHICLE 3 TYPE'] = VEHICLE_COLLISION['VEHICLE 3 TYPE'].str.replace('.*', '1')\n",
    "VEHICLE_COLLISION['VEHICLE 4 TYPE'] = VEHICLE_COLLISION['VEHICLE 4 TYPE'].str.replace('.*', '1')\n",
    "VEHICLE_COLLISION['VEHICLE 5 TYPE'] = VEHICLE_COLLISION['VEHICLE 5 TYPE'].str.replace('.*', '1')"
   ]
  },
  {
   "cell_type": "code",
   "execution_count": 36,
   "metadata": {
    "collapsed": true
   },
   "outputs": [],
   "source": [
    "VEHICLE_COLLISION = VEHICLE_COLLISION.fillna(0) # filling the nan values with 0"
   ]
  },
  {
   "cell_type": "code",
   "execution_count": 40,
   "metadata": {
    "collapsed": true
   },
   "outputs": [],
   "source": [
    "# summing all the vehicle type values\n",
    "VEHICLE_COLLISION[\"VEHICLE_COUNT\"] = VEHICLE_COLLISION[['VEHICLE 1 TYPE', 'VEHICLE 2 TYPE', 'VEHICLE 3 TYPE', 'VEHICLE 4 TYPE', 'VEHICLE 5 TYPE']].astype(int).sum(axis=1)"
   ]
  },
  {
   "cell_type": "code",
   "execution_count": 42,
   "metadata": {
    "collapsed": false
   },
   "outputs": [],
   "source": [
    "# assing the sum to a new column\n",
    "VEHICLE_COLLISION[\"TOTAL_VEHICLE_COUNT\"]= VEHICLE_COLLISION[\"VEHICLE_COUNT\"]"
   ]
  },
  {
   "cell_type": "code",
   "execution_count": 45,
   "metadata": {
    "collapsed": false
   },
   "outputs": [],
   "source": [
    "# summing the total count of each vehicle count value\n",
    "VEHICLE_COLLISION_COUNT= pd.DataFrame(VEHICLE_COLLISION.groupby([\"BOROUGH\", 'VEHICLE_COUNT']).TOTAL_VEHICLE_COUNT.sum().reset_index())"
   ]
  },
  {
   "cell_type": "code",
   "execution_count": 21,
   "metadata": {
    "collapsed": true
   },
   "outputs": [],
   "source": [
    "BOROUGH= VEHICLE_COLLISION_COUNT.BOROUGH.unique() # finding the unique borough values\n",
    "VEHICLEs= VEHICLE_COLLISION_COUNT.VEHICLE_COUNT.unique() # finding the unique vehicle count values"
   ]
  },
  {
   "cell_type": "code",
   "execution_count": 47,
   "metadata": {
    "collapsed": false
   },
   "outputs": [],
   "source": [
    "# looping through the dictionary to to find the number of vehicles for each borough\n",
    "temp=[]\n",
    "vehiclesCountList = []\n",
    "for each in BOROUGH:\n",
    "    for C1,C2,C3 in zip(VEHICLE_COLLISION_COUNT.BOROUGH, VEHICLE_COLLISION_COUNT.VEHICLE_COUNT, VEHICLE_COLLISION_COUNT.TOTAL_VEHICLE_COUNT): \n",
    "            if C1 == each:\n",
    "                temp.append(C3)\n",
    "    vehiclesCountList.append(temp)\n",
    "    temp=[]   "
   ]
  },
  {
   "cell_type": "code",
   "execution_count": 54,
   "metadata": {
    "collapsed": false
   },
   "outputs": [],
   "source": [
    "# creating the columns of the final analysis frame\n",
    "VEHICLE_FRAME = pd.DataFrame(vehiclesCountList, columns=[\"ZERO_VEHICLE_INVOLVED\",\"ONE_VEHICLE_INVOLVED\",\"TWO_VEHICLE_INVOLVED\",\"THREE_VEHICLE_INVOLVED\",\"FOUR_VEHICLE_INVOLVED\",\"FIVE_VEHICLE_INVOLVED\"])"
   ]
  },
  {
   "cell_type": "code",
   "execution_count": 55,
   "metadata": {
    "collapsed": false
   },
   "outputs": [],
   "source": [
    "VEHICLE_FRAME.drop([\"ZERO_VEHICLE_INVOLVED\"], axis=1, inplace=True) # dropping the list of 0 vehicle count"
   ]
  },
  {
   "cell_type": "code",
   "execution_count": 56,
   "metadata": {
    "collapsed": false
   },
   "outputs": [],
   "source": [
    "VEHICLES_ANALYSIS = pd.DataFrame(BOROUGH,columns=[\"BOROUGH\"]) # creating the borough data frame"
   ]
  },
  {
   "cell_type": "code",
   "execution_count": 57,
   "metadata": {
    "collapsed": true
   },
   "outputs": [],
   "source": [
    "VEHICLES_ANALYSIS= pd.concat([VEHICLES_ANALYSIS, VEHICLE_FRAME], axis=1) # merging the borough with the vehicle count"
   ]
  },
  {
   "cell_type": "code",
   "execution_count": 58,
   "metadata": {
    "collapsed": false
   },
   "outputs": [],
   "source": [
    "# calculating the sum for all the number of vehicles\n",
    "VEHICLES_ANALYSIS[\"TWO_VEHICLE_INVOLVED\"]= (VEHICLES_ANALYSIS[\"TWO_VEHICLE_INVOLVED\"]/2).astype(int)\n",
    "VEHICLES_ANALYSIS[\"THREE_VEHICLE_INVOLVED\"]= (VEHICLES_ANALYSIS[\"THREE_VEHICLE_INVOLVED\"]/3).astype(int)\n",
    "VEHICLES_ANALYSIS[\"FOUR_VEHICLE_INVOLVED\"]= (VEHICLES_ANALYSIS[\"FOUR_VEHICLE_INVOLVED\"]/4).astype(int)\n",
    "VEHICLES_ANALYSIS[\"FIVE_VEHICLE_INVOLVED\"]= (VEHICLES_ANALYSIS[\"FIVE_VEHICLE_INVOLVED\"]/5).astype(int)\n",
    "VEHICLES_ANALYSIS[\"MORE_VEHICLE_INVOLVED\"] = VEHICLES_ANALYSIS[\"FOUR_VEHICLE_INVOLVED\"]+VEHICLES_ANALYSIS[\"FIVE_VEHICLE_INVOLVED\"]\n",
    "VEHICLES_ANALYSIS.drop([\"FOUR_VEHICLE_INVOLVED\",\"FIVE_VEHICLE_INVOLVED\"], axis=1, inplace=True)"
   ]
  },
  {
   "cell_type": "code",
   "execution_count": 60,
   "metadata": {
    "collapsed": false
   },
   "outputs": [
    {
     "data": {
      "text/html": [
       "<div>\n",
       "<table border=\"1\" class=\"dataframe\">\n",
       "  <thead>\n",
       "    <tr style=\"text-align: right;\">\n",
       "      <th></th>\n",
       "      <th>BOROUGH</th>\n",
       "      <th>ONE_VEHICLE_INVOLVED</th>\n",
       "      <th>TWO_VEHICLE_INVOLVED</th>\n",
       "      <th>THREE_VEHICLE_INVOLVED</th>\n",
       "      <th>MORE_VEHICLE_INVOLVED</th>\n",
       "    </tr>\n",
       "  </thead>\n",
       "  <tbody>\n",
       "    <tr>\n",
       "      <th>0</th>\n",
       "      <td>BRONX</td>\n",
       "      <td>8627</td>\n",
       "      <td>34385</td>\n",
       "      <td>1962</td>\n",
       "      <td>625</td>\n",
       "    </tr>\n",
       "    <tr>\n",
       "      <th>1</th>\n",
       "      <td>BROOKLYN</td>\n",
       "      <td>17375</td>\n",
       "      <td>80207</td>\n",
       "      <td>4980</td>\n",
       "      <td>1612</td>\n",
       "    </tr>\n",
       "    <tr>\n",
       "      <th>2</th>\n",
       "      <td>MANHATTAN</td>\n",
       "      <td>13318</td>\n",
       "      <td>66958</td>\n",
       "      <td>2024</td>\n",
       "      <td>501</td>\n",
       "    </tr>\n",
       "  </tbody>\n",
       "</table>\n",
       "</div>"
      ],
      "text/plain": [
       "     BOROUGH  ONE_VEHICLE_INVOLVED  TWO_VEHICLE_INVOLVED  \\\n",
       "0      BRONX                  8627                 34385   \n",
       "1   BROOKLYN                 17375                 80207   \n",
       "2  MANHATTAN                 13318                 66958   \n",
       "\n",
       "   THREE_VEHICLE_INVOLVED  MORE_VEHICLE_INVOLVED  \n",
       "0                    1962                    625  \n",
       "1                    4980                   1612  \n",
       "2                    2024                    501  "
      ]
     },
     "execution_count": 60,
     "metadata": {},
     "output_type": "execute_result"
    }
   ],
   "source": [
    "# final frame data \n",
    "print(VEHICLES_ANALYSIS.head(3))"
   ]
  },
  {
   "cell_type": "code",
   "execution_count": 65,
   "metadata": {
    "collapsed": false
   },
   "outputs": [],
   "source": [
    "# exporting the analysed data to a csv file \n",
    "VEHICLES_ANALYSIS.to_csv(os.path.join(path + '\\Outputs\\Q2_Part_2\\Q2_Part_2.csv'),index=False)"
   ]
  }
 ],
 "metadata": {
  "anaconda-cloud": {},
  "kernelspec": {
   "display_name": "Python [conda root]",
   "language": "python",
   "name": "conda-root-py"
  },
  "language_info": {
   "codemirror_mode": {
    "name": "ipython",
    "version": 3
   },
   "file_extension": ".py",
   "mimetype": "text/x-python",
   "name": "python",
   "nbconvert_exporter": "python",
   "pygments_lexer": "ipython3",
   "version": "3.5.2"
  }
 },
 "nbformat": 4,
 "nbformat_minor": 1
}
