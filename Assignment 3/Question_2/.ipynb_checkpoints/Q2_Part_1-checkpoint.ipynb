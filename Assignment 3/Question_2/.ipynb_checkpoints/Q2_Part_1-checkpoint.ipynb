{
 "cells": [
  {
   "cell_type": "markdown",
   "metadata": {},
   "source": [
    "# EMPLOYEE COMPENSATION ANALYSIS\n",
    "## Q2_PART ONE\n",
    "\n",
    "- Use 'employee_compensation' data set.\n",
    "\n",
    "- Find out the highest paid departments in each organization group by calculating mean of total compensation for every department.\n",
    "\n",
    "- Output should contain the organization group and the departments in each organization group with the total compensationfrom highest to lowest value.\n",
    "\n",
    "- Display a few rows of the outputuse df.head().\n",
    "\n",
    "- Generate a csv output."
   ]
  },
  {
   "cell_type": "code",
   "execution_count": 13,
   "metadata": {
    "collapsed": true
   },
   "outputs": [],
   "source": [
    "# importing all the packages needed \n",
    "import os\n",
    "import pandas as pd\n",
    "import warnings\n",
    "warnings.filterwarnings('ignore')"
   ]
  },
  {
   "cell_type": "code",
   "execution_count": 15,
   "metadata": {
    "collapsed": false
   },
   "outputs": [],
   "source": [
    "path = os.getcwd() # getting the current working directory\n",
    "configfile = os.path.join(os.getcwd() + '\\\\Data\\\\employee_compensation.csv') # getting the path of the json files to be read"
   ]
  },
  {
   "cell_type": "code",
   "execution_count": 6,
   "metadata": {
    "collapsed": false
   },
   "outputs": [],
   "source": [
    "# filtering the specific columns needed alone\n",
    "fields = ['Organization Group', 'Department', 'Total Compensation']\n",
    "df = pd.read_csv(configfile,skipinitialspace=True, usecols=fields)"
   ]
  },
  {
   "cell_type": "code",
   "execution_count": 7,
   "metadata": {
    "collapsed": false
   },
   "outputs": [],
   "source": [
    "Total_Compensation_Group = df.groupby(['Organization Group', 'Department']).mean() # calculating the mean of the groupped data"
   ]
  },
  {
   "cell_type": "code",
   "execution_count": 14,
   "metadata": {
    "collapsed": false
   },
   "outputs": [
    {
     "data": {
      "text/html": [
       "<div>\n",
       "<table border=\"1\" class=\"dataframe\">\n",
       "  <thead>\n",
       "    <tr style=\"text-align: right;\">\n",
       "      <th></th>\n",
       "      <th>Organization Group</th>\n",
       "      <th>Department</th>\n",
       "      <th>Total Compensation</th>\n",
       "    </tr>\n",
       "  </thead>\n",
       "  <tbody>\n",
       "    <tr>\n",
       "      <th>0</th>\n",
       "      <td>Community Health</td>\n",
       "      <td>Public Health</td>\n",
       "      <td>96190.190140</td>\n",
       "    </tr>\n",
       "    <tr>\n",
       "      <th>1</th>\n",
       "      <td>Culture &amp; Recreation</td>\n",
       "      <td>Law Library</td>\n",
       "      <td>188424.362222</td>\n",
       "    </tr>\n",
       "    <tr>\n",
       "      <th>2</th>\n",
       "      <td>Culture &amp; Recreation</td>\n",
       "      <td>Academy of Sciences</td>\n",
       "      <td>107319.727692</td>\n",
       "    </tr>\n",
       "    <tr>\n",
       "      <th>3</th>\n",
       "      <td>Culture &amp; Recreation</td>\n",
       "      <td>Arts Commission</td>\n",
       "      <td>94339.597388</td>\n",
       "    </tr>\n",
       "    <tr>\n",
       "      <th>4</th>\n",
       "      <td>Culture &amp; Recreation</td>\n",
       "      <td>War Memorial</td>\n",
       "      <td>76250.068022</td>\n",
       "    </tr>\n",
       "  </tbody>\n",
       "</table>\n",
       "</div>"
      ],
      "text/plain": [
       "     Organization Group           Department  Total Compensation\n",
       "0      Community Health        Public Health        96190.190140\n",
       "1  Culture & Recreation          Law Library       188424.362222\n",
       "2  Culture & Recreation  Academy of Sciences       107319.727692\n",
       "3  Culture & Recreation      Arts Commission        94339.597388\n",
       "4  Culture & Recreation         War Memorial        76250.068022"
      ]
     },
     "execution_count": 14,
     "metadata": {},
     "output_type": "execute_result"
    }
   ],
   "source": [
    "# groupping the data with level 0 and sorting them in decending order\n",
    "Total_Compensation_Group_Sort = Total_Compensation_Group['Total Compensation'].groupby(level=0, group_keys=False)\n",
    "Employee_Compensation = pd.DataFrame(Total_Compensation_Group_Sort.apply(lambda x: x.order(ascending=False)).reset_index())\n",
    "print(Employee_Compensation.head()) # displaying the first 5 records"
   ]
  },
  {
   "cell_type": "code",
   "execution_count": 10,
   "metadata": {
    "collapsed": false
   },
   "outputs": [],
   "source": [
    "# exporting the analysed data to a csv file\n",
    "Employee_Compensation.to_csv(os.path.join(path + '\\Outputs\\Q2_Part_1\\Q2_Part_1.csv'),index=True)"
   ]
  }
 ],
 "metadata": {
  "anaconda-cloud": {},
  "kernelspec": {
   "display_name": "Python [conda root]",
   "language": "python",
   "name": "conda-root-py"
  },
  "language_info": {
   "codemirror_mode": {
    "name": "ipython",
    "version": 3
   },
   "file_extension": ".py",
   "mimetype": "text/x-python",
   "name": "python",
   "nbconvert_exporter": "python",
   "pygments_lexer": "ipython3",
   "version": "3.5.2"
  }
 },
 "nbformat": 4,
 "nbformat_minor": 1
}
