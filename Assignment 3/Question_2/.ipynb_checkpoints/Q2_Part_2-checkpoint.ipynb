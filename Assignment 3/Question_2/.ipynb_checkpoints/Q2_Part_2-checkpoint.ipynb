{
 "cells": [
  {
   "cell_type": "markdown",
   "metadata": {},
   "source": [
    "# EMPLOYEE COMPENSATION ANALYSIS\n",
    "## Q2_PART TWO\n",
    "- Use 'employee_compensation' data set.\n",
    "\n",
    "- Data contains fiscal and calendar year information. Same employee details exist twice in the dataset. Filter data by calendar year and find average salary (you might have to find average for each of the columns for every employee. Eg. Average of Total Benefits, Average of total compensation etc.) for every employee.\n",
    "\n",
    "- Now, find the people whose overtime salary is greater than 5% of salaries (salaries refers to ’Salaries' column)\n",
    "\n",
    "- For each ‘Job Family’ these people are associated with, calculate the percentage of total benefits with respect to total compensation (so for each job family you have to calculate average total benefits and average total compensation). Create a new column to hold the percentage value. \n",
    "\n",
    "- Displaythe top 5 Job Families according to this percentage value usingdf.head().\n",
    "\n",
    "- Write the output (jobs and percentage value) to a csv."
   ]
  },
  {
   "cell_type": "code",
   "execution_count": 1,
   "metadata": {
    "collapsed": true
   },
   "outputs": [],
   "source": [
    "# importing all the packages needed \n",
    "import os\n",
    "import pandas as pd"
   ]
  },
  {
   "cell_type": "code",
   "execution_count": 2,
   "metadata": {
    "collapsed": true
   },
   "outputs": [],
   "source": [
    "path = os.getcwd() # getting the path of current working directory to create the folder structure\n",
    "configfile = os.path.join(path + '\\Data' + '\\\\employee_compensation.csv') # getting the path of the json files to be read"
   ]
  },
  {
   "cell_type": "code",
   "execution_count": 3,
   "metadata": {
    "collapsed": false
   },
   "outputs": [],
   "source": [
    "df = pd.read_csv(configfile) # READING THE CSV FILE\n",
    "Calendar_Data = df[df['Year Type'] == 'Calendar'] # filtering the calendar data"
   ]
  },
  {
   "cell_type": "code",
   "execution_count": 4,
   "metadata": {
    "collapsed": false
   },
   "outputs": [],
   "source": [
    "# filtering the specific columns\n",
    "Calendar_Data_Details = Calendar_Data[[\"Salaries\",\"Overtime\",\"Other Salaries\",\"Total Salary\",\"Retirement\",\"Health/Dental\",\"Other Benefits\",\"Total Benefits\",\"Total Compensation\"]]"
   ]
  },
  {
   "cell_type": "code",
   "execution_count": 5,
   "metadata": {
    "collapsed": false
   },
   "outputs": [],
   "source": [
    "# groupping the data with employee id and calculating the mean\n",
    "Employees_Group = Calendar_Data.groupby(['Employee Identifier'])[\"Salaries\",\"Overtime\",\"Other Salaries\",\"Total Salary\",\"Retirement\",\"Health/Dental\",\"Other Benefits\",\"Total Benefits\",\"Total Compensation\"].mean().reset_index()\n",
    "Employees_Group_Frame = pd.DataFrame(Employees_Group)"
   ]
  },
  {
   "cell_type": "code",
   "execution_count": 6,
   "metadata": {
    "collapsed": false
   },
   "outputs": [],
   "source": [
    "# filtering the data with overtime > salaries 5 %\n",
    "fivePercentCheck = Employees_Group_Frame[Employees_Group_Frame.Overtime > (0.05*Employees_Group_Frame.Salaries)]"
   ]
  },
  {
   "cell_type": "code",
   "execution_count": 7,
   "metadata": {
    "collapsed": false
   },
   "outputs": [],
   "source": [
    "# grouping the data with job family and employee id\n",
    "jobFamily = Calendar_Data[['Employee Identifier','Job Family']]\n",
    "jobFamily = jobFamily.drop_duplicates()"
   ]
  },
  {
   "cell_type": "code",
   "execution_count": 8,
   "metadata": {
    "collapsed": true
   },
   "outputs": [],
   "source": [
    "mergedFrame = pd.merge(jobFamily,fivePercentCheck, on = 'Employee Identifier' ) # merging the two frames"
   ]
  },
  {
   "cell_type": "code",
   "execution_count": 9,
   "metadata": {
    "collapsed": false
   },
   "outputs": [],
   "source": [
    "# grouping the data frame with job family and calculating the mean\n",
    "Employees_Group = mergedFrame.groupby(['Job Family'])['Total Benefits','Total Compensation'].mean().reset_index()\n",
    "Employees_Group_Frame = pd.DataFrame(Employees_Group)"
   ]
  },
  {
   "cell_type": "code",
   "execution_count": 10,
   "metadata": {
    "collapsed": false
   },
   "outputs": [],
   "source": [
    "# assigning the percentage value to a new column\n",
    "Employees_Group_Frame['Percent Total Benefit'] = (Employees_Group_Frame['Total Benefits']/Employees_Group_Frame['Total Compensation'])*100"
   ]
  },
  {
   "cell_type": "code",
   "execution_count": 11,
   "metadata": {
    "collapsed": false
   },
   "outputs": [
    {
     "name": "stdout",
     "output_type": "stream",
     "text": [
      "                   Job Family  Total Benefits  Total Compensation  \\\n",
      "39        Public Service Aide    11868.420224        34963.143560   \n",
      "28                 Park & Zoo    19720.193636        58792.004659   \n",
      "7       Community Development    14466.894167        44232.240833   \n",
      "42                    Revenue    13609.454414        41939.371671   \n",
      "26  Museum & Cultural Affairs    27037.390000        83926.070000   \n",
      "\n",
      "    Percent Total Benefit  \n",
      "39              33.945518  \n",
      "28              33.542305  \n",
      "7               32.706673  \n",
      "42              32.450306  \n",
      "26              32.215723  \n"
     ]
    }
   ],
   "source": [
    "# sorting the data with percent value in decending order\n",
    "Employees_Group_Frame = Employees_Group_Frame.sort_values('Percent Total Benefit', ascending = 0)\n",
    "print(Employees_Group_Frame.head())"
   ]
  },
  {
   "cell_type": "code",
   "execution_count": 12,
   "metadata": {
    "collapsed": false
   },
   "outputs": [],
   "source": [
    "# exporting the analysed data to a csv file \n",
    "Employees_Group_Frame.to_csv(os.path.join(path + '\\Outputs\\Q2_Part_2\\Q2_Part_2.csv'),index=False)"
   ]
  }
 ],
 "metadata": {
  "anaconda-cloud": {},
  "kernelspec": {
   "display_name": "Python [conda root]",
   "language": "python",
   "name": "conda-root-py"
  },
  "language_info": {
   "codemirror_mode": {
    "name": "ipython",
    "version": 3
   },
   "file_extension": ".py",
   "mimetype": "text/x-python",
   "name": "python",
   "nbconvert_exporter": "python",
   "pygments_lexer": "ipython3",
   "version": "3.5.2"
  }
 },
 "nbformat": 4,
 "nbformat_minor": 1
}
