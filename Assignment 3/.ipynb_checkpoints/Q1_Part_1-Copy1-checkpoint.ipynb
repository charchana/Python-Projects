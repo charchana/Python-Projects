{
 "cells": [
  {
   "cell_type": "code",
   "execution_count": 139,
   "metadata": {
    "collapsed": false
   },
   "outputs": [],
   "source": [
    "# importing all the packages needed \n",
    "import os\n",
    "import pandas as pd\n"
   ]
  },
  {
   "cell_type": "code",
   "execution_count": 11,
   "metadata": {
    "collapsed": false
   },
   "outputs": [
    {
     "name": "stdout",
     "output_type": "stream",
     "text": [
      "D:\\SEM 2\\Python\\Assignments\\chintha_archana_spring2017\\Assignment 3\\Data\\vehicle_collisions.csv\n"
     ]
    }
   ],
   "source": [
    "path = os.getcwd() # getting the path of current working directory to create the folder structure\n",
    "configfile = os.path.join(path + '\\Data' + '\\\\vehicle_collisions.csv') # getting the path of the json files to be read\n",
    "print(configfile)"
   ]
  },
  {
   "cell_type": "code",
   "execution_count": 63,
   "metadata": {
    "collapsed": false
   },
   "outputs": [],
   "source": [
    "#colNames = {'UNIQUE KEY':'object', 'DATE':'object', 'BOROUGH':'object'}\n",
    "fields = ['DATE', 'BOROUGH']\n",
    "df = pd.read_csv(configfile,skipinitialspace=True, usecols=fields)\n",
    "df = df.fillna(0)"
   ]
  },
  {
   "cell_type": "code",
   "execution_count": 72,
   "metadata": {
    "collapsed": false
   },
   "outputs": [],
   "source": [
    "df['DATE'] = pd.to_datetime(df['DATE'])\n",
    "df['YEAR'], df['MONTH'] = df['DATE'].apply(lambda x: x.year), df['DATE'].apply(lambda x: x.month)"
   ]
  },
  {
   "cell_type": "code",
   "execution_count": 110,
   "metadata": {
    "collapsed": false
   },
   "outputs": [],
   "source": [
    "# date = pd.to_datetime(df['DATE'])\n",
    "# df['YEAR'], df['MONTH'] = date.apply(lambda x: x.year), df['DATE'].dt.strftime('%b')"
   ]
  },
  {
   "cell_type": "code",
   "execution_count": 111,
   "metadata": {
    "collapsed": false
   },
   "outputs": [],
   "source": [
    "year2016 = df[(df['YEAR'] == 2016)]"
   ]
  },
  {
   "cell_type": "code",
   "execution_count": 201,
   "metadata": {
    "collapsed": false
   },
   "outputs": [
    {
     "name": "stdout",
     "output_type": "stream",
     "text": [
      "    MONTH    BOROUGH     0\n",
      "0       1  MANHATTAN  3178\n",
      "1       2  MANHATTAN  3195\n",
      "2       3  MANHATTAN  3479\n",
      "3       4  MANHATTAN  3540\n",
      "4       5  MANHATTAN  3432\n",
      "5       6  MANHATTAN  2956\n",
      "6       7  MANHATTAN  3055\n",
      "7       8  MANHATTAN  2844\n",
      "8       9  MANHATTAN  2744\n",
      "9      10  MANHATTAN  2831\n",
      "10     11  MANHATTAN  2838\n",
      "11     12  MANHATTAN  2634     MONTH      0\n",
      "0       1  18101\n",
      "1       2  15985\n",
      "2       3  18471\n",
      "3       4  18331\n",
      "4       5  20052\n",
      "5       6  19433\n",
      "6       7  19867\n",
      "7       8  19678\n",
      "8       9  19492\n",
      "9      10  19666\n",
      "10     11  19315\n",
      "11     12  19214\n"
     ]
    }
   ],
   "source": [
    "months = year2016.groupby(['MONTH'], sort = True).size().to_frame().reset_index()\n",
    "cond = (year2016['BOROUGH'] == 'MANHATTAN') \n",
    "manMonth = year2016[cond].groupby(['MONTH','BOROUGH'],  sort = True).size().to_frame().reset_index()\n",
    "print(manMonth,months)"
   ]
  },
  {
   "cell_type": "code",
   "execution_count": 202,
   "metadata": {
    "collapsed": false
   },
   "outputs": [],
   "source": [
    "months.rename(columns = {0: 'NYC'}, inplace=True)\n",
    "manMonth.rename(columns = {0: 'MANHATTAN'}, inplace=True)\n",
    "data = []\n",
    "cols = ['MONTH', 'MANHATTAN', 'NYC', 'PERCENTAGE']\n",
    "resultFrame = pd.DataFrame(columns = cols)\n",
    "for a,b in zip(months, manMonth):\n",
    "    if (a == b):\n",
    "        for df.iterrows()\n",
    "            percent = manMonth['MANHATTAN']/months['NYC']\n",
    "        #resultFrame.pd.DataFrame({'MONTH':a, 'MANHATTAN':manMon['MANHATTAN'], 'NYC': months['NYC'], 'PERCENTAGE':percent})\n",
    "        #print(months['MONmonths['MONTH']TH'])\n",
    "            months['MONTH'] = pd.to_datetime(months['MONTH'])\n",
    "            months['MONTH'] = months['MONTH'].dt.strftime('%b')\n",
    "            months.insert(1,'MANHATTAN',manMonth['MANHATTAN'])\n",
    "            months.insert(3,'PERCENTAGE',percent)\n",
    "        #months['MANHATTAN'] = manMonth['MANHATTAN']\n",
    "        #months['PERCENTAGE'] =percent "
   ]
  },
  {
   "cell_type": "code",
   "execution_count": 203,
   "metadata": {
    "collapsed": false
   },
   "outputs": [
    {
     "data": {
      "text/html": [
       "<div>\n",
       "<table border=\"1\" class=\"dataframe\">\n",
       "  <thead>\n",
       "    <tr style=\"text-align: right;\">\n",
       "      <th></th>\n",
       "      <th>MONTH</th>\n",
       "      <th>MANHATTAN</th>\n",
       "      <th>NYC</th>\n",
       "      <th>PERCENTAGE</th>\n",
       "    </tr>\n",
       "  </thead>\n",
       "  <tbody>\n",
       "    <tr>\n",
       "      <th>0</th>\n",
       "      <td>Jan</td>\n",
       "      <td>3178</td>\n",
       "      <td>18101</td>\n",
       "      <td>0.175570</td>\n",
       "    </tr>\n",
       "    <tr>\n",
       "      <th>1</th>\n",
       "      <td>Jan</td>\n",
       "      <td>3195</td>\n",
       "      <td>15985</td>\n",
       "      <td>0.199875</td>\n",
       "    </tr>\n",
       "    <tr>\n",
       "      <th>2</th>\n",
       "      <td>Jan</td>\n",
       "      <td>3479</td>\n",
       "      <td>18471</td>\n",
       "      <td>0.188349</td>\n",
       "    </tr>\n",
       "    <tr>\n",
       "      <th>3</th>\n",
       "      <td>Jan</td>\n",
       "      <td>3540</td>\n",
       "      <td>18331</td>\n",
       "      <td>0.193115</td>\n",
       "    </tr>\n",
       "    <tr>\n",
       "      <th>4</th>\n",
       "      <td>Jan</td>\n",
       "      <td>3432</td>\n",
       "      <td>20052</td>\n",
       "      <td>0.171155</td>\n",
       "    </tr>\n",
       "    <tr>\n",
       "      <th>5</th>\n",
       "      <td>Jan</td>\n",
       "      <td>2956</td>\n",
       "      <td>19433</td>\n",
       "      <td>0.152112</td>\n",
       "    </tr>\n",
       "    <tr>\n",
       "      <th>6</th>\n",
       "      <td>Jan</td>\n",
       "      <td>3055</td>\n",
       "      <td>19867</td>\n",
       "      <td>0.153773</td>\n",
       "    </tr>\n",
       "    <tr>\n",
       "      <th>7</th>\n",
       "      <td>Jan</td>\n",
       "      <td>2844</td>\n",
       "      <td>19678</td>\n",
       "      <td>0.144527</td>\n",
       "    </tr>\n",
       "    <tr>\n",
       "      <th>8</th>\n",
       "      <td>Jan</td>\n",
       "      <td>2744</td>\n",
       "      <td>19492</td>\n",
       "      <td>0.140776</td>\n",
       "    </tr>\n",
       "    <tr>\n",
       "      <th>9</th>\n",
       "      <td>Jan</td>\n",
       "      <td>2831</td>\n",
       "      <td>19666</td>\n",
       "      <td>0.143954</td>\n",
       "    </tr>\n",
       "    <tr>\n",
       "      <th>10</th>\n",
       "      <td>Jan</td>\n",
       "      <td>2838</td>\n",
       "      <td>19315</td>\n",
       "      <td>0.146932</td>\n",
       "    </tr>\n",
       "    <tr>\n",
       "      <th>11</th>\n",
       "      <td>Jan</td>\n",
       "      <td>2634</td>\n",
       "      <td>19214</td>\n",
       "      <td>0.137088</td>\n",
       "    </tr>\n",
       "  </tbody>\n",
       "</table>\n",
       "</div>"
      ],
      "text/plain": [
       "   MONTH  MANHATTAN    NYC  PERCENTAGE\n",
       "0    Jan       3178  18101    0.175570\n",
       "1    Jan       3195  15985    0.199875\n",
       "2    Jan       3479  18471    0.188349\n",
       "3    Jan       3540  18331    0.193115\n",
       "4    Jan       3432  20052    0.171155\n",
       "5    Jan       2956  19433    0.152112\n",
       "6    Jan       3055  19867    0.153773\n",
       "7    Jan       2844  19678    0.144527\n",
       "8    Jan       2744  19492    0.140776\n",
       "9    Jan       2831  19666    0.143954\n",
       "10   Jan       2838  19315    0.146932\n",
       "11   Jan       2634  19214    0.137088"
      ]
     },
     "execution_count": 203,
     "metadata": {},
     "output_type": "execute_result"
    }
   ],
   "source": [
    "# months['MONTH'] = pd.to_datetime(months['MONTH'])\n",
    "# months['MONTH'] = months['MONTH'].dt.strftime('%b')\n",
    "months"
   ]
  },
  {
   "cell_type": "code",
   "execution_count": 193,
   "metadata": {
    "collapsed": false
   },
   "outputs": [
    {
     "data": {
      "text/plain": [
       "0     Jan\n",
       "1     Jan\n",
       "2     Jan\n",
       "3     Jan\n",
       "4     Jan\n",
       "5     Jan\n",
       "6     Jan\n",
       "7     Jan\n",
       "8     Jan\n",
       "9     Jan\n",
       "10    Jan\n",
       "11    Jan\n",
       "Name: MONTH, dtype: object"
      ]
     },
     "execution_count": 193,
     "metadata": {},
     "output_type": "execute_result"
    }
   ],
   "source": [
    "months['MONTH']"
   ]
  },
  {
   "cell_type": "code",
   "execution_count": 162,
   "metadata": {
    "collapsed": false
   },
   "outputs": [
    {
     "data": {
      "text/html": [
       "<div>\n",
       "<table border=\"1\" class=\"dataframe\">\n",
       "  <thead>\n",
       "    <tr style=\"text-align: right;\">\n",
       "      <th></th>\n",
       "      <th>MONTH</th>\n",
       "      <th>MANHATTAN</th>\n",
       "      <th>NYC</th>\n",
       "      <th>PERCENTAGE</th>\n",
       "    </tr>\n",
       "  </thead>\n",
       "  <tbody>\n",
       "    <tr>\n",
       "      <th>0</th>\n",
       "      <td>0      1\n",
       "1      2\n",
       "2      3\n",
       "3      4\n",
       "4      5\n",
       "5...</td>\n",
       "      <td>0     3178\n",
       "1     3195\n",
       "2     3479\n",
       "3     3540\n",
       "4 ...</td>\n",
       "      <td>0     18101\n",
       "1     15985\n",
       "2     18471\n",
       "3     1833...</td>\n",
       "      <td>0     0.175570\n",
       "1     0.199875\n",
       "2     0.188349\n",
       "3...</td>\n",
       "    </tr>\n",
       "  </tbody>\n",
       "</table>\n",
       "</div>"
      ],
      "text/plain": [
       "                                               MONTH  \\\n",
       "0  0      1\n",
       "1      2\n",
       "2      3\n",
       "3      4\n",
       "4      5\n",
       "5...   \n",
       "\n",
       "                                           MANHATTAN  \\\n",
       "0  0     3178\n",
       "1     3195\n",
       "2     3479\n",
       "3     3540\n",
       "4 ...   \n",
       "\n",
       "                                                 NYC  \\\n",
       "0  0     18101\n",
       "1     15985\n",
       "2     18471\n",
       "3     1833...   \n",
       "\n",
       "                                          PERCENTAGE  \n",
       "0  0     0.175570\n",
       "1     0.199875\n",
       "2     0.188349\n",
       "3...  "
      ]
     },
     "execution_count": 162,
     "metadata": {},
     "output_type": "execute_result"
    }
   ],
   "source": [
    "cols = ['MONTH', 'MANHATTAN', 'NYC', 'PERCENTAGE']\n",
    "resultFrame = pd.DataFrame(data, columns = cols)\n",
    "resultFrame"
   ]
  }
 ],
 "metadata": {
  "anaconda-cloud": {},
  "kernelspec": {
   "display_name": "Python [conda root]",
   "language": "python",
   "name": "conda-root-py"
  },
  "language_info": {
   "codemirror_mode": {
    "name": "ipython",
    "version": 3
   },
   "file_extension": ".py",
   "mimetype": "text/x-python",
   "name": "python",
   "nbconvert_exporter": "python",
   "pygments_lexer": "ipython3",
   "version": "3.5.2"
  }
 },
 "nbformat": 4,
 "nbformat_minor": 1
}
