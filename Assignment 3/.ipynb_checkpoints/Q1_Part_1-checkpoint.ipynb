{
 "cells": [
  {
   "cell_type": "code",
   "execution_count": 1,
   "metadata": {
    "collapsed": false
   },
   "outputs": [],
   "source": [
    "# importing all the packages needed \n",
    "import os\n",
    "import pandas as pd\n",
    "import calendar"
   ]
  },
  {
   "cell_type": "code",
   "execution_count": 21,
   "metadata": {
    "collapsed": false
   },
   "outputs": [],
   "source": [
    "path = os.getcwd() # getting the path of current working directory to create the folder structure\n",
    "configfile = os.path.join(path + '\\Data' + '\\\\vehicle_collisions.csv') # getting the path of the json files to be read"
   ]
  },
  {
   "cell_type": "code",
   "execution_count": 3,
   "metadata": {
    "collapsed": false
   },
   "outputs": [],
   "source": [
    "fields = ['DATE', 'BOROUGH']\n",
    "df = pd.read_csv(configfile,skipinitialspace=True, usecols=fields)\n",
    "df = df.fillna(0)"
   ]
  },
  {
   "cell_type": "code",
   "execution_count": 6,
   "metadata": {
    "collapsed": false
   },
   "outputs": [],
   "source": [
    "df['DATE'] = pd.to_datetime(df['DATE'])\n",
    "df['YEAR'], df['MONTH'] = df['DATE'].apply(lambda x: x.year), df['DATE'].apply(lambda x: x.month)"
   ]
  },
  {
   "cell_type": "code",
   "execution_count": 7,
   "metadata": {
    "collapsed": false
   },
   "outputs": [],
   "source": [
    "year2016 = df[(df['YEAR'] == 2016)]\n",
    "year2016 = year2016.sort_values(['MONTH'], ascending=1)\n",
    "year2016['MONTH'] = year2016['MONTH'].apply(lambda x: calendar.month_abbr[x])"
   ]
  },
  {
   "cell_type": "code",
   "execution_count": 20,
   "metadata": {
    "collapsed": false
   },
   "outputs": [],
   "source": [
    "months = year2016.groupby(['MONTH'], sort = False).size().to_frame().reset_index()\n",
    "cond = (year2016['BOROUGH'] == 'MANHATTAN') \n",
    "manMonth = year2016[cond].groupby(['MONTH','BOROUGH'], sort = False).size().to_frame().reset_index()"
   ]
  },
  {
   "cell_type": "code",
   "execution_count": 26,
   "metadata": {
    "collapsed": false
   },
   "outputs": [
    {
     "data": {
      "text/html": [
       "<div>\n",
       "<table border=\"1\" class=\"dataframe\">\n",
       "  <thead>\n",
       "    <tr style=\"text-align: right;\">\n",
       "      <th></th>\n",
       "      <th>MONTH</th>\n",
       "      <th>BOROUGH</th>\n",
       "      <th>MANHATTAN</th>\n",
       "      <th>NYC</th>\n",
       "      <th>PERCENTAGE</th>\n",
       "    </tr>\n",
       "  </thead>\n",
       "  <tbody>\n",
       "    <tr>\n",
       "      <th>0</th>\n",
       "      <td>Jan</td>\n",
       "      <td>MANHATTAN</td>\n",
       "      <td>3178</td>\n",
       "      <td>18101</td>\n",
       "      <td>0.175570</td>\n",
       "    </tr>\n",
       "    <tr>\n",
       "      <th>1</th>\n",
       "      <td>Feb</td>\n",
       "      <td>MANHATTAN</td>\n",
       "      <td>3195</td>\n",
       "      <td>15985</td>\n",
       "      <td>0.199875</td>\n",
       "    </tr>\n",
       "    <tr>\n",
       "      <th>2</th>\n",
       "      <td>Mar</td>\n",
       "      <td>MANHATTAN</td>\n",
       "      <td>3479</td>\n",
       "      <td>18471</td>\n",
       "      <td>0.188349</td>\n",
       "    </tr>\n",
       "    <tr>\n",
       "      <th>3</th>\n",
       "      <td>Apr</td>\n",
       "      <td>MANHATTAN</td>\n",
       "      <td>3540</td>\n",
       "      <td>18331</td>\n",
       "      <td>0.193115</td>\n",
       "    </tr>\n",
       "    <tr>\n",
       "      <th>4</th>\n",
       "      <td>May</td>\n",
       "      <td>MANHATTAN</td>\n",
       "      <td>3432</td>\n",
       "      <td>20052</td>\n",
       "      <td>0.171155</td>\n",
       "    </tr>\n",
       "  </tbody>\n",
       "</table>\n",
       "</div>"
      ],
      "text/plain": [
       "  MONTH    BOROUGH  MANHATTAN    NYC  PERCENTAGE\n",
       "0   Jan  MANHATTAN       3178  18101    0.175570\n",
       "1   Feb  MANHATTAN       3195  15985    0.199875\n",
       "2   Mar  MANHATTAN       3479  18471    0.188349\n",
       "3   Apr  MANHATTAN       3540  18331    0.193115\n",
       "4   May  MANHATTAN       3432  20052    0.171155"
      ]
     },
     "execution_count": 26,
     "metadata": {},
     "output_type": "execute_result"
    }
   ],
   "source": [
    "months.rename(columns = {0: 'NYC'}, inplace=True)\n",
    "manMonth.rename(columns = {0: 'MANHATTAN'}, inplace=True)\n",
    "manhattanNYC = manMonth.merge(months, how = 'outer')\n",
    "percent = manhattanNYC['MANHATTAN']/manhattanNYC['NYC']\n",
    "manhattanNYC['PERCENTAGE'] = percent\n",
    "manhattanNYC.head()"
   ]
  },
  {
   "cell_type": "code",
   "execution_count": 25,
   "metadata": {
    "collapsed": false
   },
   "outputs": [],
   "source": [
    "manhattanNYC.to_csv(os.path.join(path + '\\Q1_Part_1.csv'),index=False)"
   ]
  }
 ],
 "metadata": {
  "anaconda-cloud": {},
  "kernelspec": {
   "display_name": "Python [conda root]",
   "language": "python",
   "name": "conda-root-py"
  },
  "language_info": {
   "codemirror_mode": {
    "name": "ipython",
    "version": 3
   },
   "file_extension": ".py",
   "mimetype": "text/x-python",
   "name": "python",
   "nbconvert_exporter": "python",
   "pygments_lexer": "ipython3",
   "version": "3.5.2"
  }
 },
 "nbformat": 4,
 "nbformat_minor": 1
}
