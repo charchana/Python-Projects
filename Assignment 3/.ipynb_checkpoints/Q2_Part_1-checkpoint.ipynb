{
 "cells": [
  {
   "cell_type": "code",
   "execution_count": 1,
   "metadata": {
    "collapsed": true
   },
   "outputs": [],
   "source": [
    "# importing all the packages needed \n",
    "import os\n",
    "import pandas as pd"
   ]
  },
  {
   "cell_type": "code",
   "execution_count": 2,
   "metadata": {
    "collapsed": true
   },
   "outputs": [],
   "source": [
    "path = os.getcwd() # getting the path of current working directory to create the folder structure\n",
    "configfile = os.path.join(path + '\\Data' + '\\\\employee_compensation.csv') # getting the path of the json files to be read"
   ]
  },
  {
   "cell_type": "code",
   "execution_count": 21,
   "metadata": {
    "collapsed": false
   },
   "outputs": [],
   "source": [
    "fields = ['Organization Group', 'Department', 'Total Compensation']\n",
    "df = pd.read_csv(configfile,skipinitialspace=True, usecols=fields)"
   ]
  },
  {
   "cell_type": "code",
   "execution_count": 22,
   "metadata": {
    "collapsed": false
   },
   "outputs": [],
   "source": [
    "Total_Compensation_Group = df.groupby(['Organization Group', 'Department']).mean()"
   ]
  },
  {
   "cell_type": "code",
   "execution_count": 23,
   "metadata": {
    "collapsed": false
   },
   "outputs": [
    {
     "name": "stderr",
     "output_type": "stream",
     "text": [
      "C:\\Users\\chint\\Anaconda3\\lib\\site-packages\\ipykernel\\__main__.py:2: FutureWarning: order is deprecated, use sort_values(...)\n",
      "  from ipykernel import kernelapp as app\n"
     ]
    },
    {
     "data": {
      "text/html": [
       "<div>\n",
       "<table border=\"1\" class=\"dataframe\">\n",
       "  <thead>\n",
       "    <tr style=\"text-align: right;\">\n",
       "      <th></th>\n",
       "      <th></th>\n",
       "      <th>Total Compensation</th>\n",
       "    </tr>\n",
       "    <tr>\n",
       "      <th>Organization Group</th>\n",
       "      <th>Department</th>\n",
       "      <th></th>\n",
       "    </tr>\n",
       "  </thead>\n",
       "  <tbody>\n",
       "    <tr>\n",
       "      <th>Community Health</th>\n",
       "      <th>Public Health</th>\n",
       "      <td>96190.190140</td>\n",
       "    </tr>\n",
       "    <tr>\n",
       "      <th rowspan=\"4\" valign=\"top\">Culture &amp; Recreation</th>\n",
       "      <th>Law Library</th>\n",
       "      <td>188424.362222</td>\n",
       "    </tr>\n",
       "    <tr>\n",
       "      <th>Academy of Sciences</th>\n",
       "      <td>107319.727692</td>\n",
       "    </tr>\n",
       "    <tr>\n",
       "      <th>Arts Commission</th>\n",
       "      <td>94339.597388</td>\n",
       "    </tr>\n",
       "    <tr>\n",
       "      <th>War Memorial</th>\n",
       "      <td>76250.068022</td>\n",
       "    </tr>\n",
       "  </tbody>\n",
       "</table>\n",
       "</div>"
      ],
      "text/plain": [
       "                                          Total Compensation\n",
       "Organization Group   Department                             \n",
       "Community Health     Public Health              96190.190140\n",
       "Culture & Recreation Law Library               188424.362222\n",
       "                     Academy of Sciences       107319.727692\n",
       "                     Arts Commission            94339.597388\n",
       "                     War Memorial               76250.068022"
      ]
     },
     "execution_count": 23,
     "metadata": {},
     "output_type": "execute_result"
    }
   ],
   "source": [
    "Total_Compensation_Group_Sort = Total_Compensation_Group['Total Compensation'].groupby(level=0, group_keys=False)\n",
    "Employee_Compensation = pd.DataFrame(Total_Compensation_Group_Sort.apply(lambda x: x.order(ascending=False)))\n",
    "Employee_Compensation.head()"
   ]
  },
  {
   "cell_type": "code",
   "execution_count": 20,
   "metadata": {
    "collapsed": false
   },
   "outputs": [],
   "source": [
    "Employee_Compensation.to_csv(os.path.join(path + '\\Outputs\\Question_2\\Q2_Part_1\\Q2_Part_1.csv'),index=True)"
   ]
  }
 ],
 "metadata": {
  "kernelspec": {
   "display_name": "Python [conda root]",
   "language": "python",
   "name": "conda-root-py"
  },
  "language_info": {
   "codemirror_mode": {
    "name": "ipython",
    "version": 3
   },
   "file_extension": ".py",
   "mimetype": "text/x-python",
   "name": "python",
   "nbconvert_exporter": "python",
   "pygments_lexer": "ipython3",
   "version": "3.5.2"
  }
 },
 "nbformat": 4,
 "nbformat_minor": 1
}
