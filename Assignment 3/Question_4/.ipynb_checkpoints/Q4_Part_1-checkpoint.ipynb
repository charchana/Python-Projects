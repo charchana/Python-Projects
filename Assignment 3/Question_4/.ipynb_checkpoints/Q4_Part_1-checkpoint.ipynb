{
 "cells": [
  {
   "cell_type": "markdown",
   "metadata": {},
   "source": [
    "# MOVIE AWARDS ANALYSIS\n",
    "## Q4_PART ONE\n",
    "\n",
    "- Use ‘movies_awards’ data set.\n",
    "\n",
    "- You are supposed to extract data from the awards column in this dataset and split it into several columns. An example is given below.\n",
    "\n",
    "- The awards has details of wins, nominations in general and also wins and nominations in certain categories(e.g. Oscar, BAFTA etc.)\n",
    "\n",
    "- You are supposed to create a win and nominated column (these 2 columns contain total number of wins and nominations) and other columns that extract the number of wins and nominations for each category of award. \n",
    "\n",
    "- If a movie has 2 Oscar nominations and 4 Oscar won, the columns Oscar_Awards_Won should have value 4 and Oscar_Awards_Nominated should have value 2. You should also have a total won and nominated column which aggregates all the awards (won or nominated). \n",
    "\n",
    "- Create two separate columns for each award category (won and nominated).\n",
    "\n",
    "- Write your output to a csv file. (Sample output is given in next page)\n"
   ]
  },
  {
   "cell_type": "code",
   "execution_count": 1,
   "metadata": {
    "collapsed": true
   },
   "outputs": [],
   "source": [
    "# importing all the packages needed \n",
    "import os\n",
    "import pandas as pd\n",
    "import warnings\n",
    "warnings.filterwarnings('ignore')"
   ]
  },
  {
   "cell_type": "code",
   "execution_count": 2,
   "metadata": {
    "collapsed": true
   },
   "outputs": [],
   "source": [
    "path = os.getcwd() # getting the path of current working directory to create the folder structure\n",
    "configfile = os.path.join(path + '\\Data' + '\\\\movies_awards.csv') # getting the path of the json files to be read"
   ]
  },
  {
   "cell_type": "code",
   "execution_count": 3,
   "metadata": {
    "collapsed": false
   },
   "outputs": [],
   "source": [
    "# filtering the specific columns needed alone and dropping the NAN rows\n",
    "fields = [\"Awards\",\"Title\"]\n",
    "AWARDS = pd.read_csv(configfile,skipinitialspace=True, usecols=fields)\n",
    "AWARDS = AWARDS.dropna(axis=0)"
   ]
  },
  {
   "cell_type": "code",
   "execution_count": 4,
   "metadata": {
    "collapsed": false
   },
   "outputs": [],
   "source": [
    "# Extracting the values for awards won columns based on the string patterns needed for each particluar column\n",
    "AWARDS[\"Awards_Won\"]=AWARDS[\"Awards\"].str.extract('(\\d+) win').fillna(0).astype(int)\n",
    "AWARDS[\"Golden Globe_Awards_Won\"]=AWARDS[\"Awards\"].str.extract('Won (\\d+) Golden Globe').fillna(0).astype(int)\n",
    "AWARDS[\"Oscar_Awards_Won\"]=AWARDS[\"Awards\"].str.extract('Won (\\d+) Oscar').fillna(0).astype(int)\n",
    "AWARDS[\"Primetime_Awards_Won\"]=AWARDS[\"Awards\"].str.extract('Won (\\d+) Primetime').fillna(0).astype(int)\n",
    "AWARDS[\"BAFTA Film_Awards_Won\"]=AWARDS[\"Awards\"].str.extract('Won (\\d+) BAFTA Film').fillna(0).astype(int)"
   ]
  },
  {
   "cell_type": "code",
   "execution_count": 5,
   "metadata": {
    "collapsed": false
   },
   "outputs": [],
   "source": [
    "# Extracting the values for awards nominated columns based on the string patterns needed for each particluar column\n",
    "AWARDS[\"Awards_Nominated\"]=AWARDS[\"Awards\"].str.extract('(\\d+) nomination').fillna(0).astype(int)\n",
    "AWARDS[\"Oscar_Awards_Nominated\"]=AWARDS[\"Awards\"].str.extract('Nominated for (\\d+) Oscar').fillna(0).astype(int)\n",
    "AWARDS[\"Golden_Globe_Awards_Nominated\"]=AWARDS[\"Awards\"].str.extract('Nominated for (\\d+) Golden Globe').fillna(0).astype(int)\n",
    "AWARDS[\"Primetime_Awards_Nominated\"]=AWARDS[\"Awards\"].str.extract('Nominated for (\\d+) Primetime').fillna(0).astype(int)\n",
    "AWARDS[\"BAFTA Film_Awards_Nominated\"]=AWARDS[\"Awards\"].str.extract('Nominated for (\\d+) BAFTA Film').fillna(0).astype(int)"
   ]
  },
  {
   "cell_type": "code",
   "execution_count": 6,
   "metadata": {
    "collapsed": false
   },
   "outputs": [],
   "source": [
    "# adding all the columns needed to find the total awards won and nominated\n",
    "AWARDS[\"Total_Awards_Won\"]= AWARDS.ix[:,'Awards_Won':'BAFTA Film_Awards_Won'].sum(axis=1)\n",
    "AWARDS[\"Total_Awards_Nominated\"]= AWARDS.ix[:,'Awards_Nominated':'BAFTA Film_Awards_Nominated'].sum(axis=1)"
   ]
  },
  {
   "cell_type": "code",
   "execution_count": 18,
   "metadata": {
    "collapsed": false
   },
   "outputs": [
    {
     "name": "stdout",
     "output_type": "stream",
     "text": [
      "                     Title                  Awards  Awards_Won  \\\n",
      "3             Who Are You?  1 win & 2 nominations.           1   \n",
      "4  Skeletons in the Closet                  1 win.           1   \n",
      "5       Cheerleader Ninjas           1 nomination.           0   \n",
      "\n",
      "   Awards_Nominated  Oscar_Awards_Nominated  Golden_Globe_Awards_Nominated  \\\n",
      "3                 2                       0                              0   \n",
      "4                 0                       0                              0   \n",
      "5                 1                       0                              0   \n",
      "\n",
      "   Primetime_Awards_Nominated  BAFTA Film_Awards_Nominated  Oscar_Awards_Won  \\\n",
      "3                           0                            0                 0   \n",
      "4                           0                            0                 0   \n",
      "5                           0                            0                 0   \n",
      "\n",
      "   Golden Globe_Awards_Won  Primetime_Awards_Won  BAFTA Film_Awards_Won  \\\n",
      "3                        0                     0                      0   \n",
      "4                        0                     0                      0   \n",
      "5                        0                     0                      0   \n",
      "\n",
      "   Total_Awards_Won  Total_Awards_Nominated  \n",
      "3                 1                       2  \n",
      "4                 1                       0  \n",
      "5                 0                       1  \n"
     ]
    }
   ],
   "source": [
    "# Rearranging the column names as how to be displayed\n",
    "MOVIE_AWARDS = AWARDS[['Title','Awards','Awards_Won','Awards_Nominated', 'Oscar_Awards_Nominated', 'Golden_Globe_Awards_Nominated', 'Primetime_Awards_Nominated', \n",
    "                 'BAFTA Film_Awards_Nominated','Oscar_Awards_Won', 'Golden Globe_Awards_Won', 'Primetime_Awards_Won', 'BAFTA Film_Awards_Won', 'Total_Awards_Won', 'Total_Awards_Nominated' ]] #+ [AWARDS[8]] + cols[3:6] + cols[8:12] + [cols[-7]] + [cols[-1]]\n",
    "print (MOVIE_AWARDS.head(3))"
   ]
  },
  {
   "cell_type": "code",
   "execution_count": 9,
   "metadata": {
    "collapsed": false
   },
   "outputs": [],
   "source": [
    "# exporting the analysed data to a csv file \n",
    "MOVIE_AWARDS.to_csv(os.path.join(path + '\\Outputs\\Q4_Part_1.csv'),index=False)"
   ]
  },
  {
   "cell_type": "code",
   "execution_count": null,
   "metadata": {
    "collapsed": true
   },
   "outputs": [],
   "source": []
  }
 ],
 "metadata": {
  "anaconda-cloud": {},
  "kernelspec": {
   "display_name": "Python [conda root]",
   "language": "python",
   "name": "conda-root-py"
  },
  "language_info": {
   "codemirror_mode": {
    "name": "ipython",
    "version": 3
   },
   "file_extension": ".py",
   "mimetype": "text/x-python",
   "name": "python",
   "nbconvert_exporter": "python",
   "pygments_lexer": "ipython3",
   "version": "3.5.2"
  }
 },
 "nbformat": 4,
 "nbformat_minor": 1
}
