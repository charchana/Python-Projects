{
 "cells": [
  {
   "cell_type": "markdown",
   "metadata": {},
   "source": [
    "# Question 1 : "
   ]
  },
  {
   "cell_type": "markdown",
   "metadata": {},
   "source": [
    "# Using Enron data-set, perform 3 analysis.\n",
    "\n",
    "## Introduction:\n",
    "\n",
    "- Enron Corp. is a company that reached dramatic heights, only to face a dizzying collapse.\n",
    "  The story ends with the bankruptcy of one of America's largest corporations. Enron's collapse affected the lives of thousands   of employees and shook Wall Street to its core. At Enron's peak, its shares were worth 90.75 dollar, but after the company declared   bankruptcy on December 2, 2001, they plummeted to 0.67 dollar by January 2002. To this day, many wonder how such a powerful business   disintegrated almost overnight and how it managed to fool the regulators with fake, off-the-books corporations for so long.\n",
    "\n"
   ]
  },
  {
   "cell_type": "markdown",
   "metadata": {},
   "source": [
    "## Intial Data analysis:\n",
    "- The given data set contains nearly 150 users of the top executives of the company\n",
    "- The dataset contains more than 5 million files\n",
    "- The data is stored in a folder structure as the persons name and their respective email system folders like inbox,sent,deleted_items"
   ]
  },
  {
   "cell_type": "markdown",
   "metadata": {},
   "source": [
    "## Process of Data Storage:\n",
    "- The enron dataset is downloaded from this \"CMU Enron data 1.82 GB tgz file\"\n",
    "- The data is extracted and stored in the desired folder\n",
    "- The data is unziped to find the folder structure of data\n",
    " "
   ]
  },
  {
   "cell_type": "markdown",
   "metadata": {
    "collapsed": true
   },
   "source": [
    "# Analysis 1:\n",
    "\n",
    "# Finding the number of emails exchanged between the employees per year, to find which year the mail communication was happened.\n"
   ]
  },
  {
   "cell_type": "markdown",
   "metadata": {},
   "source": [
    "## Process involved:\n",
    "- Traversing through the folders of each employee, and checking the sent emails of the employee \n",
    "\n",
    "- For each sent folder of the mail, the date of the email is checked \n",
    "\n",
    "- Year and the month of the date is split using datetime package\n",
    "\n",
    "- Calculating the frequency of the mails occuring in each month and incrementing the value if month already exists, otherwise a new month is added to the dictionary as key and assigning the value as frequency of mails.\n",
    "\n",
    "- Calculating the complete count of the mails occured in every year and that count is added to the dictionary\n",
    "\n",
    "- A new dictionary is created and each unique year is added as the key\n",
    "\n",
    "- Finally, the each month and its frequency  which is calculated in the previous steps is assigned as the value of the each unique year\n",
    "\n"
   ]
  },
  {
   "cell_type": "markdown",
   "metadata": {},
   "source": [
    "## Code Result:\n",
    "! \"https://github.com/chinthaarchana/chintha_archana_spring2017/blob/master/midterm/Question%201/Analysis%201/q1_a1_first.JPG\">"
   ]
  },
  {
   "cell_type": "markdown",
   "metadata": {},
   "source": [
    "## Representation Result:\n",
    "\n",
    "- The year and the email frequency is exported as a csv file to make a further analysis on the data. The output looks like below\n",
    "!['yearly mails'](Question 1/Analysis 1/Q1_A1_Result.jpg)"
   ]
  },
  {
   "cell_type": "markdown",
   "metadata": {},
   "source": [
    "## Inference:\n",
    "- From the above Result we can conclude that during the year 2000 and 2001 highest email communication has happened\n",
    "\n",
    "    - for 2000 year, months 6 to 12 has highest mails( calculated through implementation by following above process steps)\n",
    "    \n",
    "    - for 2001 year, months 1 to 5 has highest mails(calculated through implementation by following above process steps)"
   ]
  },
  {
   "cell_type": "markdown",
   "metadata": {},
   "source": [
    "# Analysis 2"
   ]
  },
  {
   "cell_type": "markdown",
   "metadata": {},
   "source": [
    "# With the above inference we can proceed further by analysising who are the persons involved in those highest mails communication for the year 2000 and 2001"
   ]
  },
  {
   "cell_type": "markdown",
   "metadata": {},
   "source": [
    "## Process:\n",
    "- Calculating the months which has the highest mails and concentrating on those months of the years to check the persons involved\n",
    "\n",
    "!['yearly mails'](OutputFiles/q1_a2_first.jpg)\n",
    "\n",
    "- Iterating through the mails and finding the 'Date' tag of the email\n",
    "\n",
    "- Spliting the date to year,month and date and assigned to respective varaibles\n",
    "\n",
    "- A condition is checked whether the year is 2000 0r 2001 and the month of the incoming email is equal to any one of the months mention in above image.\n",
    "\n",
    "- If the condition is true, the 'From' and 'To' tag of the email is fetched and assigned to the respective varaibles\n",
    "\n",
    "- Another condition check is made if the 'to' is empty and whether it contains more than one 'to' addresses\n",
    "\n",
    "- If the 'To' contains more than one mail id, the emails are split by '\\n' in original mail, so we are replacing the '\\n' with empty string so that the whole to list becomes on string sperated by commas.\n",
    "\n",
    "- Next we are extracting each of 'to' addresses by stripping with ',' and finding the frequency of the 'to' addrtesses\n",
    "\n",
    "- A dictionary is created with unique 'to' address and its frequency of each of the 'From' address name.\n",
    "\n",
    "- Finally to a new dictionary the unique 'From' address person is added with the value as the dictionary of a unique 'to' addresses with its frequency and the frequency whole mails sent by each person is also added to the dictionary\n",
    "\n",
    "- From this we can get the counts of all the mails sent by individual person who belong to enron\n"
   ]
  },
  {
   "cell_type": "markdown",
   "metadata": {},
   "source": [
    "## Results of the Analysis:\n",
    "\n",
    "!['yearly mails'](Question 1/Analysis 2/q1_a2_Second.jpg)"
   ]
  },
  {
   "cell_type": "markdown",
   "metadata": {},
   "source": [
    "## Inferences can be made:\n",
    "\n",
    "- We analysed that Mann Kay and Vince Kaaminski has communicated more\n",
    "\n",
    "    - Mann Kay is the \"President & Chief Executive Officer at Noble Environmental Power LLC\" who was convicted and involved in         the enron scandal\n",
    "            \" She is a global natural gas worker prior and she invested in supplying the gas of the state government ilegally which was to the enron company. Due to which Utilities try to keep customers' bills low by buying natural gas at cheaper prices in the summer, when it is in lower demand. They then release the gas in the winter, when consumers need it to heat their homes.\n",
    "              Thus increasing the cost of the electricity during the winter which was a difficulty for the public. So she is the key person in the Scandal.\"\n",
    "    \n",
    "    - Vince Kaaminski is the \"Managing Director for Research at the failed energy trading corporation Enron until 2002\" who           was also involved in scandal who belongs to poland.\n",
    "    \n",
    "    - Below is the piece of news publication on vince:\n",
    "    \n",
    "            \"A former Enron Corp. risk manager testified Tuesday that he was pushed out of a key assignment at the energy trading company because he objected to what he believed were questionable financial maneuverings\n",
    "            \n",
    "            Wincenty \"Vince\" Kaminski said Jeffrey K. Skilling, then Enron's president, called him in July 1999 to say that Kaminski and his team of analysts were being transferred. The call came a month after Kaminski had raised objections to LJM, an off-the-books partnership created by then-Chief Financial Officer Andrew S. Fastow to provide financial insurance for an important Enron investment.\n",
    "\n",
    "            The testimony came in the fraud and conspiracy trial of Skilling and former Enron Chairman Kenneth L. Lay. The charges grew out of a federal probe sparked by Enron's 2001 collapse. Lay, 63, and Skilling, 52, face decades in prison if convicted.\n",
    "\n",
    "            The jury also heard from a former Enron pipeline worker who lost most of his life savings when the company's stock became worthless\"\n",
    "    \n",
    "- Hence this analysis proves that we investigated and found out the top 2 'KEY' person involved in this whole scandal"
   ]
  },
  {
   "cell_type": "markdown",
   "metadata": {},
   "source": [
    "# Analysis 3"
   ]
  },
  {
   "cell_type": "markdown",
   "metadata": {},
   "source": [
    "# Finally lets analyse what the two key people were speaking about in those mails "
   ]
  },
  {
   "cell_type": "markdown",
   "metadata": {},
   "source": [
    "## TOPIC MODELLING USING LATENT DIRICHLET ALGORITH(LDA) "
   ]
  },
  {
   "cell_type": "markdown",
   "metadata": {},
   "source": [
    "- The content of the emails are analysed further by understaning and preprocessing the data before implementing the topic modelling on it to find the key topics what the two persons were speaking about\n",
    "\n",
    "- The text analysis is made on the subject of the emails\n",
    "\n",
    "- The subject of the email is appended to the dictionary for both the person kay and mann by iterating through the mails and statisfying the year, month condition as specified above\n",
    "\n",
    "- So the data cleaning is done by the following steps:\n",
    "\n",
    "    - First the data is converted to lower \n",
    "    \n",
    "    - Next the NLTK package, \"tokenizer\" is used tokenize the raw data to words.\n",
    "                tokens = tokenizer.tokenize(tagRemoval)\n",
    "                \n",
    "    - Next the frequent patterns like FWD, RE.. is removed by Regular Expression\n",
    "    \n",
    "    - All the numbers are removed form the texts and all the punctuations are also removed\n",
    "    \n",
    "    - The Stopwords are removed by using \"en_stop\" package\n",
    "    \n",
    "    - Finally the words are lemmatized using the NLTK.stem, WordNetLemmatizer\n",
    "                wordnet_lemmatizer = WordNetLemmatizer()\n",
    "\n",
    "- Turn our tokenized documents into a id <-> term dictionary which done using below snippet\n",
    "                dictionary = corpora.Dictionary(texts)\n",
    "- Convert tokenized documents into a document-term matrix\n",
    "                corpus = [dictionary.doc2bow(text) for text in texts]\n",
    "- LDA algorithm is applied finally to the corpus to get the topics 5 topics of 15 words using the \"Gensim\" Package\n",
    "                ldamodel = gensim.models.ldamodel.LdaModel(corpus, num_topics=5, id2word = dictionary)\n",
    "    "
   ]
  },
  {
   "cell_type": "markdown",
   "metadata": {},
   "source": [
    "## Results\n",
    "\n",
    "- The topics which were spoken by vince kaminski is as follows\n",
    "\n",
    "!['yearly mails'](Question 1/Analysis 3/topic_vince.jpg)\n",
    "\n",
    "\n",
    "- From the above image the different topics infers conclusions like below\n",
    "\n",
    "     - Topic 1 : Rice university of vince, his researches and going on vacation from polan it means\n",
    "     \n",
    "     - Topic 2 : It is mostly about conversation they are having and arranging meetings for the scandal issue\n",
    "     \n",
    "     - Topic 3 : This topic gives hints like he is travelling to california between capital of Poland where he belongs to (dyplomowas capital of poland) for the management purpose\n",
    "     \n",
    "     - Topic 4 : This is about generating the weekly report on enron to know to keep track of the risk \n",
    "     \n",
    "     - Topic 5 : This is meaning something core business related where the electricity bill raising and power from houston proves he his comminication with Mann Kay about the scandal"
   ]
  },
  {
   "cell_type": "markdown",
   "metadata": {},
   "source": [
    "- The topics which were spoken by mann kay is as follows\n",
    "\n",
    "!['yearly mails'](Question 1/Analysis 3/topics_mann.jpg)"
   ]
  },
  {
   "cell_type": "markdown",
   "metadata": {},
   "source": [
    "- From the above image the different topics infers conclusions like below\n",
    "\n",
    "     - Topic 1 : Speaking more about marketing and agreement on rotation\n",
    "     \n",
    "     - Topic 2 : It is mostly the discussion they had previously or in past conversion recalling what can be done\n",
    "     \n",
    "     - Topic 3 : This is meaning something core business related executing some agreement with the enron and natural gas power\n",
    "     \n",
    "     - Topic 4 : Keywords speaking more about vacation spots and there sceret meeting\n",
    "     \n",
    "     - Topic 5 : This is about business related issue purchasing and some illegal transactions are happenening\n",
    "\n",
    "- Hence from the above topics spoken by both the people this proves that they are involved in the enron scandal."
   ]
  },
  {
   "cell_type": "markdown",
   "metadata": {},
   "source": [
    "# Question 2 "
   ]
  },
  {
   "cell_type": "markdown",
   "metadata": {},
   "source": [
    "# Use NYT API to collect NYT data. Perform 3 analysis on the collected data."
   ]
  },
  {
   "cell_type": "markdown",
   "metadata": {},
   "source": [
    "## Intial Data analysis:\n",
    "\n",
    "- There are many API in the NYT times. The data from the nyt times is generated by the API key \n",
    "\n",
    "- We can select any API which is well suited for the analysis"
   ]
  },
  {
   "cell_type": "markdown",
   "metadata": {},
   "source": [
    "# Process of Data Storage:\n",
    "\n",
    "- The data is fetched from the API by writing the code to dump the data as json file \n",
    "\n",
    "- The is fetched from the nytimes by passing the api key, parameters that are required by the API to the link \n",
    "\n",
    "- By doing so the data is fetched as a response to us and the data in stored in the specified location of out file system as json file"
   ]
  },
  {
   "cell_type": "markdown",
   "metadata": {},
   "source": [
    "# Analysis 1 "
   ]
  },
  {
   "cell_type": "markdown",
   "metadata": {},
   "source": [
    "# Using Article Search API, find during which year there was high rate of voilent crime happenings in the USA"
   ]
  },
  {
   "cell_type": "markdown",
   "metadata": {},
   "source": [
    "## Process involved:\n",
    "\n",
    "- The Crime related data is downloaded by the implemented data fetching code\n",
    "\n",
    "- A list of negative words are created like gun,terrorism,terrorist,rape..\n",
    "\n",
    "- Iterate through the files of the the crime data\n",
    "\n",
    "- The values of abstract, lead_paragrapgh, keywords are taken from the dictionary of the json file\n",
    "\n",
    "- Next find whether there any words in the created negative wordlist is present of not in the json values\n",
    "\n",
    "- If present the extract the year of the article through pub_date key of the dictionary and add to the new dictionary if the year is not alreday present\n",
    "\n",
    "- If year is already present then the year value is incremented by 1\n",
    "\n",
    "- The process is reapeted for all the files\n",
    "\n",
    "- Finally we get the list of all the crimes happend in the year 2016,2015,2014\n",
    "\n",
    "- The is represented in pie chart.\n",
    "\n",
    "- The file extracted to the csv file to show the representation of crimes per year"
   ]
  },
  {
   "cell_type": "markdown",
   "metadata": {},
   "source": [
    "## Results\n",
    "\n",
    "!['yearly mails'](Question 2/Analysis 1/q2_a1.jpg)\n",
    "\n",
    "!['yearly mails'](Question 2/Analysis 1/q2_a2.jpg)"
   ]
  },
  {
   "cell_type": "markdown",
   "metadata": {},
   "source": [
    "## Inference:\n",
    "\n",
    "- From the above pie chart it is very clear that during 2015 there were more of voilent crimes has occured like attacks, terrorism, rape compared to the previous year(2016)\n",
    "\n",
    "- Thus it is infered that the during 2014 it was low and it got drastically increased in the year 2015. But in the previous year the rate of voilent crimes decreased"
   ]
  },
  {
   "cell_type": "markdown",
   "metadata": {},
   "source": [
    "# Analysis 2:"
   ]
  },
  {
   "cell_type": "markdown",
   "metadata": {},
   "source": [
    "# Analysing how the trend of sharing information has improved, using Most popular API"
   ]
  },
  {
   "cell_type": "markdown",
   "metadata": {},
   "source": [
    "## Data collection:\n",
    "\n",
    "- The data is collected my passing the parameters of section and period to the most popular search api learch\n",
    "\n",
    "- Using the api key that is generated the data is dumped to the as a json file"
   ]
  },
  {
   "cell_type": "markdown",
   "metadata": {},
   "source": [
    "## Process Involved:\n",
    "\n",
    "- Iterate through the list of file that is downloaded from the api\n",
    "\n",
    "- Iterate through the most shared files \n",
    "\n",
    "- From the files the date is fetched from the published date\n",
    "\n",
    "- And the date is sperated as year month and date \n",
    "\n",
    "- If the month is equal to 2(Feb) then the date of the file is added to the dictionary and the total_shares value is fetched from the tag of the dictionary and assigned as the value of the date.\n",
    "\n",
    "- Above step reapeated for all files at the end the dictinary will have the unique dates and its total shares as the value\n",
    "\n",
    "- Next Iterate through the most viwed files and store the files\n",
    "\n",
    "- And follow the same steps mentioned above and get a dictionary with unique dates and it total views as the values\n",
    "\n",
    "- Now the comparasion is made in the bar graph"
   ]
  },
  {
   "cell_type": "markdown",
   "metadata": {},
   "source": [
    "## Results:\n",
    "!['yearly mails'](Question 2/Analysis 2/q2_a3.jpg)\n"
   ]
  },
  {
   "cell_type": "markdown",
   "metadata": {},
   "source": [
    "## Inference:\n",
    "\n",
    "- The above graph proves that now a days people are not just viewing the news  or information they are just spreading the information also as the count of shares are higher than views.\n",
    "\n",
    "- Due to the invention of technology and social networking the words are spreading fast thorugh out the worldwide. Thus proving the trend of sharing information has increased a lot. "
   ]
  },
  {
   "cell_type": "markdown",
   "metadata": {},
   "source": [
    "# Analysis 3"
   ]
  },
  {
   "cell_type": "markdown",
   "metadata": {},
   "source": [
    "# Using the Article search API, track the popularity of football by comparing to baseball and basketball for the year 2013-2014 "
   ]
  },
  {
   "cell_type": "markdown",
   "metadata": {},
   "source": [
    "## Process:\n",
    "\n",
    "- The basketball files that is collected from the api search is iterated first\n",
    "\n",
    "- Fetching the section name and subsection name of the article.\n",
    "\n",
    "- Fetch the year of the article through the pub date and split the year to the date year and month\n",
    "\n",
    "- If the section name is 'sports' and the subsection name is 'Pro basketball' then add the year to the dictionary and assign the counter\n",
    "\n",
    "- Increment the counter of the value if the year is already otherwise add the new year as key\n",
    "\n",
    "- Reapeat the same process for the baseball also\n",
    "\n",
    "- Repeat the same process for the football also\n",
    "\n",
    "- We get the dictionaries of all the unique years with there assigned counter.\n",
    "\n",
    "- Plot the information in the multiple bar grapgh using matplotlib library"
   ]
  },
  {
   "cell_type": "markdown",
   "metadata": {},
   "source": [
    "## Results:\n",
    "\n",
    "!['yearly mails'](Question 2/Analysis 3/q2_a4.jpg)"
   ]
  },
  {
   "cell_type": "markdown",
   "metadata": {},
   "source": [
    "## Inference\n",
    "\n",
    "- From the above graph we conclude that the football sport is getting popular year by year compared to baseball, basketball\n",
    "\n",
    "- Thus US is very famous in football sport."
   ]
  },
  {
   "cell_type": "code",
   "execution_count": null,
   "metadata": {
    "collapsed": true
   },
   "outputs": [],
   "source": []
  }
 ],
 "metadata": {
  "anaconda-cloud": {},
  "kernelspec": {
   "display_name": "Python [conda root]",
   "language": "python",
   "name": "conda-root-py"
  },
  "language_info": {
   "codemirror_mode": {
    "name": "ipython",
    "version": 3
   },
   "file_extension": ".py",
   "mimetype": "text/x-python",
   "name": "python",
   "nbconvert_exporter": "python",
   "pygments_lexer": "ipython3",
   "version": "3.5.2"
  }
 },
 "nbformat": 4,
 "nbformat_minor": 1
}
