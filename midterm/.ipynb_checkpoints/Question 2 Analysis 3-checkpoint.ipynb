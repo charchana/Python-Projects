{
 "cells": [
  {
   "cell_type": "markdown",
   "metadata": {},
   "source": [
    "# Question 2 Analysis 3"
   ]
  },
  {
   "cell_type": "code",
   "execution_count": 1,
   "metadata": {
    "collapsed": true
   },
   "outputs": [],
   "source": [
    "import glob\n",
    "import os\n",
    "import json\n",
    "from operator import itemgetter\n",
    "from os.path import isfile,isdir\n",
    "import datetime\n",
    "import matplotlib.pyplot as plt\n",
    "import csv"
   ]
  },
  {
   "cell_type": "code",
   "execution_count": 2,
   "metadata": {
    "collapsed": true
   },
   "outputs": [],
   "source": [
    "path = os.getcwd()\n",
    "dataFolder = os.path.join(path,'Question 2_Data\\Sports')"
   ]
  },
  {
   "cell_type": "code",
   "execution_count": 3,
   "metadata": {
    "collapsed": false
   },
   "outputs": [],
   "source": [
    "baseballFolder = os.path.join(dataFolder,'Baseball')\n",
    "basketballFolder = os.path.join(dataFolder,'Basketball')\n",
    "footballFolder = os.path.join(dataFolder,'Football')"
   ]
  },
  {
   "cell_type": "code",
   "execution_count": 4,
   "metadata": {
    "collapsed": false
   },
   "outputs": [],
   "source": [
    "baseballFiles = glob.glob(os.path.join(baseballFolder,'*.json'))\n",
    "basketballFiles = glob.glob(os.path.join(basketballFolder,'*.json'))\n",
    "footballFiles = glob.glob(os.path.join(footballFolder,'*.json'))"
   ]
  },
  {
   "cell_type": "code",
   "execution_count": 5,
   "metadata": {
    "collapsed": false
   },
   "outputs": [],
   "source": [
    "def baseballData(baseballFiles):\n",
    "    baseball= {}\n",
    "    for base in baseballFiles:\n",
    "        with open(base,'r') as json_file:\n",
    "            json_data = json.load(json_file)\n",
    "            response = json_data['response']\n",
    "            docs = response['docs']\n",
    "            for sport in docs:\n",
    "                pubDate = sport[\"pub_date\"]\n",
    "                year = pubDate[0:4]\n",
    "                if sport['section_name'] != None:\n",
    "                    section_name = sport['section_name'].lower()\n",
    "                if sport['subsection_name'] != None:\n",
    "                    subsection_name = sport[\"subsection_name\"].lower()\n",
    "                if section_name == 'sports' and subsection_name == 'baseball':\n",
    "                    if year not in baseball:\n",
    "                        baseball[year] = 1\n",
    "                    else:\n",
    "                        baseball[year] += 1\n",
    "    return baseball               "
   ]
  },
  {
   "cell_type": "code",
   "execution_count": 6,
   "metadata": {
    "collapsed": false
   },
   "outputs": [],
   "source": [
    "def basketballData(basketballFiles):\n",
    "    basketball= {}\n",
    "    for baseket in basketballFiles:\n",
    "        with open(baseket,'r') as json_file:\n",
    "            json_data = json.load(json_file)\n",
    "            response = json_data['response']\n",
    "            docs = response['docs']\n",
    "            for sport in docs:\n",
    "                pubDate = sport[\"pub_date\"]\n",
    "                year = pubDate[0:4]\n",
    "                if sport['section_name'] != None:\n",
    "                    section_name = sport['section_name'].lower()\n",
    "                if sport['subsection_name'] != None:\n",
    "                    subsection_name = sport[\"subsection_name\"].lower()\n",
    "                if section_name == 'sports' and subsection_name == 'pro basketball':\n",
    "                    if year not in basketball:\n",
    "                        basketball[year] = 1\n",
    "                    else:\n",
    "                        basketball[year] += 1\n",
    "    return basketball               "
   ]
  },
  {
   "cell_type": "code",
   "execution_count": 7,
   "metadata": {
    "collapsed": true
   },
   "outputs": [],
   "source": [
    "def footballData(footballFiles):\n",
    "    football= {}\n",
    "    for foot in footballFiles:\n",
    "        with open(foot,'r') as json_file:\n",
    "            json_data = json.load(json_file)\n",
    "            response = json_data['response']\n",
    "            docs = response['docs']\n",
    "            for sport in docs:\n",
    "                pubDate = sport[\"pub_date\"]\n",
    "                year = pubDate[0:4]\n",
    "                if sport['section_name'] != None:\n",
    "                    section_name = sport['section_name'].lower()\n",
    "                if sport['subsection_name'] != None:\n",
    "                    subsection_name = sport[\"subsection_name\"].lower()\n",
    "                if section_name == 'sports' and subsection_name == 'pro football' or 'soccer':\n",
    "                    if year not in football:\n",
    "                        football[year] = 1\n",
    "                    else:\n",
    "                        football[year] += 1\n",
    "    return football               "
   ]
  },
  {
   "cell_type": "code",
   "execution_count": 8,
   "metadata": {
    "collapsed": false
   },
   "outputs": [
    {
     "name": "stdout",
     "output_type": "stream",
     "text": [
      "{'2014': 1080, '2013': 699}\n"
     ]
    }
   ],
   "source": [
    "baseket = basketballData(basketballFiles)\n",
    "print('Baseketball popularity :',baseket)"
   ]
  },
  {
   "cell_type": "code",
   "execution_count": 9,
   "metadata": {
    "collapsed": false
   },
   "outputs": [
    {
     "name": "stdout",
     "output_type": "stream",
     "text": [
      "{'2014': 2528, '2013': 1746}\n"
     ]
    }
   ],
   "source": [
    "base = baseballData(baseballFiles)\n",
    "print('Baseball popularity :', base)"
   ]
  },
  {
   "cell_type": "code",
   "execution_count": 10,
   "metadata": {
    "collapsed": false
   },
   "outputs": [
    {
     "name": "stdout",
     "output_type": "stream",
     "text": [
      "{'2014': 3775, '2013': 3314}\n"
     ]
    }
   ],
   "source": [
    "foot = footballData(footballFiles)\n",
    "print('Football popularity :', foot)"
   ]
  },
  {
   "cell_type": "code",
   "execution_count": 19,
   "metadata": {
    "collapsed": false
   },
   "outputs": [],
   "source": [
    "# for plotting graph and writing conclusion\n",
    "def graphWithMatplotlib(baseket, base, foot):\n",
    "    x = [1, 2] # x axis for first graph\n",
    "    a = [] # y axis for first graph\n",
    "    b = [] # x axis for second graph\n",
    "    c = []\n",
    "\n",
    "    for each in baseket.items():\n",
    "        #x.append(each[0])\n",
    "        a.append(each[1])\n",
    "\n",
    "    for each in base.items():\n",
    "        b.append(each[1])\n",
    "\n",
    "    for each in foot.items():\n",
    "        c.append(each[1])\n",
    "        \n",
    "    width = 0.25\n",
    "\n",
    "    # Plotting the bars\n",
    "    fig, ax = plt.subplots(figsize=(10,5))\n",
    "\n",
    "    # Create a bar with pre_score data,\n",
    "    # in position pos,\n",
    "    plt.bar(x,\n",
    "            #using df['pre_score'] data,\n",
    "            a,\n",
    "            # of width\n",
    "            width,\n",
    "            # with alpha 0.5\n",
    "            alpha=0.5,\n",
    "            # with color\n",
    "            color='#54c1b7',\n",
    "            # with label the first value in first_name\n",
    "            label='Basketball')\n",
    "\n",
    "    # Create a bar with mid_score data,\n",
    "    # in position pos + some width buffer,\n",
    "    plt.bar([p + width for p in x],\n",
    "            #using df['mid_score'] data,\n",
    "            b,\n",
    "            # of width\n",
    "            width,\n",
    "            # with alpha 0.5\n",
    "            alpha=0.5,\n",
    "            # with color\n",
    "            color='#547bc1',\n",
    "            # with label the second value in first_name\n",
    "            label='Baseball')\n",
    "    # Create a bar with mid_score data,\n",
    "    # in position pos + some width buffer,\n",
    "    plt.bar([p + width+0.25 for p in x],\n",
    "            #using df['mid_score'] data,\n",
    "            c,\n",
    "            # of width\n",
    "            width,\n",
    "            # with alpha 0.5\n",
    "            alpha=0.5,\n",
    "            # with color\n",
    "            color='#c1b254',\n",
    "            # with label the second value in first_name\n",
    "            label='Football')\n",
    "    \n",
    "    # Set the y axis label\n",
    "    ax.set_ylabel('Popularity')\n",
    "    # Set the x axis label\n",
    "    ax.set_xlabel('Year 2013-2014')\n",
    "    \n",
    "    #Setting the x-axis and y-axis limits\n",
    "    plt.xlim(1,3)\n",
    "    plt.ylim(500,5000)\n",
    "\n",
    "    # Set the chart's title\n",
    "    ax.set_title('Periodical popularity growth of Football sport in US')\n",
    "    xTickMarks = ['2014', '2013']\n",
    "    ax.set_xticks([p+width for p in x])\n",
    "    xtickNames = ax.set_xticklabels(xTickMarks)\n",
    "    plt.setp(xtickNames, rotation=45, fontsize=10)\n",
    "    \n",
    "    # Adding the legend and showing the plot\n",
    "    plt.legend(['Baseketball', 'Baseball','Football'], loc='upper right')\n",
    "    plt.grid()\n",
    "    plt.show()"
   ]
  },
  {
   "cell_type": "code",
   "execution_count": 20,
   "metadata": {
    "collapsed": false
   },
   "outputs": [
    {
     "data": {
      "image/png": "[encoded data removed]",
      "text/plain": [
       "<matplotlib.figure.Figure at 0x23078937dd8>"
      ]
     },
     "metadata": {},
     "output_type": "display_data"
    }
   ],
   "source": [
    "graphWithMatplotlib(baseket, base, foot)"
   ]
  },
  {
   "cell_type": "code",
   "execution_count": null,
   "metadata": {
    "collapsed": true
   },
   "outputs": [],
   "source": []
  }
 ],
 "metadata": {
  "anaconda-cloud": {},
  "kernelspec": {
   "display_name": "Python [conda root]",
   "language": "python",
   "name": "conda-root-py"
  },
  "language_info": {
   "codemirror_mode": {
    "name": "ipython",
    "version": 3
   },
   "file_extension": ".py",
   "mimetype": "text/x-python",
   "name": "python",
   "nbconvert_exporter": "python",
   "pygments_lexer": "ipython3",
   "version": "3.5.2"
  }
 },
 "nbformat": 4,
 "nbformat_minor": 1
}
