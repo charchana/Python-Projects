{
 "cells": [
  {
   "cell_type": "code",
   "execution_count": 1,
   "metadata": {
    "collapsed": false
   },
   "outputs": [],
   "source": [
    "import glob\n",
    "import os\n",
    "import stop_words\n",
    "import re\n",
    "from os.path import isfile,isdir\n",
    "from email.parser import Parser"
   ]
  },
  {
   "cell_type": "code",
   "execution_count": 2,
   "metadata": {
    "collapsed": false
   },
   "outputs": [
    {
     "name": "stdout",
     "output_type": "stream",
     "text": [
      "D:\\SEM 2\\Python\\Assignments\\chintha_archana_spring2017\\midterm\\mails\n"
     ]
    }
   ],
   "source": [
    "rootdir = os.path.join(os.getcwd() + '\\mails')\n",
    "print(rootdir)\n",
    "pathOfDirector = os.walk(rootdir)\n",
    "directories =[direc[0] for direc in pathOfDirector]\n"
   ]
  },
  {
   "cell_type": "code",
   "execution_count": null,
   "metadata": {
    "collapsed": false
   },
   "outputs": [],
   "source": [
    "# listOfDirectories = os.listdir(rootdir)\n",
    "# for sub in listOfDirectories:\n",
    "#     if not os.path.isfile(sub):\n",
    "#         subDirec = os.path.join(rootdir, sub)\n",
    "#         subSubList = os.listdir(subDirec)\n",
    "#         for subSub in subSubList:\n",
    "#             if not os.path.isfile(subSub):\n",
    "#                 subSubSub = os.path.join(subDirec, subSub)\n",
    "#                 for files in glob.glob(os.path.join(subSubSub + '\\\\' + '*')):\n",
    "#                     with open(files, 'r') as email_file:\n",
    "#                         email = email_file.read()\n",
    "#                         email_content = Parser().parsestr(email)\n",
    "#                         print(email_content)\n",
    "                        "
   ]
  },
  {
   "cell_type": "code",
   "execution_count": 3,
   "metadata": {
    "collapsed": false
   },
   "outputs": [],
   "source": [
    "sentPath = []\n",
    "for directory in directories:\n",
    "    if directory.endswith('sent'):\n",
    "        sentPath.append(directory)"
   ]
  },
  {
   "cell_type": "code",
   "execution_count": 4,
   "metadata": {
    "collapsed": false
   },
   "outputs": [],
   "source": [
    "body = []\n",
    "for eachSentFolder in sentPath:\n",
    "    files = glob.glob(os.path.join(eachSentFolder)+ '\\\\'+ '*')\n",
    "    for file in files:\n",
    "        if os.path.isfile(file):\n",
    "            with open(file,'r') as text_file:\n",
    "                data = text_file.read()\n",
    "                email_content = Parser().parsestr(data)\n",
    "                #fullList = []\n",
    "                #fullList.append(email_content['to'])\n",
    "                #fullList.append(email_content.get_payload())\n",
    "                body.append(email_content.get_payload())\n",
    "                #if email_content.is_multipart():\n",
    "                    #print(\"true\")\n",
    "                #for part in email_content.get_payload():\n",
    "                    #miltipart.append(part.get_payload())\n",
    "                \n",
    "                    \n",
    "        #if not os.path.isdir(file):\n",
    "            #if os.path.isfile(os.path.join(eachSentFolder, file)):\n",
    "                #print(file)"
   ]
  },
  {
   "cell_type": "code",
   "execution_count": 5,
   "metadata": {
    "collapsed": false
   },
   "outputs": [
    {
     "data": {
      "text/plain": [
       "[\"---------------------- Forwarded by Phillip K Allen/HOU/ECT on 04/02/2001 \\n02:49 PM ---------------------------\\n\\n\\nParking & Transportation@ENRON\\n03/28/2001 02:07 PM\\nSent by: DeShonda Hamilton@ENRON\\nTo: Brad Alford/NA/Enron@Enron, Megan Angelos/Enron@EnronXGate, Suzanne \\nAdams/HOU/ECT@ECT, John Allario/Enron@EnronXGate, Phillip K \\nAllen/HOU/ECT@ECT, Irma Alvarez/Enron@EnronXGate, Airam Arteaga/HOU/ECT@ECT, \\nBerney C Aucoin/HOU/ECT@ECT, Peggy Banczak/HOU/ECT@ECT, Robin \\nBarbe/HOU/ECT@ECT, Edward D Baughman/Enron@EnronXGate, Pam \\nBecton/Enron@EnronXGate, Corry Bentley/HOU/ECT@ECT, Patricia \\nBloom/Enron@EnronXGate, Sandra F Brawner/HOU/ECT@ECT, Jerry \\nBritain/Enron@EnronXGate, Lisa Bills/Enron@EnronXGate, Michelle \\nBlaine/ENRON@enronXgate, Eric Boyt/Corp/Enron@Enron, Cheryl \\nArguijo/Enron@EnronXGate, Jeff Ader/HOU/EES@EES, Mark Bernstein/HOU/EES@EES, \\nKimberly Brown/HOU/ECT@ECT, Gary Bryan/HOU/ECT@ECT, Rebecca W \\nCantrell/HOU/ECT@ECT, Bob Carter/HOU/ECT@ECT, Carol Carter/Enron@EnronXGate, \\nCarmen Chavira/Enron@EnronXGate, Christopher K Clark/Enron@EnronXGate, Morris \\nRichard Clark/Enron@EnronXGate, Terri Clynes/HOU/ECT@ECT, Karla \\nCompean/Enron@EnronXGate, Ruth Concannon/HOU/ECT@ECT, Patrick \\nConner/HOU/ECT@ECT, Sheri L Cromwell/Enron@EnronXGate, Edith \\nCross/HOU/ECT@ECT, Martin Cuilla/HOU/ECT@ECT, Mike Curry/Enron@EnronXGate, \\nMichael Danielson/SF/ECT@ECT, Peter del Vecchio/HOU/ECT@ECT, Barbara G \\nDillard/Corp/Enron@Enron@ECT, Rufino Doroteo/Enron@EnronXGate, Christine \\nDrummond/HOU/ECT@ECT, Tom Dutta/HOU/ECT@ECT, Laynie East/Enron@EnronXGate, \\nJohn Enerson/HOU/ECT@ECT, David Fairley/Enron@EnronXGate, Nony \\nFlores/HOU/ECT@ECT, Craig A Fox/Enron@EnronXGate, Julie S \\nGartner/Enron@EnronXGate, Maria Garza/HOU/ECT@ECT, Chris Germany/HOU/ECT@ECT, \\nMonica Butler/Enron@EnronXGate, Chris Clark/NA/Enron@Enron, Christopher \\nCoffman/Corp/Enron@Enron, Ron Coker/Corp/Enron@Enron, John \\nColeman/EWC/Enron@Enron, Nicki Daw/Enron@EnronXGate, Ranabir \\nDutt/Enron@EnronXGate, Kurt Eggebrecht/ENRON@enronxgate, Marsha \\nFrancis/Enron@EnronXGate, Robert H George/NA/Enron@Enron, Nancy \\nCorbet/ENRON_DEVELOPMENT@ENRON_DEVELOPMENt, Margaret \\nDoucette/ENRON_DEVELOPMENT@ENRON_DEVELOPMENT, Maria E \\nGarcia/ENRON_DEVELOPMENT@ENRON_DEVELOPMENt, Humberto \\nCubillos-Uejbe/HOU/EES@EES, Barton Clark/HOU/ECT@ECT, Ned E \\nCrady/ENRON_DEVELOPMENT@ENRON_DEVELOPMENT, Stinson Gibner/HOU/ECT@ECT, Stacy \\nGibson/Enron@EnronXGate, George N Gilbert/HOU/ECT@ECT, Mathew \\nGimble/HOU/ECT@ECT, Barbara N Gray/HOU/ECT@ECT, Alisa Green/Enron@EnronXGate, \\nRobert Greer/HOU/ECT@ECT, Wayne Gresham/HOU/ECT@ECT, Mike \\nGrigsby/HOU/ECT@ECT, Linda R Guinn/HOU/ECT@ECT, Cathy L Harris/HOU/ECT@ECT, \\nTosha Henderson/HOU/ECT@ECT, Scott Hendrickson/HOU/ECT@ECT, Nick \\nHiemstra/HOU/ECT@ECT, Kimberly Hillis/Enron@EnronXGate, Dorie \\nHitchcock/HOU/ECT@ECT, Jeffrey T Hodge/HOU/ECT@ECT, Georgeanne \\nHodges/Enron@EnronXGate, Jeff Hoover/HOU/ECT@ECT, Brad Horn/HOU/ECT@ECT, John \\nHouse/HOU/ECT@ECT, Joseph Hrgovcic/Enron@EnronXGate, Dan J Hyvl/HOU/ECT@ECT, \\nSteve Irvin/HOU/ECT@ECT, Rhett Jackson/Enron@EnronXGate, Patrick \\nJohnson/HOU/ECT@ECT, Amy Jon/Enron@EnronXGate, Tana Jones/HOU/ECT@ECT, Peter \\nF Keavey/HOU/ECT@ECT, Jeffrey Keenan/HOU/ECT@ECT, Brian \\nKerrigan/Enron@EnronXGate, Kyle Kettler/HOU/ECT@ECT, Faith \\nKillen/Enron@EnronXGate, Joe Gordon/Enron@EnronXGate, Bruce \\nHarris/NA/Enron@Enron, Chris Herron/Enron@EnronXGate, Melissa \\nJones/NA/Enron@ENRON, Lynna Kacal/Enron@EnronXGate, Allan \\nKeel/Enron@EnronXGate, Mary Kimball/NA/Enron@Enron, Bruce \\nGolden/ENRON_DEVELOPMENT@ENRON_DEVELOPMENT, Kim \\nHickok/ENRON_DEVELOPMENT@ENRON_DEVELOPMENT, Elizabeth Howley/HOU/EES@EES, \\nJohn King/Enron Communications@Enron Communications, Jeff \\nKinneman/Enron@EnronXGate, Troy Klussmann/Enron@EnronXGate, Mark \\nKnippa/HOU/ECT@ECT, Deb Korkmas/HOU/ECT@ECT, Heather Kroll/Enron@EnronXGate, \\nKevin Kuykendall/HOU/ECT@ECT, Matthew Lenhart/HOU/ECT@ECT, Andrew H \\nLewis/HOU/ECT@ECT, Lindsay Long/Enron@EnronXGate, Blanca A \\nLopez/Enron@EnronXGate, Gretchen Lotz/HOU/ECT@ECT, Dan Lyons/HOU/ECT@ECT, \\nMolly Magee/Enron@EnronXGate, Kelly Mahmoud/HOU/ECT@ECT, David \\nMarks/HOU/ECT@ECT, Greg Martin/HOU/ECT@ECT, Jennifer Martinez/HOU/ECT@ECT, \\nDeirdre McCaffrey/HOU/ECT@ECT, George McCormick/Enron@EnronXGate, Travis \\nMcCullough/HOU/ECT@ECT, Brad McKay/HOU/ECT@ECT, Brad \\nMcSherry/Enron@EnronXGate, Lisa Mellencamp/HOU/ECT@ECT, Kim \\nMelodick/Enron@EnronXGate, Chris Meyer/HOU/ECT@ECT, Mike J \\nMiller/HOU/ECT@ECT, Don Miller/HOU/ECT@ECT, Patrice L Mims/HOU/ECT@ECT, \\nYvette Miroballi/Enron@EnronXGate, Fred Mitro/HOU/ECT@ECT, Eric \\nMoon/HOU/ECT@ECT, Janice R Moore/HOU/ECT@ECT, Greg Krause/Corp/Enron@Enron, \\nSteven Krimsky/Corp/Enron@Enron, Shahnaz Lakho/NA/Enron@Enron, Chris \\nLenartowicz/Corp/Enron@ENRON, Kay Mann/Corp/Enron@Enron, Judy \\nMartinez/Enron@EnronXGate, Jesus Melendrez/Enron@EnronXGate, Michael L \\nMiller/NA/Enron@Enron, Stephanie Miller/Corp/Enron@ENRON, Veronica \\nMontiel/ENRON_DEVELOPMENT@ENRON_DEVELOPMENT, Kenneth Krasny/Enron@EnronXGate, \\nJanet H Moore/HOU/ECT@ECT, Brad Morse/HOU/ECT@ECT, Scott Neal/HOU/ECT@ECT, \\nGerald Nemec/HOU/ECT@ECT, Jesse Neyman/HOU/ECT@ECT, Mary Ogden/HOU/ECT@ECT, \\nSandy Olitsky/HOU/ECT@ECT, Roger Ondreko/Enron@EnronXGate, Ozzie \\nPagan/Enron@EnronXGate, Rhonna Palmer/Enron@EnronXGate, Anita K \\nPatton/HOU/ECT@ECT, Laura R Pena/HOU/ECT@ECT, Susan W Pereira/HOU/ECT@ECT, \\nDebra Perlingiere/HOU/ECT@ECT, John Peyton/HOU/ECT@ECT, Paul \\nPizzolato/Enron@EnronXGate, Laura Podurgiel/HOU/ECT@ECT, David \\nPortz/HOU/ECT@ECT, Joan Quick/Enron@EnronXGate, Dutch Quigley/HOU/ECT@ECT, \\nPat Radford/HOU/ECT@ECT, Ina Rangel/HOU/ECT@ECT, Robert W Rimbau/HOU/ECT@ECT, \\nAndrea Ring/HOU/ECT@ECT, Amy Rios/Enron@EnronXGate, Benjamin \\nRogers/HOU/ECT@ECT, Kevin Ruscitti/HOU/ECT@ECT, Elizabeth Sager/HOU/ECT@ECT, \\nRichard B Sanders/HOU/ECT@ECT, Janelle Scheuer/Enron@EnronXGate, Lance \\nSchuler-Legal/HOU/ECT@ECT, Sara Shackleton/HOU/ECT@ECT, Jean \\nMrha/NA/Enron@Enron, Caroline Nugent/Enron@EnronXGate, Richard \\nOrellana/ENRON@enronXgate, Michelle Parks/Enron@EnronXGate, Steve \\nPruett/Enron@EnronXGate, Mitch Robinson/Corp/Enron@Enron, Susan \\nMusch/Enron@EnronXGate, Larry Pardue/ENRON_DEVELOPMENT@ENRON_DEVELOPMENT, \\nDaniel R Rogers/ENRON_DEVELOPMENT@ENRON_DEVELOPMENT, Frank \\nSayre/ENRON_DEVELOPMENT@ENRON_DEVELOPMENT, Kevin P Radous/Corp/Enron@Enron, \\nTammy R Shepperd/Enron@EnronXGate, Cris Sherman/Enron@EnronXGate, Hunter S \\nShively/HOU/ECT@ECT, Lisa Shoemake/HOU/ECT@ECT, James Simpson/HOU/ECT@ECT, \\nJeanie Slone/Enron@EnronXGate, Gregory P Smith/Enron@EnronXGate, Susan \\nSmith/Enron@EnronXGate, Will F Smith/Enron@EnronXGate, Maureen \\nSmith/HOU/ECT@ECT, Shari Stack/HOU/ECT@ECT, Geoff Storey/HOU/ECT@ECT, \\nFletcher J Sturm/HOU/ECT@ECT, John Swafford/Enron@EnronXGate, Ron \\nTapscott/HOU/ECT@ECT, Mark Taylor/HOU/ECT@ECT, Stephen Thome/HOU/ECT@ECT, \\nLarry Valderrama/Enron@EnronXGate, Steve Van Hooser/HOU/ECT@ECT, Hope \\nVargas/Enron@EnronXGate, Brian Vass/HOU/ECT@ECT, Victoria Versen/HOU/ECT@ECT, \\nCharles Vetters/HOU/ECT@ECT, Janet H Wallis/HOU/ECT@ECT, Samuel \\nWehn/HOU/ECT@ECT, Jason R Wiesepape/HOU/ECT@ECT, Allen Wilhite/HOU/ECT@ECT, \\nBill Williams/PDX/ECT@ECT, Stephen Wolfe/Enron@EnronXGate, Stuart \\nZisman/HOU/ECT@ECT, George Zivic/HOU/ECT@ECT, Mary Sontag/Enron@EnronXGate, \\nEric Thode/Corp/Enron@ENRON, Carl Tricoli/Corp/Enron@Enron, Shiji \\nVarkey/Enron@EnronXGate, Frank W Vickers/NA/Enron@Enron, Greg \\nWhiting/Enron@EnronXGate, Becky Young/NA/Enron@Enron, Emily \\nAdamo/Enron@EnronXGate, Jacqueline P Adams/HOU/ECT@ECT, Janie \\nAguayo/HOU/ECT@ECT, Peggy Alix/ENRON@enronXgate, Thresa A Allen/HOU/ECT@ECT, \\nSherry Anastas/HOU/ECT@ECT, Kristin Armstrong/Enron@EnronXGate, Veronica I \\nArriaga/HOU/ECT@ECT, Susie Ayala/HOU/ECT@ECT, Natalie Baker/HOU/ECT@ECT, \\nMichael Barber/Enron@EnronXGate, Gloria G Barkowsky/HOU/ECT@ECT, Wilma \\nBleshman/Enron@EnronXGate, Dan Bruce/Enron@EnronXGate, Richard \\nBurchfield/Enron@EnronXGate, Anthony Campos/HOU/ECT@ECT, Sylvia A \\nCampos/HOU/ECT@ECT, Betty Chan/Enron@EnronXGate, Jason \\nChumley/Enron@EnronXGate, Marilyn Colbert/HOU/ECT@ECT, Audrey \\nCook/HOU/ECT@ECT, Diane H Cook/HOU/ECT@ECT, Magdelena Cruz/Enron@EnronXGate, \\nBridgette Anderson/Corp/Enron@ENRON, Walt Appel/ENRON@enronXgate, David \\nBerberian/Enron@EnronXGate, Sherry Butler/Enron@EnronXGate, Rosie \\nCastillo/Enron@EnronXGate, Christopher B Clark/Corp/Enron@Enron, Patrick \\nDavis/Enron@EnronXGate, Larry Cash/Enron Communications@Enron Communications, \\nMathis Conner/Enron@EnronXGate, Lawrence R Daze/Enron@EnronXGate, Rhonda L \\nDenton/HOU/ECT@ECT, Bradley Diebner/Enron@EnronXGate, Anna M \\nDocwra/HOU/ECT@ECT, Kenneth D'Silva/HOU/ECT@ECT, Karen Easley/HOU/ECT@ECT, \\nKenneth W Ellerman/Enron@EnronXGate, Allen Elliott/Enron@EnronXGate, Rene \\nEnriquez/Enron@EnronXGate, Soo-Lian Eng Ervin/Enron@EnronXGate, Irene \\nFlynn/HOU/ECT@ECT, Christopher Funk/Enron@EnronXGate, Jim \\nFussell/Enron@EnronXGate, Clarissa Garcia/HOU/ECT@ECT, Lisa \\nGillette/HOU/ECT@ECT, Carolyn Gilley/HOU/ECT@ECT, Gerri Gosnell/HOU/ECT@ECT, \\nJeffrey C Gossett/HOU/ECT@ECT, Michael Guadarrama/Enron@EnronXGate, Victor \\nGuggenheim/HOU/ECT@ECT, Cynthia Hakemack/HOU/ECT@ECT, Kenneth M \\nHarmon/Enron@EnronXGate, Susan Harrison/Enron@EnronXGate, Elizabeth L \\nHernandez/HOU/ECT@ECT, Meredith Homco/HOU/ECT@ECT, Alton Honore/HOU/ECT@ECT, \\nRoberto Deleon/Enron@EnronXGate, Jay Desai/HR/Corp/Enron@ENRON, Hal \\nElrod/Enron@EnronXGate, Paul Finken/Enron@EnronXGate, Brenda \\nFlores-Cuellar/Enron@EnronXGate, Irma Fuentes/Enron@EnronXGate, Jim \\nGearhart/Enron@EnronXGate, Camille Gerard/Corp/Enron@ENRON, Sharon \\nGonzales/NA/Enron@ENRON, Carolyn Graham/Enron@EnronXGate, Thomas D \\nGros/Enron@EnronXGate, Sam Guerrero/Enron@EnronXGate, Andrew \\nHawthorn/Enron@EnronXGate, Katherine Herrera/Corp/Enron@ENRON, Christopher \\nDucker/Enron@EnronXGate, Jarod Jenson/Enron@EnronXGate, Wenyao \\nJia/Enron@EnronXGate, Kam Keiser/HOU/ECT@ECT, Katherine L Kelly/HOU/ECT@ECT, \\nWilliam Kelly/HOU/ECT@ECT, Dawn C Kenne/HOU/ECT@ECT, Lisa Kinsey/HOU/ECT@ECT, \\nVictor Lamadrid/HOU/ECT@ECT, Karen Lambert/HOU/ECT@ECT, Jenny \\nLatham/HOU/ECT@ECT, Jonathan Le/Enron@EnronXGate, Lisa Lees/HOU/ECT@ECT, Kori \\nLoibl/HOU/ECT@ECT, Duong Luu/Enron@EnronXGate, Shari Mao/HOU/ECT@ECT, David \\nMaxwell/Enron@EnronXGate, Mark McClure/HOU/ECT@ECT, Doug \\nMcDowell/Enron@EnronXGate, Gregory McIntyre/Enron@EnronXGate, Darren \\nMcNair/Enron@EnronXGate, Keith Meurer/Enron@EnronXGate, Jackie \\nMorgan/HOU/ECT@ECT, Melissa Ann Murphy/HOU/ECT@ECT, Gary Nelson/HOU/ECT@ECT, \\nMichael Neves/Enron@EnronXGate, Joanie H Ngo/HOU/ECT@ECT, Thu T \\nNguyen/HOU/ECT@ECT, Angela Hylton/Enron@EnronXGate, Jeff \\nJohnson/Enron@EnronXGate, Laura Johnson/Enron@EnronXGate, Robert W \\nJones/Enron@EnronXGate, Kara Knop/Enron@EnronXGate, John \\nLetvin/Enron@EnronXGate, Kathy Link/Enron@EnronXGate, Teresa \\nMcOmber/NA/Enron@ENRON, James Moore/Enron@EnronXGate, Jennifer \\nNguyen/Corp/Enron@ENRON, ThuHa Nguyen/Enron@EnronXGate, George \\nNguyen/Enron@EnronXGate, Reina Mendez/Enron@EnronXGate, Frank Karbarz/Enron \\nCommunications@Enron Communications, William May/Enron Communications@Enron \\nCommunications, John Norden/Enron@EnronXGate, Kimberly S Olinger/HOU/ECT@ECT, \\nRichard Pinion/HOU/ECT@ECT, Bryan Powell/Enron@EnronXGate, Phillip C. \\nRandle/Enron@EnronXGate, Leslie Reeves/HOU/ECT@ECT, Stacey \\nRichardson/HOU/ECT@ECT, Drew Ries/Enron@EnronXGate, Jose Ruiz/MAD/ECT@ECT, \\nTammie Schoppe/HOU/ECT@ECT, Mark L Schrab/HOU/ECT@ECT, Sherlyn \\nSchumack/HOU/ECT@ECT, Susan M Scott/HOU/ECT@ECT, Stephanie Sever/HOU/ECT@ECT, \\nRuss Severson/HOU/ECT@ECT, John Shupak/Enron@EnronXGate, Bruce \\nSmith/Enron@EnronXGate, George F Smith/HOU/ECT@ECT, Will F \\nSmith/Enron@EnronXGate, Mary Solmonson/Enron@EnronXGate, Sai \\nSreerama/HOU/ECT@ECT, Mechelle Stevens/HOU/ECT@ECT, Patti \\nSullivan/HOU/ECT@ECT, Robert Superty/HOU/ECT@ECT, Michael \\nSwaim/Enron@EnronXGate, Janette Oquendo/Enron@EnronXGate, Ryan \\nOrsak/ENRON@enronXgate, Mark Palmer/Corp/Enron@ENRON, Michael K \\nPatrick/Enron@EnronXGate, John Pavetto/Enron@EnronXGate, Catherine \\nPernot/Enron@EnronXGate, John D Reese/Enron@EnronXGate, Sandy \\nRivas/Enron@EnronXGate, Sean Sargent/Enron@EnronXGate, Vanessa \\nSchulte/Enron@EnronXGate, Rex Shelby/Enron@EnronXGate, Jeffrey \\nSnyder/Enron@EnronXGate, Joe Steele/Enron@EnronXGate, Omar \\nTaha/Enron@EnronXGate, Diana Peters/Enron@EnronXGate@ENRON_DEVELOPMENt, Harry \\nSwinton/Enron@EnronXGate, James Post/Enron Communications@Enron \\nCommunications, Mable Tang/Enron@EnronXGate, Sheri Thomas/HOU/ECT@ECT, \\nAlfonso Trabulsi/HOU/ECT@ECT, Susan D Trevino/HOU/ECT@ECT, Connie \\nTruong/Enron@EnronXGate, Khadiza Uddin/Enron@EnronXGate, Adarsh \\nVakharia/HOU/ECT@ECT, Rennu Varghese/Enron@EnronXGate, Kimberly \\nVaughn/HOU/ECT@ECT, Judy Walters/HOU/ECT@ECT, Mary \\nWeatherstone/Enron@EnronXGate, Stacey W White/HOU/ECT@ECT, Jason \\nWilliams/HOU/ECT@ECT, Scott Williamson/Enron@EnronXGate, O'Neal D \\nWinfree/HOU/ECT@ECT, Jeremy Wong/Enron@EnronXGate, Rita Wynne/HOU/ECT@ECT, \\nSteve Tenney/Enron@EnronXGate, Todd Thelen/Enron@EnronXGate, N Jessie \\nWang/Enron@EnronXGate, Gwendolyn Williams/ENRON@enronXgate, Dejoun \\nWindless/Corp/Enron@ENRON, Jeanne Wukasch/Corp/Enron@ENRON, Lisa \\nYarbrough/Enron@EnronXGate, Will Zamer/Enron@EnronXGate, Ned \\nHiggins/HOU/ECT@ECT, Saji John/Enron Communications@Enron Communications, \\nFrancisco Pinto Leite/ENRON_DEVELOPMENT@ENRON_DEVELOPMENT, Barry \\nTycholiz/NA/Enron@ENRON, Bob M Hall/NA/Enron@Enron, Pamela \\nBrown/NA/Enron@Enron, Gerri Gosnell/HOU/ECT@ECT\\ncc: Louis Allen/EPSC/HOU/ECT@ECT, Raquel Lopez/Corp/Enron@ENRON \\nSubject: Enron Center Garage\\n\\nThe Enron Center garage will be opening very soon.\\n\\nEmployees who work for business units that are scheduled to move to the new \\nbuilding and currently park in the Allen Center or Met garages are being \\noffered a parking space in the new Enron Center garage.\\n\\nThis is the only offer you will receive during the initial migration to the \\nnew garage. Spaces will be filled on a first come first served basis. The \\ncost for the new garage will be the same as Allen Center garage which is \\ncurrently $165.00 per month, less the company subsidy, leaving a monthly \\nemployee cost of $94.00.\\n\\nIf you choose not to accept this offer at this time, you may add your name to \\nthe Enron Center garage waiting list at a later day and offers will be made \\nas spaces become available. \\n\\nThe Saturn Ring  that connects the garage and both buildings will not be \\nopened until summer 2001. All initial parkers will have to use the street \\nlevel entrance to Enron Center North until Saturn Ring access is available. \\nGarage stairways next to the elevator lobbies at each floor may be used as an \\nexit in the event of elevator trouble. \\n\\nIf you are interested in accepting this offer, please reply via email to \\nParking and Transportation as soon as you reach a decision. Following your \\nemail, arrangements will be made for you to turn in your old parking card and \\nreceive a parking transponder along with a new information packet for the new \\ngarage.\\n\\nThe Parking and Transportation desk may be reached via email at Parking and \\nTransportation/Corp/Enron or 713-853-7060  with any questions. \\n\\n(You must enter & exit on Clay St. the first two weeks, also pedestrians, \\nwill have to use the garage stairwell located on the corner of Bell & Smith.)\\n\\n\\n\\n\\n\\n\\n\\n\\n\\n\",\n",
       " '---------------------- Forwarded by Phillip K Allen/HOU/ECT on 10/24/2000 \\n01:29 PM ---------------------------\\n\\n\\n\"George Richards\" <cbpres@austin.rr.com> on 09/26/2000 01:18:45 PM\\nPlease respond to <cbpres@austin.rr.com>\\nTo: \"Phillip Allen\" <pallen@enron.com>\\ncc: \"Larry Lewter\" <retwell@mail.sanmarcos.net>, \"Claudia L. Crocker\" \\n<clclegal2@aol.com> \\nSubject: Investment Structure\\n\\n\\nSTRUCTURE:\\nTypically the structure is a limited partnership with a corporate (or LLC)\\ngeneral partner.  The General Partner owns 1% of the project and carries the\\nliability of construction.\\n\\nLAND OWNERSHIP & LOANS\\nThe property would be purchased in the name of the limited partnership and\\nany land loans, land improvements loans and construction loans would be in\\nthe name of the limited partnership.  Each of the individual investors and\\nall of the principals in Creekside would also personally guarantee the\\nloans.  If the investor(s) do not sign on the loans, this generally means\\nthat a larger amount of cash is required and the investor\\'s share of profits\\nis reduced.\\n\\nAll loans for residential construction, that are intended for re-sale, are\\nfull recourse loans.  If we are pursuing multifamily rental developments,\\nthe construction loans are still full recourse but the mortgage can often be\\nnon-recourse.\\n\\nUSE OF INITIAL INVESTMENT\\nThe initial investment is used for land deposit, engineering &\\narchitectural design, soils tests, surveys, filing fees, legal fees for\\norganization and condominium association formation,  and appraisals.  Unlike\\nmany real estate investment programs, none of the funds are used for fees to\\nCreekside Builders, LLC.  These professional expenses will be incurred over\\nthe estimated 6 month design and approval period.\\n\\nEARLY LAND COSTS\\nThe $4,000 per month costs listed in the cash flow as part of land cost\\nrepresent the extension fees due to the seller for up to 4 months of\\nextensions on closing.  As an alternative, we can close into a land loan at\\nprobably 70% of appraised value.  With a land value equal to the purchase\\nprice of $680,000 this would mean a land loan of $476,000 with estimated\\nmonthly interest payments of $3,966, given a 10% annual interest rate, plus\\napproximately 1.25% of the loan amount for closing costs and loan fees.\\n\\nEQUITY AT IMPROVEMENT LOAN\\nOnce the site plan is approved by the City of Austin, the City will require\\nthe development entity to post funds for fiscal improvements, referred to as\\nthe \"fiscals\".  This cost represents a bond for the completion of\\nimprovements that COA considers vital and these funds are released once the\\nimprovements have been completed and accepted by COA.  This release will be\\nfor 90% of the cost with the remaining 10% released one year after\\ncompletion.  Releases can be granted once every 90 days and you should\\nexpect that the release would occur 6 months after the start of lot\\nimprovement construction.  These fiscals are usually posted in cash or an\\nirrevocable letter of credit.  As such, they have to be counted as a\\ndevelopment cost, even though they are not spent.  Because they are not\\nspent no interest is charged on these funds.\\n\\nThe lot improvement loan is typically 75% of the appraised value of a\\nfinished lot, which I suspect will be at least $20,000 and potentially as\\nhigh as $25,000.  This would produce a loan amount of  $15,000 on $20,000\\nper lot.  With estimated per lot improvement costs of $9,000, \\'fiscals\\' at\\n$2,000 and the land cost at $8,000 , total improved lot cost is $19,000\\nwhich means $0 to $4,000 per lot in total equity.  The investment prior to\\nobtaining the improvement loan would count towards any equity requirement\\nprovided it was for direct costs.  Thus, the additional equity for the\\nimprovement loan would be $0-$184,000.   Even if the maximum loan would\\ncover all costs, it is unlikely the bank would allow reimbursement of funds\\nspent. The higher estimates of equity investments are shown in the\\npreliminary proforma to be on the safe side.  The engineer is preparing a\\ntentative site layout with an initial evaluation of the phasing, which can\\nsignificantly reduce the cash equity requirement.\\n\\nPhasing works as follows.  If the first phase was say 40 units, the total\\nlot improvement cost might average $31,000 per lot.   Of this, probably\\n$13,000 would be for improvements and $19,000 for the land cost.  The\\nimprovements are higher to cover large one time up front costs for design\\ncosts, the entry road, water treatment costs, perimeter fencing and\\nlandscaping, and so on, as well as for 100% of the land.  The land loan for\\nundeveloped lots would be 70% of the appraised raw lot value, which I would\\nestimate as $10,000 per lot for a loan value of $7,000 per lot.  Then the\\nloan value for each improved lot would be $15,000 per lot.  This would give\\nyou a total loan of $992,000, total cost of $1,232,645 for equity required\\nof $241,000.  This was not presented in the initial analysis as the phasing\\nis depended on a more careful assessment by the Civil Engineer as the\\nseparate phases must each be able to stand on its own from a utility\\nstandpoint.\\n\\nCONSTRUCTION LOANS\\nThere are three types of  construction loans.  First, is a speculative\\n(spec) loan that is taken out prior to any pre-sales activity.  Second,  is\\na construction loan for a pre-sold unit, but the loan remains in the\\nbuilder/developers name.  Third, is a pre-sold unit with the construction\\nloan in the name of the buyer.  We expect to have up to 8 spec loans to\\nstart the project and expect all other loans to be pre-sold units with loans\\nin the name of the builder/developer.  We do not expect to have any\\nconstruction loans in the name of the buyers, as such loans are too\\ndifficult to manage and please new buyers unfamiliar with the process.\\n\\nSpec loans will be for 70% to 75% of value and construction loans for\\npre-sold units, if the construction loan is from the mortgage lender,  will\\nbe from 80% to 95% of value.\\n\\nDISBURSEMENTS\\nDisbursements will be handled by the General Partner to cover current and\\nnear term third party costs, then to necessary reserves, then to priority\\npayments and then to the partners per the agreement.  The General Partner\\nwill contract with Creekside Builders, LLC to construct the units and the\\nfee to CB will include a construction management and overhead fee equal to\\n15% of the direct hard cost excluding land, financing and sales costs.\\nThese fees are the only monies to Creekside, Larry Lewter or myself prior to\\ncalculation of profit, except for a) direct reimbursement for partnership\\nexpenses and b) direct payment to CB for any subcontractor costs that it has\\nto perform.  For example, if CB cannot find a good trim carpenter sub, or\\ncannot find enough trim carpenters, etc., and it decides to undertake this\\nfunction, it will charge the partnership the same fee it was able to obtain\\nfrom third parties and will disclose those cases to the partnership.\\nFinally, CB will receive a fee for the use of any of its equipment if it is\\nused in lieu of leasing equipment from others.  At present CB does not own\\nany significant equipment, but it is considering the purchase of a sky track\\nto facilitate and speed up framing, cornice, roofing and drywall spreading.\\n\\nREPORTING\\nWe are more than willing to provide reports to track expenses vs. plan.\\nWhat did you have in mind?  I would like to use some form of internet based\\nreporting.\\n\\nBOOKKEEPING\\nI am not sure what you are referring to by the question, \"Bookkeeping\\nprocedures to record actual expenses?\"  Please expand.\\n\\nINVESTOR INPUT\\nWe are glad to have the investor\\'s input on design and materials.  As always\\nthe question will be who has final say if there is disagreement, but in my\\nexperience I have always been able to reach consensus. As you, and I presume\\nKeith, want to be involved to learn as much as possible we would make every\\neffort to be accommodating.\\n\\nCREEKSIDE PROCEEDURES\\nCB procedures for dealing with subs, vendors and professionals is not as\\nformal as your question indicates.  In the EXTREMELY tight labor market\\nobtaining 3 bids for each labor trade is not feasible.  For the professional\\nsubs we use those with whom we have developed a previous rapport.  Finally,\\nfor vendors they are constantly shopped.\\n\\nPRE-SELECTED PROFESSIONALS, SUBS AND VENDORS\\nYes there are many different subs that have been identified and I can\\nprovide these if you are interested.\\n\\nI know I have not answered everything, but this is a starting point.  Call\\nwhen you have reviewed and we can discuss further.\\n\\nSincerely,\\n\\nGeorge Richards\\nPresident, Creekside Builders, LLC\\n\\n\\n\\n\\n - winmail.dat\\n']"
      ]
     },
     "execution_count": 5,
     "metadata": {},
     "output_type": "execute_result"
    }
   ],
   "source": [
    "body"
   ]
  },
  {
   "cell_type": "code",
   "execution_count": null,
   "metadata": {
    "collapsed": true
   },
   "outputs": [],
   "source": [
    "doc_a = \"Brocolli is good to eat. My brother likes to eat good brocolli, but not my mother.\"\n",
    "doc_b = \"My mother spends a lot of time driving my brother around to baseball practice.\"\n",
    "doc_c = \"Some health experts suggest that driving may cause increased tension and blood pressure.\"\n",
    "doc_d = \"I often feel pressure to perform well at school, but my mother never seems to drive my brother to do better.\"\n",
    "doc_e = \"Health professionals say that brocolli is good for your health.\"\n",
    "\n",
    "# compile sample documents into a list\n",
    "doc_set = [doc_a, doc_b, doc_c, doc_d, doc_e]"
   ]
  },
  {
   "cell_type": "code",
   "execution_count": 6,
   "metadata": {
    "collapsed": false
   },
   "outputs": [
    {
     "name": "stderr",
     "output_type": "stream",
     "text": [
      "C:\\Users\\chint\\Anaconda3\\lib\\site-packages\\gensim\\utils.py:855: UserWarning: detected Windows; aliasing chunkize to chunkize_serial\n",
      "  warnings.warn(\"detected Windows; aliasing chunkize to chunkize_serial\")\n"
     ]
    }
   ],
   "source": [
    "from nltk.tokenize import RegexpTokenizer\n",
    "from stop_words import get_stop_words\n",
    "from nltk.stem.porter import PorterStemmer\n",
    "from gensim import corpora, models\n",
    "from nltk.stem import WordNetLemmatizer\n",
    "import warnings\n",
    "import gensim\n",
    "import urllib.parse\n",
    "warnings.filterwarnings(action='ignore', category=UserWarning, module='gensim')\n",
    "from urllib.parse import urlparse"
   ]
  },
  {
   "cell_type": "code",
   "execution_count": 7,
   "metadata": {
    "collapsed": false
   },
   "outputs": [],
   "source": [
    "tokenizer = RegexpTokenizer(r'\\w+')\n",
    "# create English stop words list\n",
    "en_stop = get_stop_words('en')"
   ]
  },
  {
   "cell_type": "code",
   "execution_count": 8,
   "metadata": {
    "collapsed": false
   },
   "outputs": [],
   "source": [
    "# Create p_stemmer of class PorterStemmer\n",
    "#p_stemmer = PorterStemmer()\n",
    "wordnet_lemmatizer = WordNetLemmatizer()"
   ]
  },
  {
   "cell_type": "code",
   "execution_count": null,
   "metadata": {
    "collapsed": false
   },
   "outputs": [],
   "source": [
    "texts = []\n",
    "listOfWords = ['please', 'subject', 'mail', 'Original', 'Message', 'will', 'http', 'phillip', 'allen', 'george']\n",
    "for i in body:\n",
    "    raw = i.lower()\n",
    "    http = re.sub(r\"http\\S+\", \":\", raw)\n",
    "    forwardMessage = re.sub(r'(?m)^\\-.*\\n?', \"\", raw)\n",
    "    tokens = tokenizer.tokenize(forwardMessage)\n",
    "    \n",
    "    isalpha = [i for i in tokens if  i.isalpha()]\n",
    "    \n",
    "    shortwords = [word for word in isalpha if len(word)>3]\n",
    "    \n",
    "    removeWords = [i for i in shortwords if not i in listOfWords]\n",
    "    # remove stop words from tokens\n",
    "    stopped_tokens = [i for i in removeWords if not i in en_stop]\n",
    "    # stem tokens\n",
    "    lemma_tokens = [wordnet_lemmatizer.lemmatize(i) for i in stopped_tokens]\n",
    "    # add tokens to list\n",
    "    \n",
    "    texts.append(lemma_tokens)\n",
    "# turn our tokenized documents into a id <-> term dictionary\n",
    "dictionary = corpora.Dictionary(texts)\n",
    "#print(dictionary.token2id)\n",
    "# convert tokenized documents into a document-term matrix\n",
    "corpus = [dictionary.doc2bow(text) for text in texts]\n",
    "#print(corpus)\n",
    "#ldamodel = gensim.models.ldamodel.LdaModel(corpus, num_topics=4, id2word = dictionary)\n",
    "#print(ldamodel.print_topics(num_topics=5, num_words=10))"
   ]
  },
  {
   "cell_type": "code",
   "execution_count": null,
   "metadata": {
    "collapsed": false
   },
   "outputs": [],
   "source": [
    "listOf = \"03:53 pm ---------------------------\\\n",
    "lucy gonzalez <stagecoachmama@hotmail.com> \\\n",
    "on 09/06/2000 09:06:45 am \\\n",
    "to: pallen@enron.com cc:  \\\n",
    "subject: utilities roll \\\n",
    "x \"\n",
    "fromtag = re.sub(r'subject.*|to.*|cc.*', \"\", listOf)\n",
    "print(fromtag)"
   ]
  },
  {
   "cell_type": "code",
   "execution_count": 52,
   "metadata": {
    "collapsed": false,
    "scrolled": true
   },
   "outputs": [
    {
     "name": "stdout",
     "output_type": "stream",
     "text": [
      "[(0, '0.038*\"garage\" + 0.023*\"parking\" + 0.018*\"loan\" + 0.018*\"enron\" + 0.018*\"center\" + 0.014*\"transportation\" + 0.012*\"space\" + 0.011*\"cost\" + 0.011*\"improvement\" + 0.009*\"allen\"'), (1, '0.028*\"loan\" + 0.022*\"improvement\" + 0.015*\"name\" + 0.014*\"cost\" + 0.012*\"limited\" + 0.011*\"expect\" + 0.011*\"land\" + 0.011*\"construction\" + 0.011*\"value\" + 0.010*\"recourse\"'), (2, '0.034*\"loan\" + 0.021*\"improvement\" + 0.014*\"expect\" + 0.012*\"name\" + 0.011*\"construction\" + 0.010*\"cost\" + 0.010*\"cash\" + 0.009*\"inves\" + 0.009*\"recourse\" + 0.009*\"equity\"'), (3, '0.036*\"loan\" + 0.014*\"improvement\" + 0.013*\"construction\" + 0.010*\"cost\" + 0.010*\"expect\" + 0.010*\"partnership\" + 0.009*\"inves\" + 0.009*\"equity\" + 0.008*\"general\" + 0.008*\"name\"'), (4, '0.044*\"garage\" + 0.028*\"parking\" + 0.026*\"center\" + 0.026*\"enron\" + 0.021*\"transportation\" + 0.017*\"cost\" + 0.015*\"space\" + 0.013*\"soon\" + 0.013*\"initial\" + 0.012*\"first\"')]\n"
     ]
    }
   ],
   "source": [
    "texts = []\n",
    "listOfWords = ['forwarded', 'subject', 'mail', 'Original', 'Message', 'will']\n",
    "\n",
    "for i in body:\n",
    "    raw = i.lower()\n",
    "    http = re.sub(r\"http\\S+\", \":\", raw)\n",
    "    forwardMessage = re.sub(r'(?m)^\\-.*\\n?', \"\", raw)\n",
    "    tagRemoval = re.sub(r'subject.*|to.*|cc.*|from.*|sent by.*|.*@*,.+\\n', \"\", forwardMessage)\n",
    "    #totag = re.sub('^to:.*','', fromtag) \n",
    "    #subject = [line for line in forwardMessage if not \"subject\" in line]\n",
    "    #to = [line for line in forwardMessage.split('\\n' if not \"to\" in line]\n",
    "    #subject = match = re.sub(r'[\\w\\.-]+@[\\w\\.-]+',\"\", forwardMessage)\n",
    "    #print(tagRemoval)\n",
    "    \n",
    "    \n",
    "    \n",
    "    tokens = tokenizer.tokenize(tagRemoval)\n",
    "    #print(tokens)\n",
    "    isalpha = [i for i in tokens if  i.isalpha()]\n",
    "    #print(tokens)\n",
    "    shortwords = [word for word in isalpha if len(word)>3]\n",
    "    #print(shortwords)\n",
    "    removeWords = [i for i in shortwords if not i in listOfWords]\n",
    "    # remove stop words from tokens\n",
    "    stopped_tokens = [i for i in removeWords if not i in en_stop]\n",
    "    # stem tokens\n",
    "    stemmed_tokens = [wordnet_lemmatizer.lemmatize(i) for i in stopped_tokens]\n",
    "    # add tokens to list\n",
    "    #print(stemmed_tokens)\n",
    "    texts.append(stemmed_tokens)\n",
    "# turn our tokenized documents into a id <-> term dictionary\n",
    "dictionary = corpora.Dictionary(texts)\n",
    "#print(dictionary.token2id)\n",
    "# convert tokenized documents into a document-term matrix\n",
    "corpus = [dictionary.doc2bow(text) for text in texts]\n",
    "#print(corpus)\n",
    "ldamodel = gensim.models.ldamodel.LdaModel(corpus, num_topics=5, id2word = dictionary)\n",
    "print(ldamodel.print_topics(num_topics=5, num_words=10))\n",
    "\n"
   ]
  },
  {
   "cell_type": "code",
   "execution_count": null,
   "metadata": {
    "collapsed": true
   },
   "outputs": [],
   "source": []
  }
 ],
 "metadata": {
  "anaconda-cloud": {},
  "kernelspec": {
   "display_name": "Python [conda root]",
   "language": "python",
   "name": "conda-root-py"
  },
  "language_info": {
   "codemirror_mode": {
    "name": "ipython",
    "version": 3
   },
   "file_extension": ".py",
   "mimetype": "text/x-python",
   "name": "python",
   "nbconvert_exporter": "python",
   "pygments_lexer": "ipython3",
   "version": "3.5.2"
  }
 },
 "nbformat": 4,
 "nbformat_minor": 1
}
