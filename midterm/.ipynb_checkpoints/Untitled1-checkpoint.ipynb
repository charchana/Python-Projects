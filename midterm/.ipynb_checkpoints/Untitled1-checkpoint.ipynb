{
 "cells": [
  {
   "cell_type": "markdown",
   "metadata": {},
   "source": [
    "# Question 2 Analysis 2\n",
    "- Analysising how many people viewed and shared the news per day of last month"
   ]
  },
  {
   "cell_type": "code",
   "execution_count": 1,
   "metadata": {
    "collapsed": true
   },
   "outputs": [],
   "source": [
    "import glob\n",
    "import os\n",
    "import stop_words\n",
    "import re\n",
    "import json\n",
    "import operator\n",
    "from os.path import isfile,isdir\n",
    "from email.parser import Parser\n",
    "import matplotlib.pyplot as plt\n",
    "import pylab\n",
    "import datetime"
   ]
  },
  {
   "cell_type": "code",
   "execution_count": 2,
   "metadata": {
    "collapsed": true
   },
   "outputs": [],
   "source": [
    "path = os.getcwd()"
   ]
  },
  {
   "cell_type": "code",
   "execution_count": 3,
   "metadata": {
    "collapsed": true
   },
   "outputs": [],
   "source": [
    "emailFolder = os.path.join(path + '\\\\' + 'Question 2_Data\\\\Most Popular\\\\Most email') # the main folder path is created where the structure to be formed\n",
    "sharedFolder = os.path.join(path + '\\\\' + 'Question 2_Data\\\\Most Popular\\\\Most shared') # the main folder path is created where the structure to be formed\n",
    "viewsFolder = os.path.join(path + '\\\\' + 'Question 2_Data\\\\Most Popular\\\\Most viewed')"
   ]
  },
  {
   "cell_type": "code",
   "execution_count": 4,
   "metadata": {
    "collapsed": true
   },
   "outputs": [],
   "source": [
    "emailFiles = glob.glob(emailFolder + '\\\\' + '*.json')\n",
    "sharedFiles = glob.glob(sharedFolder + '\\\\' + '*.json')\n",
    "viewsFiles = glob.glob(viewsFolder + '\\\\' + '*.json')"
   ]
  },
  {
   "cell_type": "code",
   "execution_count": 5,
   "metadata": {
    "collapsed": true
   },
   "outputs": [],
   "source": [
    "dates = list(range(1,31))"
   ]
  },
  {
   "cell_type": "code",
   "execution_count": 6,
   "metadata": {
    "collapsed": true
   },
   "outputs": [],
   "source": [
    "shared = {}\n",
    "for file in sharedFiles:\n",
    "    with open(file, 'r') as json_file:\n",
    "        json_data = json.load(json_file)\n",
    "        results = json_data['results'] \n",
    "        for shares in results:\n",
    "            pubDate = shares['published_date']\n",
    "            total_shared = shares['total_shares']\n",
    "            pubDay = datetime.datetime.strptime(pubDate, '%Y-%m-%d')\n",
    "            month  = pubDay.month\n",
    "            days = pubDay.day\n",
    "            if month==2:\n",
    "                if days not in shared:\n",
    "                    shared[days] = total_shared\n",
    "                else:\n",
    "                    shared[days] += total_shared \n",
    "            for each in dates:\n",
    "                if each != days:\n",
    "                    if each not in shared:\n",
    "                        shared[each] = 0"
   ]
  },
  {
   "cell_type": "code",
   "execution_count": 7,
   "metadata": {
    "collapsed": true
   },
   "outputs": [],
   "source": [
    "viewsdict = {}\n",
    "for file in viewsFiles:\n",
    "    with open(file, 'r') as json_file:\n",
    "        json_data = json.load(json_file)\n",
    "        results = json_data['results']\n",
    "        for views in results:\n",
    "            pubDate = views['published_date']\n",
    "            total_views = views[\"views\"]\n",
    "            pubDay = datetime.datetime.strptime(pubDate, '%Y-%m-%d')\n",
    "            month = pubDay.month\n",
    "            days = pubDay.day\n",
    "            if month==2:\n",
    "                if days not in views:\n",
    "                    viewsdict[days] = total_views\n",
    "                else:\n",
    "                    viewsdict[days] += total_views\n",
    "                for each in dates:\n",
    "                    if each != days:\n",
    "                        if each not in viewsdict:\n",
    "                            viewsdict[each] = 0"
   ]
  },
  {
   "cell_type": "code",
   "execution_count": 8,
   "metadata": {
    "collapsed": false
   },
   "outputs": [
    {
     "name": "stdout",
     "output_type": "stream",
     "text": [
      "{1: 0, 2: 15, 3: 0, 4: 14, 5: 1, 6: 0, 7: 20, 8: 2, 9: 0, 10: 9, 11: 0, 12: 0, 13: 19, 14: 32, 15: 0, 16: 0, 17: 37, 18: 0, 19: 18, 20: 0, 21: 0, 22: 20, 23: 0, 24: 4, 25: 0, 26: 0, 27: 0, 28: 0, 29: 0, 30: 0}\n",
      "{1: 5, 2: 0, 3: 0, 4: 20, 5: 1, 6: 0, 7: 15, 8: 17, 9: 0, 10: 0, 11: 0, 12: 0, 13: 13, 14: 19, 15: 0, 16: 0, 17: 9, 18: 0, 19: 11, 20: 0, 21: 16, 22: 12, 23: 0, 24: 6, 25: 0, 26: 0, 27: 0, 28: 0, 29: 0, 30: 0}\n"
     ]
    }
   ],
   "source": [
    "print(shared)\n",
    "print(viewsdict)"
   ]
  },
  {
   "cell_type": "code",
   "execution_count": 9,
   "metadata": {
    "collapsed": true
   },
   "outputs": [],
   "source": [
    "def graphWithMatplotlibForViewsShares(shared,viewsdict):\n",
    "    x = [] # x axis for first graph\n",
    "    y = [] # y axis for first graph\n",
    "    b = []\n",
    "    width = 0.25\n",
    "    for tup in shared.items():\n",
    "        x.append(tup[0])\n",
    "        y.append(tup[1]) \n",
    "    for tup in viewsdict.items():\n",
    "        b.append(tup[1])\n",
    "    \n",
    "    # Plotting the bars\n",
    "    fig, ax = plt.subplots(figsize=(10,5))\n",
    "    plt.bar(x,\n",
    "        #using df['mid_score'] data,\n",
    "        y,\n",
    "        # of width\n",
    "        width,\n",
    "        # with alpha 0.5\n",
    "        alpha=0.5,\n",
    "        # with color\n",
    "        color='#1EF75F',\n",
    "        # with label the second value in first_name\n",
    "        label='shared')\n",
    "    plt.bar([i + width for i in x],\n",
    "        #using df['mid_score'] data,\n",
    "        b,\n",
    "        # of width\n",
    "        width,\n",
    "        # with alpha 0.5\n",
    "        alpha=0.5,\n",
    "        # with color\n",
    "        color='#F71ED2',\n",
    "        # with label the second value in first_name\n",
    "        label='views')\n",
    "    # Set the y axis label\n",
    "    ax.set_ylabel('Rates')\n",
    "    \n",
    "    # Set the y axis label\n",
    "    ax.set_xlabel('Days of Feb 2017')\n",
    "    \n",
    "    # Set the chart's title\n",
    "    ax.set_title('Shares and Views now a days')\n",
    "    # Setting the x-axis and y-axis limits\n",
    "    plt.xlim(0,25)\n",
    "    plt.ylim(0,40)\n",
    "    \n",
    "\n",
    "    # Adding the legend and showing the plot\n",
    "    plt.legend(['Shares', 'Views'], loc='upper right')\n",
    "    plt.grid()\n",
    "    plt.show()"
   ]
  },
  {
   "cell_type": "code",
   "execution_count": 10,
   "metadata": {
    "collapsed": false
   },
   "outputs": [
    {
     "data": {
      "image/png": "[encoded data removed]",
      "text/plain": [
       "<matplotlib.figure.Figure at 0x14de31fbd30>"
      ]
     },
     "metadata": {},
     "output_type": "display_data"
    }
   ],
   "source": [
    "graphWithMatplotlibForViewsShares(shared,viewsdict)"
   ]
  }
 ],
 "metadata": {
  "anaconda-cloud": {},
  "kernelspec": {
   "display_name": "Python [conda root]",
   "language": "python",
   "name": "conda-root-py"
  },
  "language_info": {
   "codemirror_mode": {
    "name": "ipython",
    "version": 3
   },
   "file_extension": ".py",
   "mimetype": "text/x-python",
   "name": "python",
   "nbconvert_exporter": "python",
   "pygments_lexer": "ipython3",
   "version": "3.5.2"
  }
 },
 "nbformat": 4,
 "nbformat_minor": 1
}
