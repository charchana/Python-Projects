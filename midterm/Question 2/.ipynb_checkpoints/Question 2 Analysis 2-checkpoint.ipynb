{
 "cells": [
  {
   "cell_type": "markdown",
   "metadata": {},
   "source": [
    "# Question 2 Analysis 2\n",
    "\n",
    "## Analysing how the trend of sharing information has improved, using Most popular API"
   ]
  },
  {
   "cell_type": "code",
   "execution_count": 2,
   "metadata": {
    "collapsed": true
   },
   "outputs": [],
   "source": [
    "import glob\n",
    "import os\n",
    "import json\n",
    "from operator import itemgetter\n",
    "from os.path import isfile,isdir\n",
    "import datetime\n",
    "import matplotlib.pyplot as plt\n",
    "import csv"
   ]
  },
  {
   "cell_type": "code",
   "execution_count": 3,
   "metadata": {
    "collapsed": true
   },
   "outputs": [],
   "source": [
    "path = os.getcwd()\n",
    "dataFolder = os.path.join(path,'Question 2_Data\\Most Popular')\n"
   ]
  },
  {
   "cell_type": "code",
   "execution_count": 4,
   "metadata": {
    "collapsed": false
   },
   "outputs": [],
   "source": [
    "sharedFolder = os.path.join(dataFolder, 'Most shared')\n",
    "viewsFolder = os.path.join(dataFolder, 'Most viewed')"
   ]
  },
  {
   "cell_type": "code",
   "execution_count": 6,
   "metadata": {
    "collapsed": false
   },
   "outputs": [],
   "source": [
    "sharedFiles = glob.glob(os.path.join(sharedFolder, '*.json'))\n",
    "viewFiles = glob.glob(os.path.join(viewsFolder, '*.json'))"
   ]
  },
  {
   "cell_type": "code",
   "execution_count": 5,
   "metadata": {
    "collapsed": false
   },
   "outputs": [],
   "source": [
    "monthDays = list(range(1,31))"
   ]
  },
  {
   "cell_type": "code",
   "execution_count": 6,
   "metadata": {
    "collapsed": false
   },
   "outputs": [],
   "source": [
    "def sharedDataCreation(sharedFiles):\n",
    "    shared = {}\n",
    "    for file in sharedFiles:\n",
    "        with open(file,'r') as json_file:\n",
    "            json_file = json.load(json_file)\n",
    "            results = json_file['results']\n",
    "            for shares in results:\n",
    "                pubDate = shares['published_date']\n",
    "                total_shares = shares['total_shares']\n",
    "                pubDay = datetime.datetime.strptime(pubDate,'%Y-%m-%d')\n",
    "                day = pubDay.day\n",
    "                month = pubDay.month\n",
    "                if month == 2:\n",
    "                    if day not in shared:\n",
    "                        shared[day] = total_shares\n",
    "                    else:\n",
    "                        shared[day] += total_shares\n",
    "                    for each in monthDays:\n",
    "                        if each != day:\n",
    "                            if each not in shared: \n",
    "                                shared[each] = 0\n",
    "\n",
    "    return shared"
   ]
  },
  {
   "cell_type": "code",
   "execution_count": 7,
   "metadata": {
    "collapsed": false
   },
   "outputs": [],
   "source": [
    "def viewedDataCreation(viewFiles):\n",
    "    viewsDict = {}\n",
    "    for file in viewFiles:\n",
    "        with open(file,'r') as json_file:\n",
    "            json_file = json.load(json_file)\n",
    "            results = json_file['results']\n",
    "            for views in results:\n",
    "                pubDate = views['published_date']\n",
    "                total_views = views['views']\n",
    "                pubDay = datetime.datetime.strptime(pubDate,'%Y-%m-%d')\n",
    "                day = pubDay.day\n",
    "                month = pubDay.month\n",
    "                if month == 2:\n",
    "                    if day not in viewsDict:\n",
    "                        viewsDict[day] = total_views\n",
    "                    else:\n",
    "                        viewsDict[day] += total_views\n",
    "                    for each in monthDays:\n",
    "                        if each != day:\n",
    "                            if each not in viewsDict: \n",
    "                                viewsDict[each] = 0\n",
    "\n",
    "    return viewsDict"
   ]
  },
  {
   "cell_type": "code",
   "execution_count": 8,
   "metadata": {
    "collapsed": true
   },
   "outputs": [],
   "source": [
    "# for plotting graph and writing conclusion\n",
    "def graphWithMatplotlib(viewsDict, shared):\n",
    "    x = [] # x axis for first graph\n",
    "    y = [] # y axis for first graph\n",
    "    a = [] # x axis for second graph\n",
    "\n",
    "    for each in shared.items(): # if yes iterating through the list of values of file\n",
    "        x.append(each[0]) # appeding the rank to the x-axis\n",
    "        y.append(each[1]) # appending freq to y-axis\n",
    "    for each in viewsDict.items(): # if yes iterating through the list of values of file\n",
    "        a.append(each[1]) # appeding the rank to the x-axis\n",
    "        \n",
    "    width = 0.25\n",
    "\n",
    "    # Plotting the bars\n",
    "    fig, ax = plt.subplots(figsize=(10,5))\n",
    "\n",
    "    # Create a bar with pre_score data,\n",
    "    # in position pos,\n",
    "    plt.bar(x,\n",
    "            #using df['pre_score'] data,\n",
    "            y,\n",
    "            # of width\n",
    "            width,\n",
    "            # with alpha 0.5\n",
    "            alpha=0.5,\n",
    "            # with color\n",
    "            color='#1ef750',\n",
    "            # with label the first value in first_name\n",
    "            label='shares')\n",
    "\n",
    "    # Create a bar with mid_score data,\n",
    "    # in position pos + some width buffer,\n",
    "    plt.bar([p + width for p in x],\n",
    "            #using df['mid_score'] data,\n",
    "            a,\n",
    "            # of width\n",
    "            width,\n",
    "            # with alpha 0.5\n",
    "            alpha=0.5,\n",
    "            # with color\n",
    "            color='#f71ec4',\n",
    "            # with label the second value in first_name\n",
    "            label='views')\n",
    "    # Set the y axis label\n",
    "    ax.set_ylabel('Number Share and View hits')\n",
    "    # Set the x axis label\n",
    "    ax.set_xlabel('Days of Feb 2017')\n",
    "    \n",
    "    #Setting the x-axis and y-axis limits\n",
    "    plt.xlim(0,25)\n",
    "    plt.ylim(0,40)\n",
    "\n",
    "    # Set the chart's title\n",
    "    ax.set_title('Trend of Sharing the information')\n",
    "    \n",
    "    # Adding the legend and showing the plot\n",
    "    plt.legend(['Shares', 'Views'], loc='upper right')\n",
    "    plt.grid()\n",
    "    plt.show()"
   ]
  },
  {
   "cell_type": "code",
   "execution_count": 9,
   "metadata": {
    "collapsed": false
   },
   "outputs": [
    {
     "data": {
      "image/png": "[encoded data removed]",
      "text/plain": [
       "<matplotlib.figure.Figure at 0x1dd8a2b9be0>"
      ]
     },
     "metadata": {},
     "output_type": "display_data"
    }
   ],
   "source": [
    "viewsDict = viewedDataCreation(viewFiles)\n",
    "shared = sharedDataCreation(sharedFiles)\n",
    "graphWithMatplotlib(viewsDict, shared)"
   ]
  },
  {
   "cell_type": "code",
   "execution_count": null,
   "metadata": {
    "collapsed": true
   },
   "outputs": [],
   "source": []
  }
 ],
 "metadata": {
  "anaconda-cloud": {},
  "kernelspec": {
   "display_name": "Python [conda root]",
   "language": "python",
   "name": "conda-root-py"
  },
  "language_info": {
   "codemirror_mode": {
    "name": "ipython",
    "version": 3
   },
   "file_extension": ".py",
   "mimetype": "text/x-python",
   "name": "python",
   "nbconvert_exporter": "python",
   "pygments_lexer": "ipython3",
   "version": "3.5.2"
  }
 },
 "nbformat": 4,
 "nbformat_minor": 1
}
