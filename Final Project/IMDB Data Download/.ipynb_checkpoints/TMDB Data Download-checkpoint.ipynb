{
 "cells": [
  {
   "cell_type": "code",
   "execution_count": null,
   "metadata": {
    "collapsed": false,
    "scrolled": true
   },
   "outputs": [],
   "source": [
    "# import all the packages needed\n",
    "import urllib.request\n",
    "import urllib.error\n",
    "import json\n",
    "import datetime\n",
    "import time\n",
    "import sys, os\n",
    "import logging\n",
    "import glob\n",
    "from urllib.error import HTTPError\n",
    "import configparser\n",
    "from configparser import SafeConfigParser"
   ]
  },
  {
   "cell_type": "code",
   "execution_count": null,
   "metadata": {
    "collapsed": true
   },
   "outputs": [],
   "source": [
    "# generating the date range\n",
    "def daterange( start_date, end_date ):\n",
    "    if start_date <= end_date:\n",
    "        for n in range( ( end_date - start_date ).days + 1 ):\n",
    "            yield start_date + datetime.timedelta( n )\n",
    "            \n",
    "    else:\n",
    "        for n in range( ( start_date - end_date ).days + 1 ):\n",
    "            yield start_date - datetime.timedelta( n )\n",
    "            "
   ]
  },
  {
   "cell_type": "code",
   "execution_count": null,
   "metadata": {
    "collapsed": true
   },
   "outputs": [],
   "source": [
    "# converting to a json format data\n",
    "def convert(input):\n",
    "    if isinstance(input, dict):\n",
    "        return {convert(key): convert(value) for key, value in input.items()}\n",
    "    elif isinstance(input, list):\n",
    "        return [convert(element) for element in input]\n",
    "    else:\n",
    "        return input"
   ]
  },
  {
   "cell_type": "code",
   "execution_count": null,
   "metadata": {
    "collapsed": true
   },
   "outputs": [],
   "source": [
    "# getting the json file name\n",
    "def getJsonFileName(date, now, page, json_file_path):\n",
    "    json_file_name = (str(date)+'_' + str(now) + '_' + str(page) + '.json')\n",
    "    json_file_name = \"\".join([json_file_path,'\\\\', json_file_name])\n",
    "    return json_file_name"
   ]
  },
  {
   "cell_type": "code",
   "execution_count": null,
   "metadata": {
    "collapsed": false
   },
   "outputs": [],
   "source": [
    "# get the movide id from the tmdb API    \n",
    "def getMovieID(start,end, api_key, json_file_path):\n",
    "    # LOOP THROUGH THE 150 PAGES FOR THAT DATE\n",
    "    for page in range(150): # 5 tries\n",
    "        try:\n",
    "            page = page+1\n",
    "            request_string = \"https://api.themoviedb.org/3/movie/changes?start_date=\"+ str(start) +\"&end_date=\" + str(end) + \"&page=\"+ str(page) +\"&api_key=\" + str(api_key) +\"\"\n",
    "            response = urllib.request.urlopen(request_string)\n",
    "            content = response.read().decode('utf-8')\n",
    "            if content:\n",
    "                movies = convert(json.loads(content))\n",
    "                # if there are movies here\n",
    "                if len(movies[\"results\"]) >= 1:\n",
    "                    now = datetime.datetime.now().strftime(\"%Y-%m-%d-%H-%M-%S\")\n",
    "                    json_file_name = getJsonFileName(end, now, page, json_file_path)\n",
    "                    json_file = open(json_file_name, 'w')\n",
    "                    json_file.write(content)\n",
    "                    json_file.close()\n",
    "                # if no more movies, go to next date\n",
    "                else:\n",
    "                    return\n",
    "            time.sleep(3)\n",
    "        except HTTPError as e:\n",
    "                logging.error(\"HTTPError on page %s on %s (err no. %s: %s) Here's the URL of the call: %s\", page,  e.code, e.reason, request_string)\n",
    "                if e.code == 403:\n",
    "                    print(\"Script hit a snag and got an HTTPError 403. Check your log file for more info.\")\n",
    "                    return\n",
    "                if e.code == 429:\n",
    "                    print (\"Waiting. You've probably reached an API limit.\")\n",
    "                    time.sleep(30) # wait 30 seconds and try again\n",
    "        except: \n",
    "                logging.error(\"Error on %s page %s: %s\",  sys.exc_info()[0])\n",
    "                continue\n"
   ]
  },
  {
   "cell_type": "code",
   "execution_count": null,
   "metadata": {
    "collapsed": false
   },
   "outputs": [],
   "source": [
    "# main() which genearates the tmdb movie ID's\n",
    "def main():\n",
    "    config = SafeConfigParser() # reading the config file\n",
    "    script_dir = os.getcwd() \n",
    "    config_file = os.path.join(script_dir, 'config\\config.cfg')\n",
    "    config.read(config_file)\n",
    "    json_file_path = config.get('files','json_folder') # getting the values\n",
    "    log_file = config.get('files','logfile')\n",
    "    api_key = config.get('tmdb','api_key')    \n",
    "    start = datetime.date( year = int(config.get('tmdb','start_year')), month = int(config.get('tmdb','start_month')), day = int(config.get('tmdb','start_day')) )\n",
    "    end = datetime.date( year = int(config.get('tmdb','end_year')), month = int(config.get('tmdb','end_month')), day = int(config.get('tmdb','end_day')) )\n",
    "    logging.basicConfig(filename=log_file, level=logging.INFO)\n",
    "    logging.info(\"Getting started.\") \n",
    "    # calling the function\n",
    "    getMovieID(start,end, api_key, json_file_path)\n",
    "       \n",
    "if __name__ == '__main__' :\n",
    "    main()"
   ]
  },
  {
   "cell_type": "code",
   "execution_count": null,
   "metadata": {
    "collapsed": false
   },
   "outputs": [],
   "source": [
    "# calling the movie ID's function get a list of ID's\n",
    "def getMovieIDs(script_dir):\n",
    "    configFiles = glob.glob(script_dir + '\\Data\\Movie ID\\*.json')\n",
    "    ids =[]\n",
    "    for file in configFiles:\n",
    "        with open (file) as json_file:\n",
    "            json_data = json.load(json_file)\n",
    "            results = json_data['results']\n",
    "            [ids.append(i['id']) for i in results]\n",
    "    return ids"
   ]
  },
  {
   "cell_type": "code",
   "execution_count": null,
   "metadata": {
    "collapsed": false
   },
   "outputs": [],
   "source": [
    "# generated to get a the details for each TMDB movie ID\n",
    "def getMovieDetails():\n",
    "    config = SafeConfigParser()\n",
    "    script_dir = os.getcwd() \n",
    "    config_file = os.path.join(script_dir, 'config\\config.cfg')\n",
    "    config.read(config_file)\n",
    "    json_file_path = config.get('files','json_folder_details')\n",
    "    api_key = config.get('tmdb','api_key') \n",
    "    ids = getMovieIDs(script_dir)\n",
    "    # Loop through the list of movie id's\n",
    "    for ID in ids:\n",
    "        try:\n",
    "            request_string = \"https://api.themoviedb.org/3/movie/\"+str(ID)+\"?api_key=\"+api_key+\"&language=en-US&append_to_response=credits,release_dates,alternative_titles,translations,keywords\"\n",
    "            response = urllib.request.urlopen(request_string)\n",
    "            content = response.read().decode('utf-8')\n",
    "            if content:\n",
    "                # checking whether content is present after hitting url\n",
    "                movies = convert(json.loads(content))\n",
    "                if len(movies) >= 1:\n",
    "                    json_file_name = (str(ID)+'.json')\n",
    "                    json_file_name = \"\".join([json_file_path,'\\\\', json_file_name])\n",
    "                    json_file = open(json_file_name, 'w', encoding='utf-8')\n",
    "                    json_file.write(content)\n",
    "                    json_file.close()\n",
    "            else:\n",
    "                return\n",
    "            time.sleep(3)\n",
    "        except HTTPError as e:\n",
    "            if e.code == 404:\n",
    "                print(\"Page is not found\")\n",
    "                continue"
   ]
  },
  {
   "cell_type": "code",
   "execution_count": null,
   "metadata": {
    "collapsed": false
   },
   "outputs": [],
   "source": [
    "# calling the function to download data\n",
    "getMovieDetails()"
   ]
  },
  {
   "cell_type": "code",
   "execution_count": null,
   "metadata": {
    "collapsed": true
   },
   "outputs": [],
   "source": [
    "# finding the imdb movie ID's\n",
    "def getMovieIDs(script_dir):\n",
    "    configFiles = glob.glob(script_dir + '\\Final Project Data\\Movie Details\\*.json')\n",
    "    ids =[]\n",
    "    for file in configFiles:\n",
    "        with open (file) as json_file:\n",
    "            json_data = json.load(json_file)\n",
    "            results = json_data['results']\n",
    "            [ids.append(i['id']) for i in results]\n",
    "    return ids"
   ]
  },
  {
   "cell_type": "code",
   "execution_count": null,
   "metadata": {
    "collapsed": true
   },
   "outputs": [],
   "source": []
  }
 ],
 "metadata": {
  "anaconda-cloud": {},
  "kernelspec": {
   "display_name": "Python [conda root]",
   "language": "python",
   "name": "conda-root-py"
  },
  "language_info": {
   "codemirror_mode": {
    "name": "ipython",
    "version": 3
   },
   "file_extension": ".py",
   "mimetype": "text/x-python",
   "name": "python",
   "nbconvert_exporter": "python",
   "pygments_lexer": "ipython3",
   "version": "3.5.2"
  }
 },
 "nbformat": 4,
 "nbformat_minor": 1
}
