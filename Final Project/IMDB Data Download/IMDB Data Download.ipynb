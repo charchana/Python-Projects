{
 "cells": [
  {
   "cell_type": "code",
   "execution_count": null,
   "metadata": {
    "collapsed": true
   },
   "outputs": [],
   "source": [
    "# import all the packages needed\n",
    "import urllib.request\n",
    "import urllib.error\n",
    "import json\n",
    "import datetime\n",
    "import time\n",
    "import sys, os\n",
    "import logging\n",
    "import glob\n",
    "from urllib.error import HTTPError\n",
    "import configparser\n",
    "from configparser import SafeConfigParser"
   ]
  },
  {
   "cell_type": "code",
   "execution_count": null,
   "metadata": {
    "collapsed": true
   },
   "outputs": [],
   "source": [
    "# function to convert data to json format \n",
    "def convert(input):\n",
    "    if isinstance(input, dict):\n",
    "        return {convert(key): convert(value) for key, value in input.items()}\n",
    "    elif isinstance(input, list):\n",
    "        return [convert(element) for element in input]\n",
    "    else:\n",
    "        return input"
   ]
  },
  {
   "cell_type": "code",
   "execution_count": null,
   "metadata": {
    "collapsed": true
   },
   "outputs": [],
   "source": [
    "# function to get all the imdb movie ID's\n",
    "def getIMDBIDs(script_dir):\n",
    "    configFiles = glob.glob(script_dir + '\\Data\\Movie Details\\*.json')\n",
    "    imdb_ids =[]\n",
    "    for file in configFiles:\n",
    "        with open (file, encoding='utf-8') as json_file:\n",
    "            json_data = json.load(json_file)\n",
    "            imdbid = json_data['imdb_id']\n",
    "            imdb_ids.append(imdbid)\n",
    "    return imdb_ids"
   ]
  },
  {
   "cell_type": "code",
   "execution_count": null,
   "metadata": {
    "collapsed": false
   },
   "outputs": [],
   "source": [
    "# reading all the imdb movies to get a list of ID's\n",
    "configFiles = glob.glob(os.getcwd() + '\\Data\\IMDB Movies\\*.json')\n",
    "a = []\n",
    "for file in configFiles:\n",
    "    b = os.path.basename(file)\n",
    "    c = os.path.splitext(b)[0]\n",
    "    a.append(c)"
   ]
  },
  {
   "cell_type": "code",
   "execution_count": null,
   "metadata": {
    "collapsed": false
   },
   "outputs": [],
   "source": [
    "# getting all the movie details in the required format as belowby passing imdb id to the api link\n",
    "def getIMDBMovieDetails():\n",
    "    config = SafeConfigParser()\n",
    "    script_dir = os.getcwd() \n",
    "    config_file = os.path.join(script_dir, 'config\\config.cfg')\n",
    "    config.read(config_file)\n",
    "    imdb_json_file_path = config.get('files','imdb_json_file_path')\n",
    "    api_key = config.get('imdb','api_key') \n",
    "    ids = getIMDBIDs(script_dir)\n",
    "    # iterating through the IMDB movie ID's\n",
    "    for ID in ids:\n",
    "        # checking whether ie ID is empty or not\n",
    "        if ID not in a and (ID != \"\") and (ID != None):\n",
    "            try:\n",
    "                request_string = \"http://www.myapifilms.com/imdb/idIMDB?idIMDB=\"+str(ID)+\"&token=\"+str(api_key)+\"&format=json&language=en-us&aka=0&business=1&seasons=1&seasonYear=1&technical=1&trailers=0&movieTrivia=0&awards=1&moviePhotos=0&movieVideos=0&actors=1&biography=1&uniqueName=0&filmography=0&bornAndDead=0&starSign=0&actorActress=0&actorTrivia=0&similarMovies=0&goofs=0&keyword=1&quotes=0&fullSize=1&companyCredits=1&filmingLocations=1\"\n",
    "                print(request_string)\n",
    "                response = urllib.request.urlopen(request_string)\n",
    "                content = response.read().decode('utf-8')\n",
    "                if content:\n",
    "                    movies = convert(json.loads(content))\n",
    "                    if(\"data\" in movies):\n",
    "                        if len(movies['data']['movies']) >= 1:\n",
    "                            json_file_name = (str(ID)+'.json')\n",
    "                            json_file_name = \"\".join([imdb_json_file_path,'\\\\', json_file_name])\n",
    "                            json_file = open(json_file_name, 'w', encoding='utf-8')\n",
    "                            json_file.write(content)\n",
    "                            json_file.close() \n",
    "                else:\n",
    "                    return\n",
    "                time.sleep(3)\n",
    "            except HTTPError as e:\n",
    "                if e.code == 404:\n",
    "                    print(\"Page is not found\")\n",
    "                    continue\n",
    "                if e.code == 429:\n",
    "                    print (\"Waiting. You've reached an API limit for the day.\")\n",
    "                    time.sleep(30) # wait 30 seconds and try again\n",
    "                    break"
   ]
  },
  {
   "cell_type": "code",
   "execution_count": null,
   "metadata": {
    "collapsed": false,
    "scrolled": true
   },
   "outputs": [],
   "source": [
    "getIMDBMovieDetails()"
   ]
  },
  {
   "cell_type": "code",
   "execution_count": null,
   "metadata": {
    "collapsed": true
   },
   "outputs": [],
   "source": []
  }
 ],
 "metadata": {
  "anaconda-cloud": {},
  "kernelspec": {
   "display_name": "Python [conda root]",
   "language": "python",
   "name": "conda-root-py"
  },
  "language_info": {
   "codemirror_mode": {
    "name": "ipython",
    "version": 3
   },
   "file_extension": ".py",
   "mimetype": "text/x-python",
   "name": "python",
   "nbconvert_exporter": "python",
   "pygments_lexer": "ipython3",
   "version": "3.5.2"
  }
 },
 "nbformat": 4,
 "nbformat_minor": 1
}
