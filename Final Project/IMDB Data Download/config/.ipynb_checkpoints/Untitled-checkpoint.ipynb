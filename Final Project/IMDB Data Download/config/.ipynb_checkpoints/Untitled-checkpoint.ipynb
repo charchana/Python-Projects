{
 "cells": [
  {
   "cell_type": "code",
   "execution_count": 146,
   "metadata": {
    "collapsed": false
   },
   "outputs": [
    {
     "name": "stdout",
     "output_type": "stream",
     "text": [
      "{'gross': ['\\n    ', '        $31,573,450        \\n\\n      ', '\\n      ', '\\n    ']}\n"
     ]
    }
   ],
   "source": [
    "import sys\n",
    "import requests\n",
    "import lxml.html\n",
    "#//*[@id=\"titleDetails\"]/div[3]\n",
    "def main(ids):\n",
    "    hxs = lxml.html.document_fromstring(requests.get(\"http://www.imdb.com/title/\" + ids).content)\n",
    "    movie = {}\n",
    "    try:\n",
    "        #translate(normalize-space(/tr/td/a), ' ', '')\n",
    "        movie['gross'] = hxs.xpath('//*[@id=\"titleDetails\"]/div[9]/text()')\n",
    "    except IndexError:\n",
    "        movie['gross'] = \"\"   \n",
    "        \n",
    "#     try:\n",
    "#         movie['title'] = hxs.xpath('//*[@id=\"overview-top\"]/h1/span[1]/text()')[0].strip()\n",
    "#     except IndexError:\n",
    "#         movie['title']\n",
    "#     try:\n",
    "#         movie['year'] = hxs.xpath('//*[@id=\"overview-top\"]/h1/span[2]/a/text()')[0].strip()\n",
    "#     except IndexError:\n",
    "#         try:\n",
    "#             movie['year'] = hxs.xpath('//*[@id=\"overview-top\"]/h1/span[3]/a/text()')[0].strip()\n",
    "#         except IndexError:\n",
    "#             movie['year'] = \"\"\n",
    "#     try:\n",
    "#         movie['certification'] = hxs.xpath('//*[@id=\"overview-top\"]/div[2]/span[1]/@title')[0].strip()\n",
    "#     except IndexError:\n",
    "#         movie['certification'] = \"\"\n",
    "#     try:\n",
    "#         movie['running_time'] = hxs.xpath('//*[@id=\"overview-top\"]/div[2]/time/text()')[0].strip()\n",
    "#     except IndexError:\n",
    "#         movie['running_time'] = \"\"\n",
    "#     try:\n",
    "#         movie['genre'] = hxs.xpath('//*[@id=\"overview-top\"]/div[2]/a/span/text()')\n",
    "#     except IndexError:\n",
    "#         movie['genre'] = []\n",
    "#     try:\n",
    "#         movie['release_date'] = hxs.xpath('//*[@id=\"overview-top\"]/div[2]/span[3]/a/text()')[0].strip()\n",
    "#     except IndexError:\n",
    "#         try:\n",
    "#             movie['release_date'] = hxs.xpath('//*[@id=\"overview-top\"]/div[2]/span[4]/a/text()')[0].strip()\n",
    "#         except Exception:\n",
    "#             movie['release_date'] = \"\"\n",
    "#     try:\n",
    "#         movie['rating'] = hxs.xpath('//*[@id=\"overview-top\"]/div[3]/div[3]/strong/span/text()')[0]\n",
    "#     except IndexError:\n",
    "#         movie['rating'] = \"\"\n",
    "#     try:\n",
    "#         movie['metascore'] = hxs.xpath('//*[@id=\"overview-top\"]/div[3]/div[3]/a[2]/text()')[0].strip().split('/')[0]\n",
    "#     except IndexError:\n",
    "#         movie['metascore'] = 0\n",
    "#     try:\n",
    "#         movie['description'] = hxs.xpath('//*[@id=\"overview-top\"]/p[2]/text()')[0].strip()\n",
    "#     except IndexError:\n",
    "#         movie['description'] = \"\"\n",
    "#     try:\n",
    "#         movie['director'] = hxs.xpath('//*[@id=\"overview-top\"]/div[4]/a/span/text()')[0].strip()\n",
    "#     except IndexError:\n",
    "#         movie['director'] = \"\"\n",
    "#     try:\n",
    "#         movie['stars'] = hxs.xpath('//*[@id=\"overview-top\"]/div[6]/a/span/text()')\n",
    "#     except IndexError:\n",
    "#         movie['stars'] = \"\"\n",
    "#     try:\n",
    "#         movie['poster'] = hxs.xpath('//*[@id=\"img_primary\"]/div/a/img/@src')[0]\n",
    "#     except IndexError:\n",
    "#         movie['poster'] = \"\"\n",
    "#     try:\n",
    "#         movie['gallery'] = hxs.xpath('//*[@id=\"combined-photos\"]/div/a/img/@src')\n",
    "#     except IndexError:\n",
    "#         movie['gallery'] = \"\"\n",
    "#     try:\n",
    "#         movie['storyline'] = hxs.xpath('//*[@id=\"titleStoryLine\"]/div[1]/p/text()')[0].strip()\n",
    "#     except IndexError:\n",
    "#         movie['storyline'] = \"\"\n",
    "#     try:\n",
    "#         movie['votes'] = hxs.xpath('//*[@id=\"overview-top\"]/div[3]/div[3]/a[1]/span/text()')[0].strip()\n",
    "#     except IndexError:\n",
    "#         movie['votes'] = \"\"\n",
    "#     try:\n",
    "#         movie['country'] = hxs.xpath('//*[(@id = \"titleDetails\")]/div[2]/a/text()')[0]\n",
    "#     except IndexError:\n",
    "#         movie['country'] = \"\"\n",
    "#     try:\n",
    "#         movie['language'] = hxs.xpath('//*[@id=\"titleDetails\"]/div[3]/a/text()')\n",
    "#     except IndexError:\n",
    "#         movie['language'] = []\n",
    "#      try:\n",
    "#         #translate(normalize-space(/tr/td/a), ' ', '')\n",
    "#         movie['budget'] = hxs.xpath('//*[@id=\"titleDetails\"]/div[7]/text()')\n",
    "#     except IndexError:\n",
    "#         movie['budget'] = \"\"  \n",
    "#     try:\n",
    "#         #translate(normalize-space(/tr/td/a), ' ', '')\n",
    "#         movie['opening weekend'] = hxs.xpath('//*[@id=\"titleDetails\"]/div[8]/text()')\n",
    "#     except IndexError:\n",
    "#         movie['opening weekend'] = \"\" \n",
    "    return movie\n",
    "\n",
    "if __name__ == \"__main__\":\n",
    "    ids = 'tt1219827'\n",
    "    print(main(ids))"
   ]
  },
  {
   "cell_type": "code",
   "execution_count": 147,
   "metadata": {
    "collapsed": true
   },
   "outputs": [],
   "source": [
    "import urllib.request\n",
    "import urllib.error\n",
    "import json\n",
    "import datetime\n",
    "import time\n",
    "import sys, os\n",
    "import logging\n",
    "import glob\n",
    "from urllib.error import HTTPError\n",
    "import configparser\n",
    "from configparser import SafeConfigParser"
   ]
  },
  {
   "cell_type": "code",
   "execution_count": 158,
   "metadata": {
    "collapsed": true
   },
   "outputs": [],
   "source": [
    "def getMovieIDs(script_dir):\n",
    "    configFiles = glob.glob(script_dir + '\\Final Project Data\\Movie Details\\*.json')\n",
    "    print(configFiles)\n",
    "    ids =[]\n",
    "    for file in configFiles:\n",
    "        with open (file) as json_file:\n",
    "            json_data = json.load(json_file)\n",
    "            results = json_data['results']\n",
    "            [ids.append(i['id']) for i in results]\n",
    "    return ids"
   ]
  },
  {
   "cell_type": "code",
   "execution_count": 159,
   "metadata": {
    "collapsed": false
   },
   "outputs": [
    {
     "name": "stdout",
     "output_type": "stream",
     "text": [
      "D:\\SEM 2\\Python\\Assignments\\chintha_archana_spring2017\\Question 2\\config\n"
     ]
    }
   ],
   "source": [
    "script_dir = os.getcwd() \n",
    "print(script_dir)\n",
    "#getMovieIDs(script_dir)"
   ]
  }
 ],
 "metadata": {
  "kernelspec": {
   "display_name": "Python [conda root]",
   "language": "python",
   "name": "conda-root-py"
  },
  "language_info": {
   "codemirror_mode": {
    "name": "ipython",
    "version": 3
   },
   "file_extension": ".py",
   "mimetype": "text/x-python",
   "name": "python",
   "nbconvert_exporter": "python",
   "pygments_lexer": "ipython3",
   "version": "3.5.2"
  }
 },
 "nbformat": 4,
 "nbformat_minor": 1
}
