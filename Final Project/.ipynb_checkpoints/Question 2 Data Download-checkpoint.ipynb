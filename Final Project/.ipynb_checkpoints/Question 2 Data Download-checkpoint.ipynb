{
 "cells": [
  {
   "cell_type": "code",
   "execution_count": 2,
   "metadata": {
    "collapsed": false,
    "scrolled": true
   },
   "outputs": [],
   "source": [
    "import urllib.request\n",
    "import urllib.error\n",
    "import json\n",
    "import datetime\n",
    "import time\n",
    "import sys, os\n",
    "import logging\n",
    "import glob\n",
    "from urllib.error import HTTPError\n",
    "import configparser\n",
    "from configparser import SafeConfigParser"
   ]
  },
  {
   "cell_type": "code",
   "execution_count": 25,
   "metadata": {
    "collapsed": true
   },
   "outputs": [],
   "source": [
    "def daterange( start_date, end_date ):\n",
    "    if start_date <= end_date:\n",
    "        for n in range( ( end_date - start_date ).days + 1 ):\n",
    "            yield start_date + datetime.timedelta( n )\n",
    "            \n",
    "    else:\n",
    "        for n in range( ( start_date - end_date ).days + 1 ):\n",
    "            yield start_date - datetime.timedelta( n )\n",
    "            "
   ]
  },
  {
   "cell_type": "code",
   "execution_count": 6,
   "metadata": {
    "collapsed": true
   },
   "outputs": [],
   "source": [
    "def convert(input):\n",
    "    if isinstance(input, dict):\n",
    "        return {convert(key): convert(value) for key, value in input.items()}\n",
    "    elif isinstance(input, list):\n",
    "        return [convert(element) for element in input]\n",
    "    else:\n",
    "        return input"
   ]
  },
  {
   "cell_type": "code",
   "execution_count": 24,
   "metadata": {
    "collapsed": true
   },
   "outputs": [],
   "source": [
    "def getJsonFileName(date, now, page, json_file_path):\n",
    "    json_file_name = (str(date)+'_' + str(now) + '_' + str(page) + '.json')\n",
    "    json_file_name = \"\".join([json_file_path,'\\\\', json_file_name])\n",
    "    return json_file_name"
   ]
  },
  {
   "cell_type": "code",
   "execution_count": 23,
   "metadata": {
    "collapsed": false
   },
   "outputs": [],
   "source": [
    "# get the articles from the NYTimes Article API    \n",
    "def getMovieID(start,end, api_key, json_file_path):\n",
    "    # LOOP THROUGH THE 101 PAGES NYTIMES ALLOWS FOR THAT DATE\n",
    "    for page in range(150): # 5 tries\n",
    "        try:\n",
    "            page = page+1\n",
    "            request_string = \"https://api.themoviedb.org/3/movie/changes?start_date=\"+ str(start) +\"&end_date=\" + str(end) + \"&page=\"+ str(page) +\"&api_key=\" + str(api_key) +\"\"\n",
    "            response = urllib.request.urlopen(request_string)\n",
    "            content = response.read().decode('utf-8')\n",
    "            if content:\n",
    "                movies = convert(json.loads(content))\n",
    "                # if there are movies here\n",
    "                if len(movies[\"results\"]) >= 1:\n",
    "                    now = datetime.datetime.now().strftime(\"%Y-%m-%d-%H-%M-%S\")\n",
    "                    json_file_name = getJsonFileName(end, now, page, json_file_path)\n",
    "                    json_file = open(json_file_name, 'w')\n",
    "                    json_file.write(content)\n",
    "                    json_file.close()\n",
    "                # if no more articles, go to next date\n",
    "                else:\n",
    "                    return\n",
    "            time.sleep(3)\n",
    "        except HTTPError as e:\n",
    "                logging.error(\"HTTPError on page %s on %s (err no. %s: %s) Here's the URL of the call: %s\", page,  e.code, e.reason, request_string)\n",
    "                if e.code == 403:\n",
    "                    print(\"Script hit a snag and got an HTTPError 403. Check your log file for more info.\")\n",
    "                    return\n",
    "                if e.code == 429:\n",
    "                    print (\"Waiting. You've probably reached an API limit.\")\n",
    "                    time.sleep(30) # wait 30 seconds and try again\n",
    "        except: \n",
    "                logging.error(\"Error on %s page %s: %s\",  sys.exc_info()[0])\n",
    "                continue\n"
   ]
  },
  {
   "cell_type": "code",
   "execution_count": 73,
   "metadata": {
    "collapsed": false
   },
   "outputs": [
    {
     "name": "stderr",
     "output_type": "stream",
     "text": [
      "C:\\Users\\chint\\Anaconda3\\lib\\site-packages\\ipykernel\\__main__.py:2: DeprecationWarning: The SafeConfigParser class has been renamed to ConfigParser in Python 3.2. This alias will be removed in future versions. Use ConfigParser directly instead.\n",
      "  from ipykernel import kernelapp as app\n"
     ]
    }
   ],
   "source": [
    "def main():\n",
    "    config = SafeConfigParser()\n",
    "    script_dir = os.getcwd() \n",
    "    config_file = os.path.join(script_dir, 'config\\config.cfg')\n",
    "    config.read(config_file)\n",
    "    json_file_path = config.get('files','json_folder')\n",
    "    log_file = config.get('files','logfile')\n",
    "    api_key = config.get('tmdb','api_key')    \n",
    "    start = datetime.date( year = int(config.get('tmdb','start_year')), month = int(config.get('tmdb','start_month')), day = int(config.get('tmdb','start_day')) )\n",
    "    end = datetime.date( year = int(config.get('tmdb','end_year')), month = int(config.get('tmdb','end_month')), day = int(config.get('tmdb','end_day')) )\n",
    "    logging.basicConfig(filename=log_file, level=logging.INFO)\n",
    "    logging.info(\"Getting started.\") \n",
    "    getMovieID(start,end, api_key, json_file_path)\n",
    "       \n",
    "if __name__ == '__main__' :\n",
    "    main()"
   ]
  },
  {
   "cell_type": "code",
   "execution_count": 74,
   "metadata": {
    "collapsed": false
   },
   "outputs": [],
   "source": [
    "def getMovieIDs(script_dir):\n",
    "    configFiles = glob.glob(script_dir + '\\Final Project Data\\Movie ID\\*.json')\n",
    "    ids =[]\n",
    "    for file in configFiles:\n",
    "        with open (file) as json_file:\n",
    "            json_data = json.load(json_file)\n",
    "            results = json_data['results']\n",
    "            [ids.append(i['id']) for i in results]\n",
    "    return ids"
   ]
  },
  {
   "cell_type": "code",
   "execution_count": 77,
   "metadata": {
    "collapsed": false
   },
   "outputs": [],
   "source": [
    "def getMovieDetails():\n",
    "    config = SafeConfigParser()\n",
    "    script_dir = os.getcwd() \n",
    "    config_file = os.path.join(script_dir, 'config\\config.cfg')\n",
    "    config.read(config_file)\n",
    "    json_file_path = config.get('files','json_folder_details')\n",
    "    api_key = config.get('tmdb','api_key') \n",
    "    ids = getMovieIDs(script_dir)\n",
    "    for ID in ids:\n",
    "        try:\n",
    "            request_string = \"https://api.themoviedb.org/3/movie/\"+str(ID)+\"?api_key=\"+api_key+\"&language=en-US&append_to_response=credits,release_dates,alternative_titles,translations,keywords\"\n",
    "            #print(request_string)\n",
    "            response = urllib.request.urlopen(request_string)\n",
    "            content = response.read().decode('utf-8')\n",
    "            if content:\n",
    "                movies = convert(json.loads(content))\n",
    "                #content = str(movies)\n",
    "                #if there are movies here\n",
    "                if len(movies) >= 1:\n",
    "                    #json_file_name = getJsonFileName(end, now, page, json_file_path)\n",
    "                    json_file_name = (str(ID)+'.json')\n",
    "                    json_file_name = \"\".join([json_file_path,'\\\\', json_file_name])\n",
    "                    json_file = open(json_file_name, 'w', encoding='utf-8')\n",
    "                    json_file.write(content)\n",
    "                    json_file.close()\n",
    "            else:\n",
    "                return\n",
    "            time.sleep(3)\n",
    "        except HTTPError as e:\n",
    "            #logging.error(\"HTTPError on page %s on %s (err no. %s: %s) Here's the URL of the call: %s\", e.code, e.reason, request_string)\n",
    "            if e.code == 404:\n",
    "                print(\"Page is not found\")\n",
    "                continue"
   ]
  },
  {
   "cell_type": "code",
   "execution_count": null,
   "metadata": {
    "collapsed": false
   },
   "outputs": [
    {
     "name": "stderr",
     "output_type": "stream",
     "text": [
      "C:\\Users\\chint\\Anaconda3\\lib\\site-packages\\ipykernel\\__main__.py:2: DeprecationWarning: The SafeConfigParser class has been renamed to ConfigParser in Python 3.2. This alias will be removed in future versions. Use ConfigParser directly instead.\n",
      "  from ipykernel import kernelapp as app\n"
     ]
    },
    {
     "name": "stdout",
     "output_type": "stream",
     "text": [
      "Page is not found\n",
      "Page is not found\n",
      "Page is not found\n",
      "Page is not found\n",
      "Page is not found\n",
      "Page is not found\n",
      "Page is not found\n",
      "Page is not found\n",
      "Page is not found\n",
      "Page is not found\n",
      "Page is not found\n",
      "Page is not found\n",
      "Page is not found\n",
      "Page is not found\n",
      "Page is not found\n",
      "Page is not found\n",
      "Page is not found\n",
      "Page is not found\n",
      "Page is not found\n",
      "Page is not found\n",
      "Page is not found\n",
      "Page is not found\n",
      "Page is not found\n",
      "Page is not found\n",
      "Page is not found\n",
      "Page is not found\n",
      "Page is not found\n",
      "Page is not found\n",
      "Page is not found\n",
      "Page is not found\n",
      "Page is not found\n",
      "Page is not found\n",
      "Page is not found\n",
      "Page is not found\n",
      "Page is not found\n",
      "Page is not found\n",
      "Page is not found\n",
      "Page is not found\n",
      "Page is not found\n",
      "Page is not found\n",
      "Page is not found\n",
      "Page is not found\n",
      "Page is not found\n",
      "Page is not found\n",
      "Page is not found\n",
      "Page is not found\n",
      "Page is not found\n",
      "Page is not found\n",
      "Page is not found\n",
      "Page is not found\n",
      "Page is not found\n",
      "Page is not found\n",
      "Page is not found\n",
      "Page is not found\n",
      "Page is not found\n",
      "Page is not found\n",
      "Page is not found\n",
      "Page is not found\n",
      "Page is not found\n",
      "Page is not found\n",
      "Page is not found\n",
      "Page is not found\n"
     ]
    }
   ],
   "source": [
    "getMovieDetails()"
   ]
  },
  {
   "cell_type": "code",
   "execution_count": null,
   "metadata": {
    "collapsed": true
   },
   "outputs": [],
   "source": [
    "def getMovieIDs(script_dir):\n",
    "    configFiles = glob.glob(script_dir + '\\Final Project Data\\Movie Details\\*.json')\n",
    "    ids =[]\n",
    "    for file in configFiles:\n",
    "        with open (file) as json_file:\n",
    "            json_data = json.load(json_file)\n",
    "            results = json_data['results']\n",
    "            [ids.append(i['id']) for i in results]\n",
    "    return ids"
   ]
  },
  {
   "cell_type": "code",
   "execution_count": null,
   "metadata": {
    "collapsed": true
   },
   "outputs": [],
   "source": []
  }
 ],
 "metadata": {
  "anaconda-cloud": {},
  "kernelspec": {
   "display_name": "Python [conda root]",
   "language": "python",
   "name": "conda-root-py"
  },
  "language_info": {
   "codemirror_mode": {
    "name": "ipython",
    "version": 3
   },
   "file_extension": ".py",
   "mimetype": "text/x-python",
   "name": "python",
   "nbconvert_exporter": "python",
   "pygments_lexer": "ipython3",
   "version": "3.5.2"
  }
 },
 "nbformat": 4,
 "nbformat_minor": 1
}
