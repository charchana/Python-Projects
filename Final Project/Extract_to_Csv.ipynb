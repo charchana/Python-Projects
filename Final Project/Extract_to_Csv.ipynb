{
 "cells": [
  {
   "cell_type": "code",
   "execution_count": 75,
   "metadata": {
    "collapsed": false
   },
   "outputs": [],
   "source": [
    "import os\n",
    "import glob\n",
    "import json\n",
    "import locale\n",
    "import re\n",
    "#locale.setlocale( locale.LC_ALL, 'en_US.UTF-8' ) "
   ]
  },
  {
   "cell_type": "code",
   "execution_count": 76,
   "metadata": {
    "collapsed": false
   },
   "outputs": [],
   "source": [
    "rootPath=os.getcwd()\n",
    "imdbMovie_path=\"Final Project Data\\IMDB Movies\"\n",
    "path_for_Data = os.path.join(rootPath,imdbMovie_path) # we are joining the old with new value to form a new path "
   ]
  },
  {
   "cell_type": "code",
   "execution_count": 77,
   "metadata": {
    "collapsed": false
   },
   "outputs": [],
   "source": [
    "# we are specifing the file type on which we are going to work on\n",
    "filetype = \"*.json\""
   ]
  },
  {
   "cell_type": "code",
   "execution_count": 78,
   "metadata": {
    "collapsed": false
   },
   "outputs": [],
   "source": [
    "csvFilePath = \"Final Project Data\\IMDB_Movies_Csv\"\n",
    "csvCreationPath = os.path.join(rootPath,csvFilePath) # we are joining the old with new value to form a new path \n",
    "        \n",
    "csv_File_name = os.path.join(csvCreationPath,\"IMDB_Movies.csv\") # we are joining the old with new value to form a new path \n",
    "csv_gross_path = os.path.join(csvCreationPath, \"Movies_Gross.csv\") "
   ]
  },
  {
   "cell_type": "code",
   "execution_count": 79,
   "metadata": {
    "collapsed": true
   },
   "outputs": [],
   "source": [
    "with open (csv_File_name,'a+') as outputfile1:\n",
    "    outputfile1.write(\"IMDB_ID,Title,Year,Release_Date,Runtime,UrlPoster,Genres,Rating,Rated,Votes\\n\")"
   ]
  },
  {
   "cell_type": "code",
   "execution_count": 86,
   "metadata": {
    "collapsed": true
   },
   "outputs": [],
   "source": [
    "with open (csv_gross_path,'a+') as outputfile1:\n",
    "    outputfile1.write(\"IMDB_ID,Title,Rating,Budget,Gross,Year,Country\\n\")"
   ]
  },
  {
   "cell_type": "code",
   "execution_count": 81,
   "metadata": {
    "collapsed": false
   },
   "outputs": [],
   "source": [
    "movieFiles = glob.glob(os.path.join(path_for_Data,filetype))\n",
    "test = movieFiles[1:10]\n",
    "#test"
   ]
  },
  {
   "cell_type": "code",
   "execution_count": 82,
   "metadata": {
    "collapsed": true
   },
   "outputs": [],
   "source": [
    "def parse_genres(genres):\n",
    "    if not genres:\n",
    "        return \"Null\"\n",
    "    return \"|\".join([g.strip() for g in sorted(genres)])"
   ]
  },
  {
   "cell_type": "code",
   "execution_count": 83,
   "metadata": {
    "collapsed": true
   },
   "outputs": [],
   "source": [
    "def parse_price(price):\n",
    "    # eg: u'$237,000,000' --> 237000000\n",
    "    if not price:\n",
    "        return 0\n",
    "    return float(re.sub(r'[^0-9.]', '', price))\n"
   ]
  },
  {
   "cell_type": "code",
   "execution_count": 84,
   "metadata": {
    "collapsed": false
   },
   "outputs": [],
   "source": [
    "for file in movieFiles:# using glob to scan the directory \n",
    "        with open(file, encoding='utf-8') as json_file:# we are reading the file \n",
    "            json_data = json.load(json_file) # reading the json data\n",
    "            #print(json_data)\n",
    "            movies = json_data[\"data\"]['movies']\n",
    "            for d in movies:\n",
    "                imdb_id= \"NULL\" if d['idIMDB'] is \"NULL\" or len(d['idIMDB']) == 0 else d['idIMDB'].replace(\",\",'')\n",
    "                if \"title\" in d:\n",
    "                    title= \"NULL\" if d['title'] is \"NULL\" or len(d['title']) == 0 else str(d['title']).replace(\",\",'')\n",
    "                else:\n",
    "                    title = \"NULL\"\n",
    "                if \"year\" in d:\n",
    "                    year= \"NULL\" if d['year'] is \"NULL\" or len(d['year']) == 0 else d['year'].replace(\",\",'')\n",
    "                else:\n",
    "                    year = \"NULL\"\n",
    "                if \"releaseDate\" in d:\n",
    "                    release_date = \"NULL\" if d['releaseDate'] is \"NULL\" or len(d['releaseDate']) == 0 else d['releaseDate'].replace(\",\",'')\n",
    "                else:\n",
    "                    release_date = \"NULL\"\n",
    "                if \"runtime\" in d:\n",
    "                    runtime = \"NULL\" if d['runtime'] is \"NULL\" or len(d['runtime']) == 0 else d['runtime'].replace(\",\",'')\n",
    "                else:\n",
    "                    runtime = 0\n",
    "                if \"urlPoster\" in d:\n",
    "                    urlPoster = \"NULL\" if d['urlPoster'] is \"NULL\" or len(d['urlPoster']) == 0 else d['urlPoster'].replace(\",\",'')\n",
    "                else:\n",
    "                    urlPoster = \"NULL\"\n",
    "                genre = parse_genres(d['genres'])\n",
    "                if \"rating\" in d:\n",
    "                    rating = \"NULL\" if d['rating'] is \"NULL\" or len(d['rating']) == 0 else d['rating'].replace(\",\",'')\n",
    "                else:\n",
    "                    rating = 0\n",
    "                if \"rated\" in d:\n",
    "                    rated = \"NULL\" if d['rated'] is \"NULL\" or len(d['rated']) == 0 else d['rated'].replace(\",\",'')\n",
    "                else:\n",
    "                    rated = \"NULL\"\n",
    "                if \"votes\" in d:\n",
    "                    votes = \"NULL\" if d['votes'] is \"NULL\" or len(d['votes']) == 0 else d['votes'].replace(\",\",'')\n",
    "                else:\n",
    "                    votes = 0\n",
    "                with open (csv_File_name,'a+') as outputfile1:\n",
    "                    outputfile1.write(str(imdb_id)+','+str(title)+','+str(year)+','+str(release_date)+','+str(runtime)+','+str(urlPoster)+','+str(genre)+','+str(rating)+','+str(rated)+','+str(votes)+\"\\n\")\n",
    "\n"
   ]
  },
  {
   "cell_type": "code",
   "execution_count": 87,
   "metadata": {
    "collapsed": false
   },
   "outputs": [],
   "source": [
    "counter = 0\n",
    "for file in movieFiles:# using glob to scan the directory \n",
    "        with open(file, encoding='utf-8') as json_file:# we are reading the file \n",
    "            json_data = json.load(json_file) # reading the json data\n",
    "            #print(json_data)\n",
    "            movies = json_data[\"data\"]['movies']\n",
    "            #print(movies)\n",
    "            for d in movies:\n",
    "                if \"business\" in d:\n",
    "                    imdb_id= \"NULL\" if d['idIMDB'] is \"NULL\" or len(d['idIMDB']) == 0 else d['idIMDB'].replace(\",\",'')\n",
    "                    business = d['business']\n",
    "                    budget= None if business['budget'] is None or len(business['budget']) == 0 else parse_price(business['budget']['money']) \n",
    "                    gross = business['gross']\n",
    "                    if \"rating\" in d:\n",
    "                        rating = \"NULL\" if d['rating'] is \"NULL\" or len(d['rating']) == 0 else d['rating'].replace(\",\",'')\n",
    "                    else:\n",
    "                        rating = 0\n",
    "                    if \"title\" in d:\n",
    "                        title= \"NULL\" if d['title'] is \"NULL\" or len(d['title']) == 0 else str(d['title']).replace(\",\",'')\n",
    "                    else:\n",
    "                        title = \"NULL\"\n",
    "                        \n",
    "                    \n",
    "                    #print(d['idIMDB'])\n",
    "                    #print(gross)\n",
    "                    if gross != None:\n",
    "                        for g in gross:\n",
    "                            #print(g)\n",
    "                            if \"money\" in g:\n",
    "                                a = g['money']\n",
    "                                money = None if g['money'] is None or len(g['money']) == 0 or g['money'] == '' else parse_price(g['money']) if g['money'][-1].isdigit() else 0\n",
    "                            else:\n",
    "                                money = 0\n",
    "        \n",
    "                            if \"year\" in g:\n",
    "                                year = None if g['year'] is None or g['year']==\"\" or len(g['year']) == 0 else g['year']\n",
    "                            else:\n",
    "                                year = \"NULL\"\n",
    "                            #print(\"Year\", year)\n",
    "                            if \"country\" in g:\n",
    "                                country = None if g['country'] is None or len(g['country']) == 0 else parse_price(g['country']) if g['country'][-1].isdigit() else g['country']\n",
    "                                #print(\"parsed\", country, str(country))\n",
    "                                if str(country)[-1].isdigit():\n",
    "                                    #print(\"entering\",money)\n",
    "                                    money = country\n",
    "                                    country = \"USA\"\n",
    "                            else:\n",
    "                                country = \"NULL\"\n",
    "                            #IMDB_ID, Rating, Budget, Gross, Year, Country\n",
    "                            with open (csv_gross_path,'a+') as outputfile1:\n",
    "                                outputfile1.write(str(imdb_id)+','+str(title)+','+str(rating)+','+str(budget)+','+str(money)+','+str(year)+','+str(country)+\"\\n\")\n",
    "                            #print(\"Country\",country)\n",
    "                            #print(\"Money\",money)"
   ]
  },
  {
   "cell_type": "code",
   "execution_count": null,
   "metadata": {
    "collapsed": true
   },
   "outputs": [],
   "source": []
  }
 ],
 "metadata": {
  "anaconda-cloud": {},
  "kernelspec": {
   "display_name": "Python [conda root]",
   "language": "python",
   "name": "conda-root-py"
  },
  "language_info": {
   "codemirror_mode": {
    "name": "ipython",
    "version": 3
   },
   "file_extension": ".py",
   "mimetype": "text/x-python",
   "name": "python",
   "nbconvert_exporter": "python",
   "pygments_lexer": "ipython3",
   "version": "3.5.2"
  }
 },
 "nbformat": 4,
 "nbformat_minor": 1
}
