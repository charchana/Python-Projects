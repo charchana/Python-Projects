{
 "cells": [
  {
   "cell_type": "markdown",
   "metadata": {},
   "source": [
    "# Question 8\n",
    "- Use nps_chat and wordlist corpus.\n",
    "- If you find a word in nps_chat but not in wordlist, it is considered an unusual word. (e.g. Heyyyy, gr8, 4ever can be considered unusual words for this analysis)\n",
    "- Find out how many unusual words people speak in chat (notice: usernames should not be counted)\n",
    "- Bonus: What if I want to  count : ) , : ( all these emoticons in. (optional)"
   ]
  },
  {
   "cell_type": "code",
   "execution_count": 297,
   "metadata": {
    "collapsed": true
   },
   "outputs": [],
   "source": [
    "import nltk"
   ]
  },
  {
   "cell_type": "code",
   "execution_count": 298,
   "metadata": {
    "collapsed": false
   },
   "outputs": [],
   "source": [
    "from nltk.corpus import nps_chat as nps\n",
    "from nltk.corpus import words as wordList"
   ]
  },
  {
   "cell_type": "code",
   "execution_count": 299,
   "metadata": {
    "collapsed": false
   },
   "outputs": [],
   "source": [
    "# getting all the posts \n",
    "words = []\n",
    "posts = nltk.corpus.nps_chat.xml_posts()"
   ]
  },
  {
   "cell_type": "code",
   "execution_count": 363,
   "metadata": {
    "collapsed": false
   },
   "outputs": [],
   "source": [
    "import lxml.etree # for reading xml\n",
    "import xml.etree.ElementTree as ET # for getting attributes of xml"
   ]
  },
  {
   "cell_type": "code",
   "execution_count": 301,
   "metadata": {
    "collapsed": false
   },
   "outputs": [],
   "source": [
    "L= []\n",
    "for p in posts: # looping the list of posts \n",
    "    xmlstr = ET.tostring(p, encoding='utf8', method='xml') # converting th epost to string\n",
    "    L.append(xmlstr) # storing in the list"
   ]
  },
  {
   "cell_type": "code",
   "execution_count": 348,
   "metadata": {
    "collapsed": false,
    "scrolled": true
   },
   "outputs": [
    {
     "data": {
      "text/plain": [
       "45010"
      ]
     },
     "execution_count": 348,
     "metadata": {},
     "output_type": "execute_result"
    }
   ],
   "source": [
    "chatWords = []\n",
    "for xml in L: # looping the list of string posts\n",
    "    root = lxml.etree.fromstring(xml) # getting the root element\n",
    "    for terminals in root.findall('terminals'): # looping the to find all the terminal tag\n",
    "      parent = terminals.findall('t') # getting the value of t tag \n",
    "      [chatWords.append(chats.get('word')) for chats in parent] # storing in the list to get the chat words\n",
    "len(chatWords)"
   ]
  },
  {
   "cell_type": "code",
   "execution_count": 353,
   "metadata": {
    "collapsed": false
   },
   "outputs": [
    {
     "name": "stdout",
     "output_type": "stream",
     "text": [
      "The number of users in the chat words: 3483\n"
     ]
    }
   ],
   "source": [
    "a = []\n",
    "for w in chatWords: # looping the chat words to filter the user names from char words \n",
    "    if ((w[6:9] == '20s') or (w[6:9] == '30s') or (w[6:9] == '40s') or (w[6:9] == 'tee') or (w[6:9] == 'adu')):\n",
    "        a.append(w) # storing the user names in a list\n",
    "print(\"The number of users in the chat words:\", len(a))"
   ]
  },
  {
   "cell_type": "code",
   "execution_count": 354,
   "metadata": {
    "collapsed": false
   },
   "outputs": [],
   "source": [
    "for i in a : # looping the users list\n",
    "    if i in chatWords: # checking whether the user is present in chat words\n",
    "        chatWords.remove(i) # if true removing the users from the list"
   ]
  },
  {
   "cell_type": "code",
   "execution_count": 355,
   "metadata": {
    "collapsed": false
   },
   "outputs": [
    {
     "data": {
      "text/plain": [
       "['en', 'en-basic']"
      ]
     },
     "execution_count": 355,
     "metadata": {},
     "output_type": "execute_result"
    }
   ],
   "source": [
    "wordList.fileids()  # getting the files of wordlist"
   ]
  },
  {
   "cell_type": "code",
   "execution_count": 356,
   "metadata": {
    "collapsed": false
   },
   "outputs": [
    {
     "name": "stdout",
     "output_type": "stream",
     "text": [
      "Total chatwords without user name : 41527\n"
     ]
    }
   ],
   "source": [
    "# converting the chat words to lower case:\n",
    "chatLower =[]\n",
    "for c in chatWords:\n",
    "    chatLower.append(c.lower())\n",
    "print(\"Total chatwords without user name :\",len(chatLower))"
   ]
  },
  {
   "cell_type": "code",
   "execution_count": 357,
   "metadata": {
    "collapsed": false
   },
   "outputs": [],
   "source": [
    "setOfWords = wordList.words() # getting the words of the wordlist"
   ]
  },
  {
   "cell_type": "code",
   "execution_count": 358,
   "metadata": {
    "collapsed": false
   },
   "outputs": [
    {
     "name": "stdout",
     "output_type": "stream",
     "text": [
      "Total words in wordList: 236736\n"
     ]
    }
   ],
   "source": [
    "setOfWordsLower =[]\n",
    "for w in setOfWords:\n",
    "    setOfWordsLower.append(c.lower())\n",
    "print(\"Total words in wordList:\", len(setOfWordsLower))"
   ]
  },
  {
   "cell_type": "code",
   "execution_count": 359,
   "metadata": {
    "collapsed": false
   },
   "outputs": [
    {
     "name": "stdout",
     "output_type": "stream",
     "text": [
      "Total unusual words in chat is: 40259\n"
     ]
    }
   ],
   "source": [
    "unusualWords = []\n",
    "for u in chatLower: # looping thw wordlist to get unusual words \n",
    "    if u not in setOfWordsLower: # checking whether the word is present in the chat words\n",
    "         unusualWords.append(u)\n",
    "print(\"Total unusual words in chat is:\", len(unusualWords))"
   ]
  },
  {
   "cell_type": "code",
   "execution_count": 360,
   "metadata": {
    "collapsed": false
   },
   "outputs": [
    {
     "name": "stdout",
     "output_type": "stream",
     "text": [
      "Total number of unique unusual words people speak in chat are 5273\n"
     ]
    }
   ],
   "source": [
    "# displaying the number of unique unusual words\n",
    "l = set(unusualWords)\n",
    "print('Total number of unique unusual words people speak in chat are', len(l))"
   ]
  },
  {
   "cell_type": "code",
   "execution_count": 361,
   "metadata": {
    "collapsed": false
   },
   "outputs": [
    {
     "name": "stdout",
     "output_type": "stream",
     "text": [
      "Smiley\tFrequency\n",
      ":) \t 101\n",
      ":( \t 9\n",
      ";) \t 29\n",
      ":@ \t 1\n",
      ":o \t 4\n",
      ":-) \t 27\n",
      ":-( \t 4\n",
      ";-) \t 20\n",
      ":-@ \t 4\n",
      "-_- \t 1\n"
     ]
    }
   ],
   "source": [
    "# removing smileys for bonus points\n",
    "smilyList = [':)',':(', ';)',':@',';P',':P', ':o',':-)',':-(',';-)',':-@','-_-'] #manually a list created for smiley\n",
    "print(\"Smiley\\tFrequency\")\n",
    "for smile in smilyList:\n",
    "    if smile in unusualWords: # frequency of smiley occuring in chat words\n",
    "        print(smile, \"\\t\", unusualWords.count(smile))"
   ]
  },
  {
   "cell_type": "code",
   "execution_count": 362,
   "metadata": {
    "collapsed": false
   },
   "outputs": [
    {
     "name": "stdout",
     "output_type": "stream",
     "text": [
      "Chat words without smileys : 5263\n"
     ]
    }
   ],
   "source": [
    "finalList = [] \n",
    "for s in l:\n",
    "    if s not in smilyList: # removing the smiley from the unique chat word list in total 10 smiley is removed\n",
    "        finalList.append(s)\n",
    "print(\"Chat words without smileys :\", len(finalList))"
   ]
  },
  {
   "cell_type": "code",
   "execution_count": null,
   "metadata": {
    "collapsed": true
   },
   "outputs": [],
   "source": []
  }
 ],
 "metadata": {
  "anaconda-cloud": {},
  "kernelspec": {
   "display_name": "Python [conda root]",
   "language": "python",
   "name": "conda-root-py"
  },
  "language_info": {
   "codemirror_mode": {
    "name": "ipython",
    "version": 3
   },
   "file_extension": ".py",
   "mimetype": "text/x-python",
   "name": "python",
   "nbconvert_exporter": "python",
   "pygments_lexer": "ipython3",
   "version": "3.5.2"
  }
 },
 "nbformat": 4,
 "nbformat_minor": 1
}
